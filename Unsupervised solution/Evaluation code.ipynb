{
 "cells": [
  {
   "cell_type": "markdown",
   "id": "fe36882a",
   "metadata": {
    "papermill": {
     "duration": 0.00783,
     "end_time": "2022-12-08T04:00:46.099949",
     "exception": false,
     "start_time": "2022-12-08T04:00:46.092119",
     "status": "completed"
    },
    "tags": []
   },
   "source": [
    "# Bias Buccaneers Image Recognition Challenge: Unsupervised Solution"
   ]
  },
  {
   "cell_type": "code",
   "execution_count": 1,
   "id": "07f3a7cf",
   "metadata": {
    "execution": {
     "iopub.execute_input": "2022-12-08T04:00:46.115433Z",
     "iopub.status.busy": "2022-12-08T04:00:46.114562Z",
     "iopub.status.idle": "2022-12-08T04:00:48.109607Z",
     "shell.execute_reply": "2022-12-08T04:00:48.108437Z"
    },
    "papermill": {
     "duration": 2.006591,
     "end_time": "2022-12-08T04:00:48.113047",
     "exception": false,
     "start_time": "2022-12-08T04:00:46.106456",
     "status": "completed"
    },
    "tags": []
   },
   "outputs": [],
   "source": [
    "#import required libraries\n",
    "import os\n",
    "import numpy as np\n",
    "import pandas as pd\n",
    "import matplotlib.pyplot as plt\n",
    "import PIL.Image as Image\n",
    "\n",
    "import torch\n",
    "import torch.nn as nn\n",
    "from torch.utils.data import Dataset, DataLoader\n",
    "import torchvision\n",
    "from torchvision import transforms"
   ]
  },
  {
   "cell_type": "code",
   "execution_count": 2,
   "id": "743a2819",
   "metadata": {
    "execution": {
     "iopub.execute_input": "2022-12-08T04:00:48.135716Z",
     "iopub.status.busy": "2022-12-08T04:00:48.134849Z",
     "iopub.status.idle": "2022-12-08T04:00:48.207300Z",
     "shell.execute_reply": "2022-12-08T04:00:48.206159Z"
    },
    "papermill": {
     "duration": 0.086191,
     "end_time": "2022-12-08T04:00:48.209939",
     "exception": false,
     "start_time": "2022-12-08T04:00:48.123748",
     "status": "completed"
    },
    "tags": []
   },
   "outputs": [
    {
     "name": "stdout",
     "output_type": "stream",
     "text": [
      "cuda\n"
     ]
    }
   ],
   "source": [
    "device = torch.device('cuda' if torch.cuda.is_available() else 'cpu')\n",
    "print(device)"
   ]
  },
  {
   "cell_type": "markdown",
   "id": "423b2607",
   "metadata": {
    "papermill": {
     "duration": 0.010089,
     "end_time": "2022-12-08T04:00:48.229884",
     "exception": false,
     "start_time": "2022-12-08T04:00:48.219795",
     "status": "completed"
    },
    "tags": []
   },
   "source": [
    "## Prepare the data"
   ]
  },
  {
   "cell_type": "markdown",
   "id": "98a0d2a8",
   "metadata": {
    "papermill": {
     "duration": 0.009985,
     "end_time": "2022-12-08T04:00:48.250263",
     "exception": false,
     "start_time": "2022-12-08T04:00:48.240278",
     "status": "completed"
    },
    "tags": []
   },
   "source": [
    "### Data Pre-processing"
   ]
  },
  {
   "cell_type": "code",
   "execution_count": 3,
   "id": "920e8db6",
   "metadata": {
    "execution": {
     "iopub.execute_input": "2022-12-08T04:00:48.274242Z",
     "iopub.status.busy": "2022-12-08T04:00:48.273740Z",
     "iopub.status.idle": "2022-12-08T04:00:48.300531Z",
     "shell.execute_reply": "2022-12-08T04:00:48.299419Z"
    },
    "papermill": {
     "duration": 0.043485,
     "end_time": "2022-12-08T04:00:48.303821",
     "exception": false,
     "start_time": "2022-12-08T04:00:48.260336",
     "status": "completed"
    },
    "tags": []
   },
   "outputs": [],
   "source": [
    "dataset_path = \"/kaggle/input/bias-buccaneers\"\n",
    "test_df = pd.read_csv(f\"{dataset_path}/test/labels.csv\")"
   ]
  },
  {
   "cell_type": "code",
   "execution_count": 4,
   "id": "0a284202",
   "metadata": {
    "execution": {
     "iopub.execute_input": "2022-12-08T04:00:48.332421Z",
     "iopub.status.busy": "2022-12-08T04:00:48.332048Z",
     "iopub.status.idle": "2022-12-08T04:00:48.337761Z",
     "shell.execute_reply": "2022-12-08T04:00:48.336682Z"
    },
    "papermill": {
     "duration": 0.02187,
     "end_time": "2022-12-08T04:00:48.340389",
     "exception": false,
     "start_time": "2022-12-08T04:00:48.318519",
     "status": "completed"
    },
    "tags": []
   },
   "outputs": [
    {
     "name": "stdout",
     "output_type": "stream",
     "text": [
      "['skin_tone', 'gender', 'age']\n"
     ]
    }
   ],
   "source": [
    "categories = test_df.columns[1:].tolist()\n",
    "print(categories)"
   ]
  },
  {
   "cell_type": "code",
   "execution_count": 5,
   "id": "f6c90998",
   "metadata": {
    "execution": {
     "iopub.execute_input": "2022-12-08T04:00:48.356594Z",
     "iopub.status.busy": "2022-12-08T04:00:48.355846Z",
     "iopub.status.idle": "2022-12-08T04:00:48.361018Z",
     "shell.execute_reply": "2022-12-08T04:00:48.359957Z"
    },
    "papermill": {
     "duration": 0.015472,
     "end_time": "2022-12-08T04:00:48.363148",
     "exception": false,
     "start_time": "2022-12-08T04:00:48.347676",
     "status": "completed"
    },
    "tags": []
   },
   "outputs": [],
   "source": [
    "skin_tone_labels = [f\"monk_{i}\" for i in range(1,11)]\n",
    "gender_labels = [\"male\", \"female\"]\n",
    "age_labels = [\"0_17\", \"18_30\", \"31_60\", \"61_100\"]"
   ]
  },
  {
   "cell_type": "code",
   "execution_count": 6,
   "id": "b1187acb",
   "metadata": {
    "execution": {
     "iopub.execute_input": "2022-12-08T04:00:48.377510Z",
     "iopub.status.busy": "2022-12-08T04:00:48.377250Z",
     "iopub.status.idle": "2022-12-08T04:00:48.395277Z",
     "shell.execute_reply": "2022-12-08T04:00:48.394319Z"
    },
    "papermill": {
     "duration": 0.02771,
     "end_time": "2022-12-08T04:00:48.397439",
     "exception": false,
     "start_time": "2022-12-08T04:00:48.369729",
     "status": "completed"
    },
    "tags": []
   },
   "outputs": [],
   "source": [
    "#encode test samples\n",
    "test_df['skin_tone'].replace(skin_tone_labels, list(range(len(skin_tone_labels))), inplace=True)\n",
    "test_df['gender'].replace(gender_labels, list(range(len(gender_labels))), inplace=True)\n",
    "test_df['age'].replace(age_labels, list(range(len(age_labels))), inplace=True)"
   ]
  },
  {
   "cell_type": "markdown",
   "id": "47cbf1d4",
   "metadata": {
    "papermill": {
     "duration": 0.006408,
     "end_time": "2022-12-08T04:00:48.410653",
     "exception": false,
     "start_time": "2022-12-08T04:00:48.404245",
     "status": "completed"
    },
    "tags": []
   },
   "source": [
    "### Building the Dataset"
   ]
  },
  {
   "cell_type": "code",
   "execution_count": 7,
   "id": "c80db857",
   "metadata": {
    "execution": {
     "iopub.execute_input": "2022-12-08T04:00:48.426052Z",
     "iopub.status.busy": "2022-12-08T04:00:48.425161Z",
     "iopub.status.idle": "2022-12-08T04:00:48.434180Z",
     "shell.execute_reply": "2022-12-08T04:00:48.433300Z"
    },
    "papermill": {
     "duration": 0.018695,
     "end_time": "2022-12-08T04:00:48.436237",
     "exception": false,
     "start_time": "2022-12-08T04:00:48.417542",
     "status": "completed"
    },
    "tags": []
   },
   "outputs": [],
   "source": [
    "class ImageDataset(Dataset):\n",
    "    def __init__(self, df, data_path, image_transform):\n",
    "        self.df = df\n",
    "        self.data_path = data_path\n",
    "        self.image_transform = image_transform\n",
    "\n",
    "    def __len__(self):\n",
    "        return len(self.df)\n",
    "    \n",
    "    def __getitem__(self, index):\n",
    "        img = Image.open(f\"{self.data_path}{self.df['name'][index]}\")\n",
    "        if self.image_transform:\n",
    "            img = self.image_transform(img)\n",
    "\n",
    "        #we need to provide labels for skin_tone, gender, age\n",
    "        labels = (self.df['skin_tone'][index], self.df['gender'][index], self.df['age'][index])\n",
    "        return img, labels"
   ]
  },
  {
   "cell_type": "markdown",
   "id": "dfa85c46",
   "metadata": {
    "papermill": {
     "duration": 0.006989,
     "end_time": "2022-12-08T04:00:48.449842",
     "exception": false,
     "start_time": "2022-12-08T04:00:48.442853",
     "status": "completed"
    },
    "tags": []
   },
   "source": [
    "## Helper functions"
   ]
  },
  {
   "cell_type": "code",
   "execution_count": 8,
   "id": "d6a222b9",
   "metadata": {
    "execution": {
     "iopub.execute_input": "2022-12-08T04:00:48.465073Z",
     "iopub.status.busy": "2022-12-08T04:00:48.464157Z",
     "iopub.status.idle": "2022-12-08T04:00:48.471052Z",
     "shell.execute_reply": "2022-12-08T04:00:48.470176Z"
    },
    "papermill": {
     "duration": 0.016549,
     "end_time": "2022-12-08T04:00:48.473091",
     "exception": false,
     "start_time": "2022-12-08T04:00:48.456542",
     "status": "completed"
    },
    "tags": []
   },
   "outputs": [],
   "source": [
    "def extract_features(dataset:torch.utils.data.Dataset, feature_extractor:torch.nn.Module):\n",
    "    features = []\n",
    "    num_samples = len(dataset)\n",
    "    for i in range(num_samples):\n",
    "        img,_ = dataset[i]\n",
    "        img = img.unsqueeze(0)\n",
    "        img = img.to(device)\n",
    "        img = feature_extractor(img)\n",
    "        img = torch.reshape(img, (-1,))\n",
    "        img = img.detach().cpu().numpy()\n",
    "        features.append(img)\n",
    "    return np.array(features)"
   ]
  },
  {
   "cell_type": "code",
   "execution_count": 9,
   "id": "86a4c9bd",
   "metadata": {
    "execution": {
     "iopub.execute_input": "2022-12-08T04:00:48.488234Z",
     "iopub.status.busy": "2022-12-08T04:00:48.487632Z",
     "iopub.status.idle": "2022-12-08T04:00:48.492289Z",
     "shell.execute_reply": "2022-12-08T04:00:48.491294Z"
    },
    "papermill": {
     "duration": 0.01437,
     "end_time": "2022-12-08T04:00:48.494454",
     "exception": false,
     "start_time": "2022-12-08T04:00:48.480084",
     "status": "completed"
    },
    "tags": []
   },
   "outputs": [],
   "source": [
    "def make_predictions(data_features, model):\n",
    "    predictions = model.predict(data_features)\n",
    "    return predictions"
   ]
  },
  {
   "cell_type": "code",
   "execution_count": 10,
   "id": "2fed670e",
   "metadata": {
    "execution": {
     "iopub.execute_input": "2022-12-08T04:00:48.509914Z",
     "iopub.status.busy": "2022-12-08T04:00:48.508410Z",
     "iopub.status.idle": "2022-12-08T04:00:48.515596Z",
     "shell.execute_reply": "2022-12-08T04:00:48.514679Z"
    },
    "papermill": {
     "duration": 0.016495,
     "end_time": "2022-12-08T04:00:48.517571",
     "exception": false,
     "start_time": "2022-12-08T04:00:48.501076",
     "status": "completed"
    },
    "tags": []
   },
   "outputs": [],
   "source": [
    "# Since K-Means Does not know about our labels we have to change labels of k-means according to our usage\n",
    "\n",
    "# mapping labels from cluster to original labels\n",
    "def get_reference_dict(clusters,data_label):\n",
    "    reference_label = {}\n",
    "    # For loop to run through each label of cluster label\n",
    "    for i in range(len(np.unique(clusters))):\n",
    "        index = np.where(clusters == i,1,0)\n",
    "        num = np.bincount(data_label[index==1]).argmax()\n",
    "        reference_label[i] = num\n",
    "    return reference_label\n",
    "\n",
    "# Mapping predictions to original labels\n",
    "def get_labels(clusters,refernce_labels):\n",
    "    temp_labels = np.random.rand(len(clusters))\n",
    "    for i in range(len(clusters)):\n",
    "        temp_labels[i] = reference_labels[clusters[i]]\n",
    "    return temp_labels"
   ]
  },
  {
   "cell_type": "markdown",
   "id": "345fd654",
   "metadata": {
    "papermill": {
     "duration": 0.006329,
     "end_time": "2022-12-08T04:00:48.530524",
     "exception": false,
     "start_time": "2022-12-08T04:00:48.524195",
     "status": "completed"
    },
    "tags": []
   },
   "source": [
    "## Extract features using Resnet"
   ]
  },
  {
   "cell_type": "code",
   "execution_count": 11,
   "id": "a21a8f3b",
   "metadata": {
    "execution": {
     "iopub.execute_input": "2022-12-08T04:00:48.546121Z",
     "iopub.status.busy": "2022-12-08T04:00:48.544617Z",
     "iopub.status.idle": "2022-12-08T04:00:48.550006Z",
     "shell.execute_reply": "2022-12-08T04:00:48.549034Z"
    },
    "papermill": {
     "duration": 0.014848,
     "end_time": "2022-12-08T04:00:48.552031",
     "exception": false,
     "start_time": "2022-12-08T04:00:48.537183",
     "status": "completed"
    },
    "tags": []
   },
   "outputs": [],
   "source": [
    "from torchvision.models import resnet18"
   ]
  },
  {
   "cell_type": "code",
   "execution_count": 12,
   "id": "d8dd4ce3",
   "metadata": {
    "execution": {
     "iopub.execute_input": "2022-12-08T04:00:48.567283Z",
     "iopub.status.busy": "2022-12-08T04:00:48.566498Z",
     "iopub.status.idle": "2022-12-08T04:00:48.572317Z",
     "shell.execute_reply": "2022-12-08T04:00:48.571345Z"
    },
    "papermill": {
     "duration": 0.015771,
     "end_time": "2022-12-08T04:00:48.574376",
     "exception": false,
     "start_time": "2022-12-08T04:00:48.558605",
     "status": "completed"
    },
    "tags": []
   },
   "outputs": [],
   "source": [
    "class Feature_Extractor(nn.Module):\n",
    "    def __init__(self):\n",
    "        super().__init__()\n",
    "        self.model = torchvision.models.alexnet(pretrained=True)\n",
    "        #self.model.avgpool = nn.Identity()\n",
    "        self.model.classifier = nn.Identity()\n",
    "    def forward(self, x):\n",
    "        x = self.model(x)\n",
    "        x = torch.reshape(x, (-1,))\n",
    "        return x"
   ]
  },
  {
   "cell_type": "code",
   "execution_count": 13,
   "id": "3fbd16ea",
   "metadata": {
    "execution": {
     "iopub.execute_input": "2022-12-08T04:00:48.589524Z",
     "iopub.status.busy": "2022-12-08T04:00:48.588660Z",
     "iopub.status.idle": "2022-12-08T04:01:06.600723Z",
     "shell.execute_reply": "2022-12-08T04:01:06.599707Z"
    },
    "papermill": {
     "duration": 18.022013,
     "end_time": "2022-12-08T04:01:06.603323",
     "exception": false,
     "start_time": "2022-12-08T04:00:48.581310",
     "status": "completed"
    },
    "tags": []
   },
   "outputs": [
    {
     "name": "stderr",
     "output_type": "stream",
     "text": [
      "Downloading: \"https://download.pytorch.org/models/alexnet-owt-7be5be79.pth\" to /root/.cache/torch/hub/checkpoints/alexnet-owt-7be5be79.pth\n"
     ]
    },
    {
     "data": {
      "application/vnd.jupyter.widget-view+json": {
       "model_id": "697d6ec6f4744e909aa258bff62e80bc",
       "version_major": 2,
       "version_minor": 0
      },
      "text/plain": [
       "  0%|          | 0.00/233M [00:00<?, ?B/s]"
      ]
     },
     "metadata": {},
     "output_type": "display_data"
    }
   ],
   "source": [
    "feature_extractor = Feature_Extractor().to(device)"
   ]
  },
  {
   "cell_type": "markdown",
   "id": "74f9fc03",
   "metadata": {
    "papermill": {
     "duration": 0.006672,
     "end_time": "2022-12-08T04:01:06.617435",
     "exception": false,
     "start_time": "2022-12-08T04:01:06.610763",
     "status": "completed"
    },
    "tags": []
   },
   "source": [
    "## Load the Model"
   ]
  },
  {
   "cell_type": "code",
   "execution_count": 14,
   "id": "a7a037ca",
   "metadata": {
    "execution": {
     "iopub.execute_input": "2022-12-08T04:01:06.632611Z",
     "iopub.status.busy": "2022-12-08T04:01:06.632258Z",
     "iopub.status.idle": "2022-12-08T04:01:06.636986Z",
     "shell.execute_reply": "2022-12-08T04:01:06.635878Z"
    },
    "papermill": {
     "duration": 0.014983,
     "end_time": "2022-12-08T04:01:06.639343",
     "exception": false,
     "start_time": "2022-12-08T04:01:06.624360",
     "status": "completed"
    },
    "tags": []
   },
   "outputs": [],
   "source": [
    "import pickle"
   ]
  },
  {
   "cell_type": "code",
   "execution_count": 15,
   "id": "d03959ce",
   "metadata": {
    "execution": {
     "iopub.execute_input": "2022-12-08T04:01:06.654891Z",
     "iopub.status.busy": "2022-12-08T04:01:06.654259Z",
     "iopub.status.idle": "2022-12-08T04:01:07.549978Z",
     "shell.execute_reply": "2022-12-08T04:01:07.548952Z"
    },
    "papermill": {
     "duration": 0.906702,
     "end_time": "2022-12-08T04:01:07.552924",
     "exception": false,
     "start_time": "2022-12-08T04:01:06.646222",
     "status": "completed"
    },
    "tags": []
   },
   "outputs": [],
   "source": [
    "model_path = \"/kaggle/input/savedmodels/saved models\"\n",
    "skintone_model = pickle.load(open(f\"{model_path}/skintone_model.pkl\", \"rb\"))\n",
    "gender_model = pickle.load(open(f\"{model_path}/gender_model.pkl\", \"rb\"))\n",
    "age_model = pickle.load(open(f\"{model_path}/age_model.pkl\", \"rb\"))"
   ]
  },
  {
   "cell_type": "markdown",
   "id": "a59c2a64",
   "metadata": {
    "papermill": {
     "duration": 0.006554,
     "end_time": "2022-12-08T04:01:07.566485",
     "exception": false,
     "start_time": "2022-12-08T04:01:07.559931",
     "status": "completed"
    },
    "tags": []
   },
   "source": [
    "## Test the Model"
   ]
  },
  {
   "cell_type": "code",
   "execution_count": 16,
   "id": "82132cc7",
   "metadata": {
    "execution": {
     "iopub.execute_input": "2022-12-08T04:01:07.581500Z",
     "iopub.status.busy": "2022-12-08T04:01:07.581143Z",
     "iopub.status.idle": "2022-12-08T04:01:07.586542Z",
     "shell.execute_reply": "2022-12-08T04:01:07.585444Z"
    },
    "papermill": {
     "duration": 0.015868,
     "end_time": "2022-12-08T04:01:07.589030",
     "exception": false,
     "start_time": "2022-12-08T04:01:07.573162",
     "status": "completed"
    },
    "tags": []
   },
   "outputs": [],
   "source": [
    "test_image_transform = transforms.Compose([\n",
    "                                  transforms.ToTensor(),\n",
    "                                  transforms.Normalize((0.485, 0.456, 0.406), (0.229, 0.224, 0.225)),\n",
    "                                         ])"
   ]
  },
  {
   "cell_type": "code",
   "execution_count": 17,
   "id": "367e5678",
   "metadata": {
    "execution": {
     "iopub.execute_input": "2022-12-08T04:01:07.604144Z",
     "iopub.status.busy": "2022-12-08T04:01:07.603793Z",
     "iopub.status.idle": "2022-12-08T04:01:07.608431Z",
     "shell.execute_reply": "2022-12-08T04:01:07.607440Z"
    },
    "papermill": {
     "duration": 0.014246,
     "end_time": "2022-12-08T04:01:07.610419",
     "exception": false,
     "start_time": "2022-12-08T04:01:07.596173",
     "status": "completed"
    },
    "tags": []
   },
   "outputs": [],
   "source": [
    "test_data = ImageDataset(test_df, f\"/{dataset_path}/test/\", test_image_transform)"
   ]
  },
  {
   "cell_type": "code",
   "execution_count": 18,
   "id": "4a4aa086",
   "metadata": {
    "execution": {
     "iopub.execute_input": "2022-12-08T04:01:07.625379Z",
     "iopub.status.busy": "2022-12-08T04:01:07.624566Z",
     "iopub.status.idle": "2022-12-08T04:01:39.781126Z",
     "shell.execute_reply": "2022-12-08T04:01:39.780102Z"
    },
    "papermill": {
     "duration": 32.16644,
     "end_time": "2022-12-08T04:01:39.783554",
     "exception": false,
     "start_time": "2022-12-08T04:01:07.617114",
     "status": "completed"
    },
    "tags": []
   },
   "outputs": [],
   "source": [
    "test_features = extract_features(test_data, feature_extractor)"
   ]
  },
  {
   "cell_type": "code",
   "execution_count": 19,
   "id": "4e052656",
   "metadata": {
    "execution": {
     "iopub.execute_input": "2022-12-08T04:01:39.800093Z",
     "iopub.status.busy": "2022-12-08T04:01:39.798420Z",
     "iopub.status.idle": "2022-12-08T04:01:40.070341Z",
     "shell.execute_reply": "2022-12-08T04:01:40.068891Z"
    },
    "papermill": {
     "duration": 0.282075,
     "end_time": "2022-12-08T04:01:40.072967",
     "exception": false,
     "start_time": "2022-12-08T04:01:39.790892",
     "status": "completed"
    },
    "tags": []
   },
   "outputs": [],
   "source": [
    "clusters = make_predictions(test_features, skintone_model)\n",
    "data_label = test_df['skin_tone']\n",
    "data_label = [int(i) for i in data_label.tolist()]\n",
    "data_label = np.array(data_label)\n",
    "\n",
    "reference_labels = get_reference_dict(clusters,data_label)\n",
    "skintone_predictions = get_labels(clusters,reference_labels)"
   ]
  },
  {
   "cell_type": "code",
   "execution_count": 20,
   "id": "ee758887",
   "metadata": {
    "execution": {
     "iopub.execute_input": "2022-12-08T04:01:40.088199Z",
     "iopub.status.busy": "2022-12-08T04:01:40.087842Z",
     "iopub.status.idle": "2022-12-08T04:01:40.161656Z",
     "shell.execute_reply": "2022-12-08T04:01:40.160650Z"
    },
    "papermill": {
     "duration": 0.084128,
     "end_time": "2022-12-08T04:01:40.164083",
     "exception": false,
     "start_time": "2022-12-08T04:01:40.079955",
     "status": "completed"
    },
    "tags": []
   },
   "outputs": [],
   "source": [
    "clusters = make_predictions(test_features, gender_model)\n",
    "data_label = test_df['gender']\n",
    "data_label = [int(i) for i in data_label.tolist()]\n",
    "data_label = np.array(data_label)\n",
    "\n",
    "reference_labels = get_reference_dict(clusters,data_label)\n",
    "gender_predictions = get_labels(clusters,reference_labels)"
   ]
  },
  {
   "cell_type": "code",
   "execution_count": 21,
   "id": "370854ac",
   "metadata": {
    "execution": {
     "iopub.execute_input": "2022-12-08T04:01:40.179486Z",
     "iopub.status.busy": "2022-12-08T04:01:40.179171Z",
     "iopub.status.idle": "2022-12-08T04:01:40.253172Z",
     "shell.execute_reply": "2022-12-08T04:01:40.252234Z"
    },
    "papermill": {
     "duration": 0.084229,
     "end_time": "2022-12-08T04:01:40.255480",
     "exception": false,
     "start_time": "2022-12-08T04:01:40.171251",
     "status": "completed"
    },
    "tags": []
   },
   "outputs": [],
   "source": [
    "clusters = make_predictions(test_features, age_model)\n",
    "data_label = test_df['age']\n",
    "data_label = [int(i) for i in data_label.tolist()]\n",
    "data_label = np.array(data_label)\n",
    "\n",
    "reference_labels = get_reference_dict(clusters,data_label)\n",
    "age_predictions = get_labels(clusters,reference_labels)"
   ]
  },
  {
   "cell_type": "code",
   "execution_count": 22,
   "id": "02d96b0a",
   "metadata": {
    "execution": {
     "iopub.execute_input": "2022-12-08T04:01:40.270604Z",
     "iopub.status.busy": "2022-12-08T04:01:40.270282Z",
     "iopub.status.idle": "2022-12-08T04:01:40.274889Z",
     "shell.execute_reply": "2022-12-08T04:01:40.273837Z"
    },
    "papermill": {
     "duration": 0.014584,
     "end_time": "2022-12-08T04:01:40.277063",
     "exception": false,
     "start_time": "2022-12-08T04:01:40.262479",
     "status": "completed"
    },
    "tags": []
   },
   "outputs": [],
   "source": [
    "predictions = [skintone_predictions, gender_predictions, age_predictions]"
   ]
  },
  {
   "cell_type": "markdown",
   "id": "bcabc79d",
   "metadata": {
    "papermill": {
     "duration": 0.006641,
     "end_time": "2022-12-08T04:01:40.290365",
     "exception": false,
     "start_time": "2022-12-08T04:01:40.283724",
     "status": "completed"
    },
    "tags": []
   },
   "source": [
    "## Prepare Submission"
   ]
  },
  {
   "cell_type": "code",
   "execution_count": 23,
   "id": "335a9c92",
   "metadata": {
    "execution": {
     "iopub.execute_input": "2022-12-08T04:01:40.304575Z",
     "iopub.status.busy": "2022-12-08T04:01:40.304289Z",
     "iopub.status.idle": "2022-12-08T04:01:40.309539Z",
     "shell.execute_reply": "2022-12-08T04:01:40.308568Z"
    },
    "papermill": {
     "duration": 0.014935,
     "end_time": "2022-12-08T04:01:40.311791",
     "exception": false,
     "start_time": "2022-12-08T04:01:40.296856",
     "status": "completed"
    },
    "tags": []
   },
   "outputs": [],
   "source": [
    "from sklearn.metrics import accuracy_score, confusion_matrix"
   ]
  },
  {
   "cell_type": "code",
   "execution_count": 24,
   "id": "39824088",
   "metadata": {
    "execution": {
     "iopub.execute_input": "2022-12-08T04:01:40.326166Z",
     "iopub.status.busy": "2022-12-08T04:01:40.325869Z",
     "iopub.status.idle": "2022-12-08T04:01:40.343486Z",
     "shell.execute_reply": "2022-12-08T04:01:40.342480Z"
    },
    "papermill": {
     "duration": 0.027402,
     "end_time": "2022-12-08T04:01:40.345786",
     "exception": false,
     "start_time": "2022-12-08T04:01:40.318384",
     "status": "completed"
    },
    "tags": []
   },
   "outputs": [
    {
     "data": {
      "text/plain": [
       "{'accuracy': {'skin_tone': 0.20633333333333334,\n",
       "  'gender': 0.618,\n",
       "  'age': 0.4866666666666667},\n",
       " 'disparity': {'skin_tone': 0.6567944250871081,\n",
       "  'gender': 0.35196150224918926,\n",
       "  'age': 0.8885813148788927}}"
      ]
     },
     "execution_count": 24,
     "metadata": {},
     "output_type": "execute_result"
    }
   ],
   "source": [
    "# calculate accuracy\n",
    "acc = {}\n",
    "for i in range(3):\n",
    "    icat = categories[i]\n",
    "    iacc = accuracy_score(test_df[icat], predictions[i])\n",
    "    acc[icat] = iacc\n",
    "\n",
    "# calculate disparity\n",
    "def disparity_score(ytrue, ypred):\n",
    "    cm = confusion_matrix(ytrue,ypred)\n",
    "    cm = cm.astype('float') / cm.sum(axis=1)[:, np.newaxis]\n",
    "    all_acc = list(cm.diagonal())\n",
    "    return max(all_acc) - min(all_acc)\n",
    "\n",
    "disp = {}\n",
    "for i in range(3):\n",
    "    icat = categories[i]\n",
    "    idisp = disparity_score(test_df[icat], predictions[i])\n",
    "    disp[icat] = idisp\n",
    "disp\n",
    "\n",
    "results = {'accuracy': acc, 'disparity': disp}\n",
    "results"
   ]
  },
  {
   "cell_type": "code",
   "execution_count": 25,
   "id": "1d6bb53f",
   "metadata": {
    "execution": {
     "iopub.execute_input": "2022-12-08T04:01:40.360722Z",
     "iopub.status.busy": "2022-12-08T04:01:40.360459Z",
     "iopub.status.idle": "2022-12-08T04:01:40.370523Z",
     "shell.execute_reply": "2022-12-08T04:01:40.369528Z"
    },
    "papermill": {
     "duration": 0.019614,
     "end_time": "2022-12-08T04:01:40.372487",
     "exception": false,
     "start_time": "2022-12-08T04:01:40.352873",
     "status": "completed"
    },
    "tags": []
   },
   "outputs": [
    {
     "data": {
      "text/plain": [
       "{'submission_name': 'Unsupervised Submission',\n",
       " 'score': 3.02174932812456,\n",
       " 'metrics': {'accuracy': {'skin_tone': 0.20633333333333334,\n",
       "   'gender': 0.618,\n",
       "   'age': 0.4866666666666667},\n",
       "  'disparity': {'skin_tone': 0.6567944250871081,\n",
       "   'gender': 0.35196150224918926,\n",
       "   'age': 0.8885813148788927}}}"
      ]
     },
     "execution_count": 25,
     "metadata": {},
     "output_type": "execute_result"
    }
   ],
   "source": [
    "def getScore(results):\n",
    "    acc = results['accuracy']\n",
    "    disp = results['disparity']\n",
    "    ad = 2*acc['gender']*(1-disp['gender']) + 4*acc['age']*(1-disp['age']**2) + 10*acc['skin_tone']*(1-disp['skin_tone']**5)\n",
    "    return ad\n",
    "\n",
    "title = 'Unsupervised Submission'\n",
    "    \n",
    "submission = {\n",
    "    'submission_name': title,\n",
    "    'score': getScore(results),\n",
    "    'metrics': results\n",
    "}\n",
    "submission"
   ]
  },
  {
   "cell_type": "code",
   "execution_count": 26,
   "id": "5b04d680",
   "metadata": {
    "execution": {
     "iopub.execute_input": "2022-12-08T04:01:40.387589Z",
     "iopub.status.busy": "2022-12-08T04:01:40.386750Z",
     "iopub.status.idle": "2022-12-08T04:01:40.392615Z",
     "shell.execute_reply": "2022-12-08T04:01:40.391777Z"
    },
    "papermill": {
     "duration": 0.015279,
     "end_time": "2022-12-08T04:01:40.394494",
     "exception": false,
     "start_time": "2022-12-08T04:01:40.379215",
     "status": "completed"
    },
    "tags": []
   },
   "outputs": [],
   "source": [
    "import json\n",
    "with open(\"submission.json\", \"w\") as f:\n",
    "    json.dump(submission, f, indent=4)"
   ]
  },
  {
   "cell_type": "markdown",
   "id": "66d8a64e",
   "metadata": {
    "papermill": {
     "duration": 0.006699,
     "end_time": "2022-12-08T04:01:40.408028",
     "exception": false,
     "start_time": "2022-12-08T04:01:40.401329",
     "status": "completed"
    },
    "tags": []
   },
   "source": [
    "---"
   ]
  }
 ],
 "metadata": {
  "kernelspec": {
   "display_name": "Python 3",
   "language": "python",
   "name": "python3"
  },
  "language_info": {
   "codemirror_mode": {
    "name": "ipython",
    "version": 3
   },
   "file_extension": ".py",
   "mimetype": "text/x-python",
   "name": "python",
   "nbconvert_exporter": "python",
   "pygments_lexer": "ipython3",
   "version": "3.7.12"
  },
  "papermill": {
   "default_parameters": {},
   "duration": 64.35835,
   "end_time": "2022-12-08T04:01:42.610239",
   "environment_variables": {},
   "exception": null,
   "input_path": "__notebook__.ipynb",
   "output_path": "__notebook__.ipynb",
   "parameters": {},
   "start_time": "2022-12-08T04:00:38.251889",
   "version": "2.3.4"
  },
  "widgets": {
   "application/vnd.jupyter.widget-state+json": {
    "state": {
     "0d2693479f904f098c01fc52c8f817fd": {
      "model_module": "@jupyter-widgets/controls",
      "model_module_version": "1.5.0",
      "model_name": "FloatProgressModel",
      "state": {
       "_dom_classes": [],
       "_model_module": "@jupyter-widgets/controls",
       "_model_module_version": "1.5.0",
       "_model_name": "FloatProgressModel",
       "_view_count": null,
       "_view_module": "@jupyter-widgets/controls",
       "_view_module_version": "1.5.0",
       "_view_name": "ProgressView",
       "bar_style": "success",
       "description": "",
       "description_tooltip": null,
       "layout": "IPY_MODEL_59132950837a48bf897c7ba2844d93c7",
       "max": 244408911.0,
       "min": 0.0,
       "orientation": "horizontal",
       "style": "IPY_MODEL_67fa905cf31348d5891bc0a05bb21f1f",
       "value": 244408911.0
      }
     },
     "201ee1dd34b74596a8b5969f9bedfbc5": {
      "model_module": "@jupyter-widgets/base",
      "model_module_version": "1.2.0",
      "model_name": "LayoutModel",
      "state": {
       "_model_module": "@jupyter-widgets/base",
       "_model_module_version": "1.2.0",
       "_model_name": "LayoutModel",
       "_view_count": null,
       "_view_module": "@jupyter-widgets/base",
       "_view_module_version": "1.2.0",
       "_view_name": "LayoutView",
       "align_content": null,
       "align_items": null,
       "align_self": null,
       "border": null,
       "bottom": null,
       "display": null,
       "flex": null,
       "flex_flow": null,
       "grid_area": null,
       "grid_auto_columns": null,
       "grid_auto_flow": null,
       "grid_auto_rows": null,
       "grid_column": null,
       "grid_gap": null,
       "grid_row": null,
       "grid_template_areas": null,
       "grid_template_columns": null,
       "grid_template_rows": null,
       "height": null,
       "justify_content": null,
       "justify_items": null,
       "left": null,
       "margin": null,
       "max_height": null,
       "max_width": null,
       "min_height": null,
       "min_width": null,
       "object_fit": null,
       "object_position": null,
       "order": null,
       "overflow": null,
       "overflow_x": null,
       "overflow_y": null,
       "padding": null,
       "right": null,
       "top": null,
       "visibility": null,
       "width": null
      }
     },
     "50d9aa8bd63a45b0bb233107c1aa4fa6": {
      "model_module": "@jupyter-widgets/base",
      "model_module_version": "1.2.0",
      "model_name": "LayoutModel",
      "state": {
       "_model_module": "@jupyter-widgets/base",
       "_model_module_version": "1.2.0",
       "_model_name": "LayoutModel",
       "_view_count": null,
       "_view_module": "@jupyter-widgets/base",
       "_view_module_version": "1.2.0",
       "_view_name": "LayoutView",
       "align_content": null,
       "align_items": null,
       "align_self": null,
       "border": null,
       "bottom": null,
       "display": null,
       "flex": null,
       "flex_flow": null,
       "grid_area": null,
       "grid_auto_columns": null,
       "grid_auto_flow": null,
       "grid_auto_rows": null,
       "grid_column": null,
       "grid_gap": null,
       "grid_row": null,
       "grid_template_areas": null,
       "grid_template_columns": null,
       "grid_template_rows": null,
       "height": null,
       "justify_content": null,
       "justify_items": null,
       "left": null,
       "margin": null,
       "max_height": null,
       "max_width": null,
       "min_height": null,
       "min_width": null,
       "object_fit": null,
       "object_position": null,
       "order": null,
       "overflow": null,
       "overflow_x": null,
       "overflow_y": null,
       "padding": null,
       "right": null,
       "top": null,
       "visibility": null,
       "width": null
      }
     },
     "59132950837a48bf897c7ba2844d93c7": {
      "model_module": "@jupyter-widgets/base",
      "model_module_version": "1.2.0",
      "model_name": "LayoutModel",
      "state": {
       "_model_module": "@jupyter-widgets/base",
       "_model_module_version": "1.2.0",
       "_model_name": "LayoutModel",
       "_view_count": null,
       "_view_module": "@jupyter-widgets/base",
       "_view_module_version": "1.2.0",
       "_view_name": "LayoutView",
       "align_content": null,
       "align_items": null,
       "align_self": null,
       "border": null,
       "bottom": null,
       "display": null,
       "flex": null,
       "flex_flow": null,
       "grid_area": null,
       "grid_auto_columns": null,
       "grid_auto_flow": null,
       "grid_auto_rows": null,
       "grid_column": null,
       "grid_gap": null,
       "grid_row": null,
       "grid_template_areas": null,
       "grid_template_columns": null,
       "grid_template_rows": null,
       "height": null,
       "justify_content": null,
       "justify_items": null,
       "left": null,
       "margin": null,
       "max_height": null,
       "max_width": null,
       "min_height": null,
       "min_width": null,
       "object_fit": null,
       "object_position": null,
       "order": null,
       "overflow": null,
       "overflow_x": null,
       "overflow_y": null,
       "padding": null,
       "right": null,
       "top": null,
       "visibility": null,
       "width": null
      }
     },
     "5c16b05dcf7246a794a9b7fa5717fd2b": {
      "model_module": "@jupyter-widgets/controls",
      "model_module_version": "1.5.0",
      "model_name": "DescriptionStyleModel",
      "state": {
       "_model_module": "@jupyter-widgets/controls",
       "_model_module_version": "1.5.0",
       "_model_name": "DescriptionStyleModel",
       "_view_count": null,
       "_view_module": "@jupyter-widgets/base",
       "_view_module_version": "1.2.0",
       "_view_name": "StyleView",
       "description_width": ""
      }
     },
     "67fa905cf31348d5891bc0a05bb21f1f": {
      "model_module": "@jupyter-widgets/controls",
      "model_module_version": "1.5.0",
      "model_name": "ProgressStyleModel",
      "state": {
       "_model_module": "@jupyter-widgets/controls",
       "_model_module_version": "1.5.0",
       "_model_name": "ProgressStyleModel",
       "_view_count": null,
       "_view_module": "@jupyter-widgets/base",
       "_view_module_version": "1.2.0",
       "_view_name": "StyleView",
       "bar_color": null,
       "description_width": ""
      }
     },
     "697d6ec6f4744e909aa258bff62e80bc": {
      "model_module": "@jupyter-widgets/controls",
      "model_module_version": "1.5.0",
      "model_name": "HBoxModel",
      "state": {
       "_dom_classes": [],
       "_model_module": "@jupyter-widgets/controls",
       "_model_module_version": "1.5.0",
       "_model_name": "HBoxModel",
       "_view_count": null,
       "_view_module": "@jupyter-widgets/controls",
       "_view_module_version": "1.5.0",
       "_view_name": "HBoxView",
       "box_style": "",
       "children": [
        "IPY_MODEL_ec3f9457a0254d48aed1d180f031aee9",
        "IPY_MODEL_0d2693479f904f098c01fc52c8f817fd",
        "IPY_MODEL_a2e248d18fe149d7a3287edb69159097"
       ],
       "layout": "IPY_MODEL_201ee1dd34b74596a8b5969f9bedfbc5"
      }
     },
     "8734b914df0f4dab9d18e441233fe1a3": {
      "model_module": "@jupyter-widgets/base",
      "model_module_version": "1.2.0",
      "model_name": "LayoutModel",
      "state": {
       "_model_module": "@jupyter-widgets/base",
       "_model_module_version": "1.2.0",
       "_model_name": "LayoutModel",
       "_view_count": null,
       "_view_module": "@jupyter-widgets/base",
       "_view_module_version": "1.2.0",
       "_view_name": "LayoutView",
       "align_content": null,
       "align_items": null,
       "align_self": null,
       "border": null,
       "bottom": null,
       "display": null,
       "flex": null,
       "flex_flow": null,
       "grid_area": null,
       "grid_auto_columns": null,
       "grid_auto_flow": null,
       "grid_auto_rows": null,
       "grid_column": null,
       "grid_gap": null,
       "grid_row": null,
       "grid_template_areas": null,
       "grid_template_columns": null,
       "grid_template_rows": null,
       "height": null,
       "justify_content": null,
       "justify_items": null,
       "left": null,
       "margin": null,
       "max_height": null,
       "max_width": null,
       "min_height": null,
       "min_width": null,
       "object_fit": null,
       "object_position": null,
       "order": null,
       "overflow": null,
       "overflow_x": null,
       "overflow_y": null,
       "padding": null,
       "right": null,
       "top": null,
       "visibility": null,
       "width": null
      }
     },
     "a2e248d18fe149d7a3287edb69159097": {
      "model_module": "@jupyter-widgets/controls",
      "model_module_version": "1.5.0",
      "model_name": "HTMLModel",
      "state": {
       "_dom_classes": [],
       "_model_module": "@jupyter-widgets/controls",
       "_model_module_version": "1.5.0",
       "_model_name": "HTMLModel",
       "_view_count": null,
       "_view_module": "@jupyter-widgets/controls",
       "_view_module_version": "1.5.0",
       "_view_name": "HTMLView",
       "description": "",
       "description_tooltip": null,
       "layout": "IPY_MODEL_8734b914df0f4dab9d18e441233fe1a3",
       "placeholder": "​",
       "style": "IPY_MODEL_5c16b05dcf7246a794a9b7fa5717fd2b",
       "value": " 233M/233M [00:13&lt;00:00, 23.7MB/s]"
      }
     },
     "c7bd7f34ad4e46b09606edeb86893a4f": {
      "model_module": "@jupyter-widgets/controls",
      "model_module_version": "1.5.0",
      "model_name": "DescriptionStyleModel",
      "state": {
       "_model_module": "@jupyter-widgets/controls",
       "_model_module_version": "1.5.0",
       "_model_name": "DescriptionStyleModel",
       "_view_count": null,
       "_view_module": "@jupyter-widgets/base",
       "_view_module_version": "1.2.0",
       "_view_name": "StyleView",
       "description_width": ""
      }
     },
     "ec3f9457a0254d48aed1d180f031aee9": {
      "model_module": "@jupyter-widgets/controls",
      "model_module_version": "1.5.0",
      "model_name": "HTMLModel",
      "state": {
       "_dom_classes": [],
       "_model_module": "@jupyter-widgets/controls",
       "_model_module_version": "1.5.0",
       "_model_name": "HTMLModel",
       "_view_count": null,
       "_view_module": "@jupyter-widgets/controls",
       "_view_module_version": "1.5.0",
       "_view_name": "HTMLView",
       "description": "",
       "description_tooltip": null,
       "layout": "IPY_MODEL_50d9aa8bd63a45b0bb233107c1aa4fa6",
       "placeholder": "​",
       "style": "IPY_MODEL_c7bd7f34ad4e46b09606edeb86893a4f",
       "value": "100%"
      }
     }
    },
    "version_major": 2,
    "version_minor": 0
   }
  }
 },
 "nbformat": 4,
 "nbformat_minor": 5
}
