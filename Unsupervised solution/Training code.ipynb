{
 "cells": [
  {
   "cell_type": "markdown",
   "id": "0a5ff937",
   "metadata": {
    "papermill": {
     "duration": 0.007408,
     "end_time": "2022-12-08T03:30:19.185862",
     "exception": false,
     "start_time": "2022-12-08T03:30:19.178454",
     "status": "completed"
    },
    "tags": []
   },
   "source": [
    "# Bias Buccaneers Image Recognition Challenge: Unsupervised Solution"
   ]
  },
  {
   "cell_type": "code",
   "execution_count": 1,
   "id": "c8eb3ef1",
   "metadata": {
    "execution": {
     "iopub.execute_input": "2022-12-08T03:30:19.200642Z",
     "iopub.status.busy": "2022-12-08T03:30:19.199920Z",
     "iopub.status.idle": "2022-12-08T03:30:21.866408Z",
     "shell.execute_reply": "2022-12-08T03:30:21.865435Z"
    },
    "papermill": {
     "duration": 2.676563,
     "end_time": "2022-12-08T03:30:21.868929",
     "exception": false,
     "start_time": "2022-12-08T03:30:19.192366",
     "status": "completed"
    },
    "tags": []
   },
   "outputs": [],
   "source": [
    "#import required libraries\n",
    "import os\n",
    "import numpy as np\n",
    "import pandas as pd\n",
    "import matplotlib.pyplot as plt\n",
    "import PIL.Image as Image\n",
    "#import K-Means\n",
    "from sklearn.cluster import KMeans\n",
    "# important metrics\n",
    "from sklearn.metrics import accuracy_score\n",
    "from sklearn.metrics import confusion_matrix\n",
    "import torch\n",
    "import torch.nn as nn\n",
    "from torch.utils.data import Dataset, DataLoader\n",
    "import torchvision\n",
    "from torchvision import transforms"
   ]
  },
  {
   "cell_type": "code",
   "execution_count": 2,
   "id": "2b74244b",
   "metadata": {
    "execution": {
     "iopub.execute_input": "2022-12-08T03:30:21.885131Z",
     "iopub.status.busy": "2022-12-08T03:30:21.883456Z",
     "iopub.status.idle": "2022-12-08T03:30:21.945957Z",
     "shell.execute_reply": "2022-12-08T03:30:21.943908Z"
    },
    "papermill": {
     "duration": 0.072961,
     "end_time": "2022-12-08T03:30:21.948462",
     "exception": false,
     "start_time": "2022-12-08T03:30:21.875501",
     "status": "completed"
    },
    "tags": []
   },
   "outputs": [
    {
     "name": "stdout",
     "output_type": "stream",
     "text": [
      "cuda\n"
     ]
    }
   ],
   "source": [
    "device = torch.device('cuda' if torch.cuda.is_available() else 'cpu')\n",
    "print(device)"
   ]
  },
  {
   "cell_type": "markdown",
   "id": "febc1695",
   "metadata": {
    "papermill": {
     "duration": 0.00652,
     "end_time": "2022-12-08T03:30:21.961970",
     "exception": false,
     "start_time": "2022-12-08T03:30:21.955450",
     "status": "completed"
    },
    "tags": []
   },
   "source": [
    "## Prepare the data"
   ]
  },
  {
   "cell_type": "markdown",
   "id": "fb4b9275",
   "metadata": {
    "papermill": {
     "duration": 0.006225,
     "end_time": "2022-12-08T03:30:21.974537",
     "exception": false,
     "start_time": "2022-12-08T03:30:21.968312",
     "status": "completed"
    },
    "tags": []
   },
   "source": [
    "### Data Pre-processing"
   ]
  },
  {
   "cell_type": "code",
   "execution_count": 3,
   "id": "c669e863",
   "metadata": {
    "execution": {
     "iopub.execute_input": "2022-12-08T03:30:21.990253Z",
     "iopub.status.busy": "2022-12-08T03:30:21.989933Z",
     "iopub.status.idle": "2022-12-08T03:30:22.051040Z",
     "shell.execute_reply": "2022-12-08T03:30:22.050192Z"
    },
    "papermill": {
     "duration": 0.07175,
     "end_time": "2022-12-08T03:30:22.053050",
     "exception": false,
     "start_time": "2022-12-08T03:30:21.981300",
     "status": "completed"
    },
    "tags": []
   },
   "outputs": [],
   "source": [
    "dataset_path = \"kaggle/input/bias-buccaneers\"\n",
    "train_df = pd.read_csv(f\"/{dataset_path}/train/labels.csv\")\n",
    "test_df = pd.read_csv(f\"/{dataset_path}/test/labels.csv\")"
   ]
  },
  {
   "cell_type": "code",
   "execution_count": 4,
   "id": "74939ff3",
   "metadata": {
    "execution": {
     "iopub.execute_input": "2022-12-08T03:30:22.068374Z",
     "iopub.status.busy": "2022-12-08T03:30:22.066845Z",
     "iopub.status.idle": "2022-12-08T03:30:22.076909Z",
     "shell.execute_reply": "2022-12-08T03:30:22.075973Z"
    },
    "papermill": {
     "duration": 0.019881,
     "end_time": "2022-12-08T03:30:22.079275",
     "exception": false,
     "start_time": "2022-12-08T03:30:22.059394",
     "status": "completed"
    },
    "tags": []
   },
   "outputs": [],
   "source": [
    "#there are around 5 grayscale images in the train dataset, so it is better to remove them.\n",
    "grayscale_img_indices = [226, 936, 7019, 8895, 9193]\n",
    "train_df.drop(labels=grayscale_img_indices, axis=0, inplace=True)\n",
    "train_df.reset_index(drop=True, inplace=True)"
   ]
  },
  {
   "cell_type": "code",
   "execution_count": 5,
   "id": "8429ff32",
   "metadata": {
    "execution": {
     "iopub.execute_input": "2022-12-08T03:30:22.093813Z",
     "iopub.status.busy": "2022-12-08T03:30:22.093557Z",
     "iopub.status.idle": "2022-12-08T03:30:22.098226Z",
     "shell.execute_reply": "2022-12-08T03:30:22.097283Z"
    },
    "papermill": {
     "duration": 0.015126,
     "end_time": "2022-12-08T03:30:22.101086",
     "exception": false,
     "start_time": "2022-12-08T03:30:22.085960",
     "status": "completed"
    },
    "tags": []
   },
   "outputs": [
    {
     "name": "stdout",
     "output_type": "stream",
     "text": [
      "Number of Training samples: 12278\n",
      "Number of Testing samples: 3000\n"
     ]
    }
   ],
   "source": [
    "print(f\"Number of Training samples: {len(train_df)}\")\n",
    "print(f\"Number of Testing samples: {len(test_df)}\")"
   ]
  },
  {
   "cell_type": "code",
   "execution_count": 6,
   "id": "7c1bba8f",
   "metadata": {
    "execution": {
     "iopub.execute_input": "2022-12-08T03:30:22.116298Z",
     "iopub.status.busy": "2022-12-08T03:30:22.115483Z",
     "iopub.status.idle": "2022-12-08T03:30:22.121393Z",
     "shell.execute_reply": "2022-12-08T03:30:22.120314Z"
    },
    "papermill": {
     "duration": 0.015659,
     "end_time": "2022-12-08T03:30:22.123825",
     "exception": false,
     "start_time": "2022-12-08T03:30:22.108166",
     "status": "completed"
    },
    "tags": []
   },
   "outputs": [
    {
     "name": "stdout",
     "output_type": "stream",
     "text": [
      "['skin_tone', 'gender', 'age']\n"
     ]
    }
   ],
   "source": [
    "categories = train_df.columns[1:].tolist()\n",
    "print(categories)"
   ]
  },
  {
   "cell_type": "markdown",
   "id": "f68b7dff",
   "metadata": {
    "papermill": {
     "duration": 0.006097,
     "end_time": "2022-12-08T03:30:22.136837",
     "exception": false,
     "start_time": "2022-12-08T03:30:22.130740",
     "status": "completed"
    },
    "tags": []
   },
   "source": [
    "Now we need to encode the labels into an integer such that we can use PyTorch's CrossEntropyLoss."
   ]
  },
  {
   "cell_type": "code",
   "execution_count": 7,
   "id": "ce059fab",
   "metadata": {
    "execution": {
     "iopub.execute_input": "2022-12-08T03:30:22.151082Z",
     "iopub.status.busy": "2022-12-08T03:30:22.150341Z",
     "iopub.status.idle": "2022-12-08T03:30:22.155351Z",
     "shell.execute_reply": "2022-12-08T03:30:22.154542Z"
    },
    "papermill": {
     "duration": 0.014341,
     "end_time": "2022-12-08T03:30:22.157534",
     "exception": false,
     "start_time": "2022-12-08T03:30:22.143193",
     "status": "completed"
    },
    "tags": []
   },
   "outputs": [],
   "source": [
    "skin_tone_labels = [f\"monk_{i}\" for i in range(1,11)]\n",
    "gender_labels = [\"male\", \"female\"]\n",
    "age_labels = [\"0_17\", \"18_30\", \"31_60\", \"61_100\"]"
   ]
  },
  {
   "cell_type": "code",
   "execution_count": 8,
   "id": "60ec674c",
   "metadata": {
    "execution": {
     "iopub.execute_input": "2022-12-08T03:30:22.171800Z",
     "iopub.status.busy": "2022-12-08T03:30:22.170997Z",
     "iopub.status.idle": "2022-12-08T03:30:22.196502Z",
     "shell.execute_reply": "2022-12-08T03:30:22.195626Z"
    },
    "papermill": {
     "duration": 0.034675,
     "end_time": "2022-12-08T03:30:22.198475",
     "exception": false,
     "start_time": "2022-12-08T03:30:22.163800",
     "status": "completed"
    },
    "tags": []
   },
   "outputs": [],
   "source": [
    "#encode train samples\n",
    "train_df['skin_tone'].replace(skin_tone_labels, list(range(len(skin_tone_labels))), inplace=True)\n",
    "train_df['gender'].replace(gender_labels, list(range(len(gender_labels))), inplace=True)\n",
    "train_df['age'].replace(age_labels, list(range(len(age_labels))), inplace=True)"
   ]
  },
  {
   "cell_type": "code",
   "execution_count": 9,
   "id": "98b11960",
   "metadata": {
    "execution": {
     "iopub.execute_input": "2022-12-08T03:30:22.213166Z",
     "iopub.status.busy": "2022-12-08T03:30:22.212341Z",
     "iopub.status.idle": "2022-12-08T03:30:22.224157Z",
     "shell.execute_reply": "2022-12-08T03:30:22.223345Z"
    },
    "papermill": {
     "duration": 0.020942,
     "end_time": "2022-12-08T03:30:22.226109",
     "exception": false,
     "start_time": "2022-12-08T03:30:22.205167",
     "status": "completed"
    },
    "tags": []
   },
   "outputs": [],
   "source": [
    "#encode test samples\n",
    "test_df['skin_tone'].replace(skin_tone_labels, list(range(len(skin_tone_labels))), inplace=True)\n",
    "test_df['gender'].replace(gender_labels, list(range(len(gender_labels))), inplace=True)\n",
    "test_df['age'].replace(age_labels, list(range(len(age_labels))), inplace=True)"
   ]
  },
  {
   "cell_type": "code",
   "execution_count": 10,
   "id": "af42360c",
   "metadata": {
    "execution": {
     "iopub.execute_input": "2022-12-08T03:30:22.240129Z",
     "iopub.status.busy": "2022-12-08T03:30:22.239853Z",
     "iopub.status.idle": "2022-12-08T03:30:22.243171Z",
     "shell.execute_reply": "2022-12-08T03:30:22.242242Z"
    },
    "papermill": {
     "duration": 0.012497,
     "end_time": "2022-12-08T03:30:22.245030",
     "exception": false,
     "start_time": "2022-12-08T03:30:22.232533",
     "status": "completed"
    },
    "tags": []
   },
   "outputs": [],
   "source": [
    "#train_df.isnull().sum()\n",
    "#3730 unlabeled images are there"
   ]
  },
  {
   "cell_type": "code",
   "execution_count": 11,
   "id": "e44d45df",
   "metadata": {
    "execution": {
     "iopub.execute_input": "2022-12-08T03:30:22.271033Z",
     "iopub.status.busy": "2022-12-08T03:30:22.270109Z",
     "iopub.status.idle": "2022-12-08T03:30:22.281556Z",
     "shell.execute_reply": "2022-12-08T03:30:22.280546Z"
    },
    "papermill": {
     "duration": 0.028895,
     "end_time": "2022-12-08T03:30:22.283763",
     "exception": false,
     "start_time": "2022-12-08T03:30:22.254868",
     "status": "completed"
    },
    "tags": []
   },
   "outputs": [],
   "source": [
    "#train_df still has null values for labels, uncomment and run this cell to get only the labelled images\n",
    "train_df_labeled = train_df[train_df[\"skin_tone\"].notna()].copy(deep=True) # take only labeled data\n",
    "#Modify the index values of the df\n",
    "train_df_labeled.reset_index(drop=True, inplace=True)\n",
    "#print(f\"No.of.Labeled images: {len(train_df_labeled)}\")\n",
    "#12278-3730 = 8548"
   ]
  },
  {
   "cell_type": "markdown",
   "id": "8c9c9233",
   "metadata": {
    "papermill": {
     "duration": 0.014823,
     "end_time": "2022-12-08T03:30:22.317036",
     "exception": false,
     "start_time": "2022-12-08T03:30:22.302213",
     "status": "completed"
    },
    "tags": []
   },
   "source": [
    "### Building the Dataset"
   ]
  },
  {
   "cell_type": "code",
   "execution_count": 12,
   "id": "5eae90fa",
   "metadata": {
    "execution": {
     "iopub.execute_input": "2022-12-08T03:30:22.346837Z",
     "iopub.status.busy": "2022-12-08T03:30:22.345786Z",
     "iopub.status.idle": "2022-12-08T03:30:22.359962Z",
     "shell.execute_reply": "2022-12-08T03:30:22.358528Z"
    },
    "papermill": {
     "duration": 0.032139,
     "end_time": "2022-12-08T03:30:22.362918",
     "exception": false,
     "start_time": "2022-12-08T03:30:22.330779",
     "status": "completed"
    },
    "tags": []
   },
   "outputs": [],
   "source": [
    "class ImageDataset(Dataset):\n",
    "    def __init__(self, df, data_path, image_transform):\n",
    "        self.df = df\n",
    "        self.data_path = data_path\n",
    "        self.image_transform = image_transform\n",
    "\n",
    "    def __len__(self):\n",
    "        return len(self.df)\n",
    "    \n",
    "    def __getitem__(self, index):\n",
    "        img = Image.open(f\"{self.data_path}{self.df['name'][index]}\")\n",
    "        if self.image_transform:\n",
    "            img = self.image_transform(img)\n",
    "\n",
    "        #we need to provide labels for skin_tone, gender, age\n",
    "        labels = (self.df['skin_tone'][index], self.df['gender'][index], self.df['age'][index])\n",
    "        return img, labels"
   ]
  },
  {
   "cell_type": "code",
   "execution_count": 13,
   "id": "a0d18851",
   "metadata": {
    "execution": {
     "iopub.execute_input": "2022-12-08T03:30:22.389698Z",
     "iopub.status.busy": "2022-12-08T03:30:22.388917Z",
     "iopub.status.idle": "2022-12-08T03:30:22.394167Z",
     "shell.execute_reply": "2022-12-08T03:30:22.393124Z"
    },
    "papermill": {
     "duration": 0.020297,
     "end_time": "2022-12-08T03:30:22.396677",
     "exception": false,
     "start_time": "2022-12-08T03:30:22.376380",
     "status": "completed"
    },
    "tags": []
   },
   "outputs": [],
   "source": [
    "#find index values for grayscale images\n",
    "\n",
    "#indices = []\n",
    "#for i in range(len(dataset)):\n",
    "#    img, _ = dataset[i]\n",
    "#    if (img.shape[0]==1):\n",
    "#        indices.append(i)\n",
    "#print(indices)"
   ]
  },
  {
   "cell_type": "markdown",
   "id": "0575ada4",
   "metadata": {
    "papermill": {
     "duration": 0.00979,
     "end_time": "2022-12-08T03:30:22.416009",
     "exception": false,
     "start_time": "2022-12-08T03:30:22.406219",
     "status": "completed"
    },
    "tags": []
   },
   "source": [
    "## Helper functions"
   ]
  },
  {
   "cell_type": "code",
   "execution_count": 14,
   "id": "891fdfde",
   "metadata": {
    "execution": {
     "iopub.execute_input": "2022-12-08T03:30:22.437227Z",
     "iopub.status.busy": "2022-12-08T03:30:22.436798Z",
     "iopub.status.idle": "2022-12-08T03:30:22.445425Z",
     "shell.execute_reply": "2022-12-08T03:30:22.444565Z"
    },
    "papermill": {
     "duration": 0.022116,
     "end_time": "2022-12-08T03:30:22.447890",
     "exception": false,
     "start_time": "2022-12-08T03:30:22.425774",
     "status": "completed"
    },
    "tags": []
   },
   "outputs": [],
   "source": [
    "def extract_features(dataset:torch.utils.data.Dataset, feature_extractor:torch.nn.Module):\n",
    "    features = []\n",
    "    num_samples = len(dataset)\n",
    "    for i in range(num_samples):\n",
    "        img,_ = dataset[i]\n",
    "        img = img.unsqueeze(0)\n",
    "        img = img.to(device)\n",
    "        img = feature_extractor(img)\n",
    "        img = torch.reshape(img, (-1,))\n",
    "        img = img.detach().cpu().numpy()\n",
    "        features.append(img)\n",
    "    return np.array(features)"
   ]
  },
  {
   "cell_type": "code",
   "execution_count": 15,
   "id": "f778a67e",
   "metadata": {
    "execution": {
     "iopub.execute_input": "2022-12-08T03:30:22.473910Z",
     "iopub.status.busy": "2022-12-08T03:30:22.473609Z",
     "iopub.status.idle": "2022-12-08T03:30:22.477893Z",
     "shell.execute_reply": "2022-12-08T03:30:22.477107Z"
    },
    "papermill": {
     "duration": 0.017944,
     "end_time": "2022-12-08T03:30:22.481543",
     "exception": false,
     "start_time": "2022-12-08T03:30:22.463599",
     "status": "completed"
    },
    "tags": []
   },
   "outputs": [],
   "source": [
    "def make_predictions(data_features, model):\n",
    "    predictions = model.predict(data_features)\n",
    "    return predictions"
   ]
  },
  {
   "cell_type": "code",
   "execution_count": 16,
   "id": "f5c779f4",
   "metadata": {
    "execution": {
     "iopub.execute_input": "2022-12-08T03:30:22.501393Z",
     "iopub.status.busy": "2022-12-08T03:30:22.501086Z",
     "iopub.status.idle": "2022-12-08T03:30:22.509689Z",
     "shell.execute_reply": "2022-12-08T03:30:22.508829Z"
    },
    "papermill": {
     "duration": 0.020926,
     "end_time": "2022-12-08T03:30:22.511868",
     "exception": false,
     "start_time": "2022-12-08T03:30:22.490942",
     "status": "completed"
    },
    "tags": []
   },
   "outputs": [],
   "source": [
    "# Since K-Means Does not know about our labels we have to change labels of k-means according to our usage\n",
    "\n",
    "# mapping labels from cluster to original labels\n",
    "def get_reference_dict(clusters,data_label):\n",
    "    reference_label = {}\n",
    "    # For loop to run through each label of cluster label\n",
    "    for i in range(len(np.unique(clusters))):\n",
    "        index = np.where(clusters == i,1,0)\n",
    "        num = np.bincount(data_label[index==1]).argmax()\n",
    "        reference_label[i] = num\n",
    "    return reference_label\n",
    "\n",
    "# Mapping predictions to original labels\n",
    "def get_labels(clusters,refernce_labels):\n",
    "    temp_labels = np.random.rand(len(clusters))\n",
    "    for i in range(len(clusters)):\n",
    "        temp_labels[i] = reference_labels[clusters[i]]\n",
    "    return temp_labels"
   ]
  },
  {
   "cell_type": "markdown",
   "id": "54e04eb0",
   "metadata": {
    "papermill": {
     "duration": 0.009035,
     "end_time": "2022-12-08T03:30:22.530155",
     "exception": false,
     "start_time": "2022-12-08T03:30:22.521120",
     "status": "completed"
    },
    "tags": []
   },
   "source": [
    "## Extract features using Resnet"
   ]
  },
  {
   "cell_type": "code",
   "execution_count": 17,
   "id": "8ecd7f11",
   "metadata": {
    "execution": {
     "iopub.execute_input": "2022-12-08T03:30:22.549620Z",
     "iopub.status.busy": "2022-12-08T03:30:22.549318Z",
     "iopub.status.idle": "2022-12-08T03:30:22.553738Z",
     "shell.execute_reply": "2022-12-08T03:30:22.552815Z"
    },
    "papermill": {
     "duration": 0.01743,
     "end_time": "2022-12-08T03:30:22.556809",
     "exception": false,
     "start_time": "2022-12-08T03:30:22.539379",
     "status": "completed"
    },
    "tags": []
   },
   "outputs": [],
   "source": [
    "from torchvision.models import resnet18"
   ]
  },
  {
   "cell_type": "code",
   "execution_count": 18,
   "id": "12ef4e92",
   "metadata": {
    "execution": {
     "iopub.execute_input": "2022-12-08T03:30:22.576373Z",
     "iopub.status.busy": "2022-12-08T03:30:22.576087Z",
     "iopub.status.idle": "2022-12-08T03:30:22.582262Z",
     "shell.execute_reply": "2022-12-08T03:30:22.581361Z"
    },
    "papermill": {
     "duration": 0.017976,
     "end_time": "2022-12-08T03:30:22.584096",
     "exception": false,
     "start_time": "2022-12-08T03:30:22.566120",
     "status": "completed"
    },
    "tags": []
   },
   "outputs": [],
   "source": [
    "class Feature_Extractor(nn.Module):\n",
    "    def __init__(self):\n",
    "        super().__init__()\n",
    "        self.model = torchvision.models.alexnet(pretrained=True)\n",
    "        self.model.avgpool = nn.Identity()\n",
    "        self.model.classifier = nn.Identity()\n",
    "    def forward(self, x):\n",
    "        x = self.model(x)\n",
    "        x = torch.reshape(x, (-1,))\n",
    "        return x"
   ]
  },
  {
   "cell_type": "code",
   "execution_count": 19,
   "id": "b7dd6131",
   "metadata": {
    "execution": {
     "iopub.execute_input": "2022-12-08T03:30:22.602856Z",
     "iopub.status.busy": "2022-12-08T03:30:22.602564Z",
     "iopub.status.idle": "2022-12-08T03:30:27.502542Z",
     "shell.execute_reply": "2022-12-08T03:30:27.501515Z"
    },
    "papermill": {
     "duration": 4.91243,
     "end_time": "2022-12-08T03:30:27.504979",
     "exception": false,
     "start_time": "2022-12-08T03:30:22.592549",
     "status": "completed"
    },
    "tags": []
   },
   "outputs": [
    {
     "name": "stderr",
     "output_type": "stream",
     "text": [
      "Downloading: \"https://download.pytorch.org/models/alexnet-owt-7be5be79.pth\" to /root/.cache/torch/hub/checkpoints/alexnet-owt-7be5be79.pth\n"
     ]
    },
    {
     "data": {
      "application/vnd.jupyter.widget-view+json": {
       "model_id": "322bd980f805494e81d03e3285a5cd9d",
       "version_major": 2,
       "version_minor": 0
      },
      "text/plain": [
       "  0%|          | 0.00/233M [00:00<?, ?B/s]"
      ]
     },
     "metadata": {},
     "output_type": "display_data"
    }
   ],
   "source": [
    "feature_extractor = Feature_Extractor().to(device)"
   ]
  },
  {
   "cell_type": "markdown",
   "id": "83af585d",
   "metadata": {
    "papermill": {
     "duration": 0.006577,
     "end_time": "2022-12-08T03:30:27.518876",
     "exception": false,
     "start_time": "2022-12-08T03:30:27.512299",
     "status": "completed"
    },
    "tags": []
   },
   "source": [
    "## Train the Model"
   ]
  },
  {
   "cell_type": "code",
   "execution_count": 20,
   "id": "130b27c5",
   "metadata": {
    "execution": {
     "iopub.execute_input": "2022-12-08T03:30:27.533565Z",
     "iopub.status.busy": "2022-12-08T03:30:27.533256Z",
     "iopub.status.idle": "2022-12-08T03:30:27.538261Z",
     "shell.execute_reply": "2022-12-08T03:30:27.537279Z"
    },
    "papermill": {
     "duration": 0.01478,
     "end_time": "2022-12-08T03:30:27.540236",
     "exception": false,
     "start_time": "2022-12-08T03:30:27.525456",
     "status": "completed"
    },
    "tags": []
   },
   "outputs": [],
   "source": [
    "image_transform = transforms.Compose([transforms.ToTensor(), transforms.Normalize((0.485, 0.456, 0.406), (0.229, 0.224, 0.225))])\n",
    "dataset = ImageDataset(train_df_labeled, f\"/{dataset_path}/train/\",image_transform)"
   ]
  },
  {
   "cell_type": "code",
   "execution_count": 21,
   "id": "2c91fa3f",
   "metadata": {
    "execution": {
     "iopub.execute_input": "2022-12-08T03:30:27.555146Z",
     "iopub.status.busy": "2022-12-08T03:30:27.554338Z",
     "iopub.status.idle": "2022-12-08T03:32:18.662728Z",
     "shell.execute_reply": "2022-12-08T03:32:18.658679Z"
    },
    "papermill": {
     "duration": 111.122626,
     "end_time": "2022-12-08T03:32:18.669554",
     "exception": false,
     "start_time": "2022-12-08T03:30:27.546928",
     "status": "completed"
    },
    "tags": []
   },
   "outputs": [
    {
     "name": "stdout",
     "output_type": "stream",
     "text": [
      "(8548, 12544)\n"
     ]
    }
   ],
   "source": [
    "image_features = extract_features(dataset, feature_extractor)\n",
    "print(image_features.shape)"
   ]
  },
  {
   "cell_type": "code",
   "execution_count": 22,
   "id": "c340b870",
   "metadata": {
    "execution": {
     "iopub.execute_input": "2022-12-08T03:32:18.685332Z",
     "iopub.status.busy": "2022-12-08T03:32:18.684875Z",
     "iopub.status.idle": "2022-12-08T03:35:09.186409Z",
     "shell.execute_reply": "2022-12-08T03:35:09.185112Z"
    },
    "papermill": {
     "duration": 170.516987,
     "end_time": "2022-12-08T03:35:09.194206",
     "exception": false,
     "start_time": "2022-12-08T03:32:18.677219",
     "status": "completed"
    },
    "tags": []
   },
   "outputs": [
    {
     "data": {
      "text/plain": [
       "KMeans(n_clusters=10)"
      ]
     },
     "execution_count": 22,
     "metadata": {},
     "output_type": "execute_result"
    }
   ],
   "source": [
    "skintone_model = KMeans(n_clusters=10)\n",
    "skintone_model.fit(image_features)"
   ]
  },
  {
   "cell_type": "code",
   "execution_count": 23,
   "id": "6ef458b8",
   "metadata": {
    "execution": {
     "iopub.execute_input": "2022-12-08T03:35:09.209143Z",
     "iopub.status.busy": "2022-12-08T03:35:09.208822Z",
     "iopub.status.idle": "2022-12-08T03:36:27.381498Z",
     "shell.execute_reply": "2022-12-08T03:36:27.380543Z"
    },
    "papermill": {
     "duration": 78.18696,
     "end_time": "2022-12-08T03:36:27.388102",
     "exception": false,
     "start_time": "2022-12-08T03:35:09.201142",
     "status": "completed"
    },
    "tags": []
   },
   "outputs": [
    {
     "data": {
      "text/plain": [
       "KMeans(n_clusters=3)"
      ]
     },
     "execution_count": 23,
     "metadata": {},
     "output_type": "execute_result"
    }
   ],
   "source": [
    "gender_model = KMeans(n_clusters=3)\n",
    "gender_model.fit(image_features)"
   ]
  },
  {
   "cell_type": "code",
   "execution_count": 24,
   "id": "d7b0d869",
   "metadata": {
    "execution": {
     "iopub.execute_input": "2022-12-08T03:36:27.409336Z",
     "iopub.status.busy": "2022-12-08T03:36:27.408877Z",
     "iopub.status.idle": "2022-12-08T03:37:40.462001Z",
     "shell.execute_reply": "2022-12-08T03:37:40.461048Z"
    },
    "papermill": {
     "duration": 73.069667,
     "end_time": "2022-12-08T03:37:40.467689",
     "exception": false,
     "start_time": "2022-12-08T03:36:27.398022",
     "status": "completed"
    },
    "tags": []
   },
   "outputs": [
    {
     "data": {
      "text/plain": [
       "KMeans(n_clusters=4)"
      ]
     },
     "execution_count": 24,
     "metadata": {},
     "output_type": "execute_result"
    }
   ],
   "source": [
    "age_model = KMeans(n_clusters=4)\n",
    "age_model.fit(image_features)"
   ]
  },
  {
   "cell_type": "markdown",
   "id": "e9023b81",
   "metadata": {
    "papermill": {
     "duration": 0.006745,
     "end_time": "2022-12-08T03:37:40.482136",
     "exception": false,
     "start_time": "2022-12-08T03:37:40.475391",
     "status": "completed"
    },
    "tags": []
   },
   "source": [
    "## Saving the trained models"
   ]
  },
  {
   "cell_type": "code",
   "execution_count": 25,
   "id": "acfeedfc",
   "metadata": {
    "execution": {
     "iopub.execute_input": "2022-12-08T03:37:40.498633Z",
     "iopub.status.busy": "2022-12-08T03:37:40.496950Z",
     "iopub.status.idle": "2022-12-08T03:37:40.502505Z",
     "shell.execute_reply": "2022-12-08T03:37:40.501697Z"
    },
    "papermill": {
     "duration": 0.015424,
     "end_time": "2022-12-08T03:37:40.504404",
     "exception": false,
     "start_time": "2022-12-08T03:37:40.488980",
     "status": "completed"
    },
    "tags": []
   },
   "outputs": [],
   "source": [
    "os.mkdir(\"saved models\")"
   ]
  },
  {
   "cell_type": "code",
   "execution_count": 26,
   "id": "02adf0c9",
   "metadata": {
    "execution": {
     "iopub.execute_input": "2022-12-08T03:37:40.519963Z",
     "iopub.status.busy": "2022-12-08T03:37:40.519208Z",
     "iopub.status.idle": "2022-12-08T03:37:40.523597Z",
     "shell.execute_reply": "2022-12-08T03:37:40.522799Z"
    },
    "papermill": {
     "duration": 0.013942,
     "end_time": "2022-12-08T03:37:40.525435",
     "exception": false,
     "start_time": "2022-12-08T03:37:40.511493",
     "status": "completed"
    },
    "tags": []
   },
   "outputs": [],
   "source": [
    "import pickle"
   ]
  },
  {
   "cell_type": "code",
   "execution_count": 27,
   "id": "8885aa9d",
   "metadata": {
    "execution": {
     "iopub.execute_input": "2022-12-08T03:37:40.541293Z",
     "iopub.status.busy": "2022-12-08T03:37:40.540411Z",
     "iopub.status.idle": "2022-12-08T03:37:40.546891Z",
     "shell.execute_reply": "2022-12-08T03:37:40.546119Z"
    },
    "papermill": {
     "duration": 0.016338,
     "end_time": "2022-12-08T03:37:40.548800",
     "exception": false,
     "start_time": "2022-12-08T03:37:40.532462",
     "status": "completed"
    },
    "tags": []
   },
   "outputs": [],
   "source": [
    "pickle.dump(skintone_model, open(\"./saved models/skintone_model.pkl\", \"wb\"))\n",
    "pickle.dump(gender_model, open(\"./saved models/gender_model.pkl\", \"wb\"))\n",
    "pickle.dump(age_model, open(\"./saved models/age_model.pkl\", \"wb\"))"
   ]
  },
  {
   "cell_type": "markdown",
   "id": "b2663ece",
   "metadata": {
    "papermill": {
     "duration": 0.006797,
     "end_time": "2022-12-08T03:37:40.562686",
     "exception": false,
     "start_time": "2022-12-08T03:37:40.555889",
     "status": "completed"
    },
    "tags": []
   },
   "source": [
    "---"
   ]
  }
 ],
 "metadata": {
  "kernelspec": {
   "display_name": "Python 3",
   "language": "python",
   "name": "python3"
  },
  "language_info": {
   "codemirror_mode": {
    "name": "ipython",
    "version": 3
   },
   "file_extension": ".py",
   "mimetype": "text/x-python",
   "name": "python",
   "nbconvert_exporter": "python",
   "pygments_lexer": "ipython3",
   "version": "3.7.12"
  },
  "papermill": {
   "default_parameters": {},
   "duration": 450.258059,
   "end_time": "2022-12-08T03:37:41.891607",
   "environment_variables": {},
   "exception": null,
   "input_path": "__notebook__.ipynb",
   "output_path": "__notebook__.ipynb",
   "parameters": {},
   "start_time": "2022-12-08T03:30:11.633548",
   "version": "2.3.4"
  },
  "widgets": {
   "application/vnd.jupyter.widget-state+json": {
    "state": {
     "1ed2b9b2651744038ffead243b966e24": {
      "model_module": "@jupyter-widgets/base",
      "model_module_version": "1.2.0",
      "model_name": "LayoutModel",
      "state": {
       "_model_module": "@jupyter-widgets/base",
       "_model_module_version": "1.2.0",
       "_model_name": "LayoutModel",
       "_view_count": null,
       "_view_module": "@jupyter-widgets/base",
       "_view_module_version": "1.2.0",
       "_view_name": "LayoutView",
       "align_content": null,
       "align_items": null,
       "align_self": null,
       "border": null,
       "bottom": null,
       "display": null,
       "flex": null,
       "flex_flow": null,
       "grid_area": null,
       "grid_auto_columns": null,
       "grid_auto_flow": null,
       "grid_auto_rows": null,
       "grid_column": null,
       "grid_gap": null,
       "grid_row": null,
       "grid_template_areas": null,
       "grid_template_columns": null,
       "grid_template_rows": null,
       "height": null,
       "justify_content": null,
       "justify_items": null,
       "left": null,
       "margin": null,
       "max_height": null,
       "max_width": null,
       "min_height": null,
       "min_width": null,
       "object_fit": null,
       "object_position": null,
       "order": null,
       "overflow": null,
       "overflow_x": null,
       "overflow_y": null,
       "padding": null,
       "right": null,
       "top": null,
       "visibility": null,
       "width": null
      }
     },
     "2f382f7a32694352bffff39944a61215": {
      "model_module": "@jupyter-widgets/controls",
      "model_module_version": "1.5.0",
      "model_name": "FloatProgressModel",
      "state": {
       "_dom_classes": [],
       "_model_module": "@jupyter-widgets/controls",
       "_model_module_version": "1.5.0",
       "_model_name": "FloatProgressModel",
       "_view_count": null,
       "_view_module": "@jupyter-widgets/controls",
       "_view_module_version": "1.5.0",
       "_view_name": "ProgressView",
       "bar_style": "success",
       "description": "",
       "description_tooltip": null,
       "layout": "IPY_MODEL_1ed2b9b2651744038ffead243b966e24",
       "max": 244408911.0,
       "min": 0.0,
       "orientation": "horizontal",
       "style": "IPY_MODEL_962c8157e2e140d4b3ed0a0595e17e7c",
       "value": 244408911.0
      }
     },
     "322bd980f805494e81d03e3285a5cd9d": {
      "model_module": "@jupyter-widgets/controls",
      "model_module_version": "1.5.0",
      "model_name": "HBoxModel",
      "state": {
       "_dom_classes": [],
       "_model_module": "@jupyter-widgets/controls",
       "_model_module_version": "1.5.0",
       "_model_name": "HBoxModel",
       "_view_count": null,
       "_view_module": "@jupyter-widgets/controls",
       "_view_module_version": "1.5.0",
       "_view_name": "HBoxView",
       "box_style": "",
       "children": [
        "IPY_MODEL_b054f981d7c74dd08e8ed257beb19af7",
        "IPY_MODEL_2f382f7a32694352bffff39944a61215",
        "IPY_MODEL_dd33b0a81e6f41e6bb4bceac46860dff"
       ],
       "layout": "IPY_MODEL_9fb4086ca43a42f383fccbd450382f04"
      }
     },
     "76e7408601a54c2f8f0e2e5bd7b5696e": {
      "model_module": "@jupyter-widgets/base",
      "model_module_version": "1.2.0",
      "model_name": "LayoutModel",
      "state": {
       "_model_module": "@jupyter-widgets/base",
       "_model_module_version": "1.2.0",
       "_model_name": "LayoutModel",
       "_view_count": null,
       "_view_module": "@jupyter-widgets/base",
       "_view_module_version": "1.2.0",
       "_view_name": "LayoutView",
       "align_content": null,
       "align_items": null,
       "align_self": null,
       "border": null,
       "bottom": null,
       "display": null,
       "flex": null,
       "flex_flow": null,
       "grid_area": null,
       "grid_auto_columns": null,
       "grid_auto_flow": null,
       "grid_auto_rows": null,
       "grid_column": null,
       "grid_gap": null,
       "grid_row": null,
       "grid_template_areas": null,
       "grid_template_columns": null,
       "grid_template_rows": null,
       "height": null,
       "justify_content": null,
       "justify_items": null,
       "left": null,
       "margin": null,
       "max_height": null,
       "max_width": null,
       "min_height": null,
       "min_width": null,
       "object_fit": null,
       "object_position": null,
       "order": null,
       "overflow": null,
       "overflow_x": null,
       "overflow_y": null,
       "padding": null,
       "right": null,
       "top": null,
       "visibility": null,
       "width": null
      }
     },
     "962c8157e2e140d4b3ed0a0595e17e7c": {
      "model_module": "@jupyter-widgets/controls",
      "model_module_version": "1.5.0",
      "model_name": "ProgressStyleModel",
      "state": {
       "_model_module": "@jupyter-widgets/controls",
       "_model_module_version": "1.5.0",
       "_model_name": "ProgressStyleModel",
       "_view_count": null,
       "_view_module": "@jupyter-widgets/base",
       "_view_module_version": "1.2.0",
       "_view_name": "StyleView",
       "bar_color": null,
       "description_width": ""
      }
     },
     "9fb4086ca43a42f383fccbd450382f04": {
      "model_module": "@jupyter-widgets/base",
      "model_module_version": "1.2.0",
      "model_name": "LayoutModel",
      "state": {
       "_model_module": "@jupyter-widgets/base",
       "_model_module_version": "1.2.0",
       "_model_name": "LayoutModel",
       "_view_count": null,
       "_view_module": "@jupyter-widgets/base",
       "_view_module_version": "1.2.0",
       "_view_name": "LayoutView",
       "align_content": null,
       "align_items": null,
       "align_self": null,
       "border": null,
       "bottom": null,
       "display": null,
       "flex": null,
       "flex_flow": null,
       "grid_area": null,
       "grid_auto_columns": null,
       "grid_auto_flow": null,
       "grid_auto_rows": null,
       "grid_column": null,
       "grid_gap": null,
       "grid_row": null,
       "grid_template_areas": null,
       "grid_template_columns": null,
       "grid_template_rows": null,
       "height": null,
       "justify_content": null,
       "justify_items": null,
       "left": null,
       "margin": null,
       "max_height": null,
       "max_width": null,
       "min_height": null,
       "min_width": null,
       "object_fit": null,
       "object_position": null,
       "order": null,
       "overflow": null,
       "overflow_x": null,
       "overflow_y": null,
       "padding": null,
       "right": null,
       "top": null,
       "visibility": null,
       "width": null
      }
     },
     "b054f981d7c74dd08e8ed257beb19af7": {
      "model_module": "@jupyter-widgets/controls",
      "model_module_version": "1.5.0",
      "model_name": "HTMLModel",
      "state": {
       "_dom_classes": [],
       "_model_module": "@jupyter-widgets/controls",
       "_model_module_version": "1.5.0",
       "_model_name": "HTMLModel",
       "_view_count": null,
       "_view_module": "@jupyter-widgets/controls",
       "_view_module_version": "1.5.0",
       "_view_name": "HTMLView",
       "description": "",
       "description_tooltip": null,
       "layout": "IPY_MODEL_e9b69392bbfd46d4a3d782595b8974e2",
       "placeholder": "​",
       "style": "IPY_MODEL_f06c55887a92483eac2e04da3329c166",
       "value": "100%"
      }
     },
     "ca9344aef80d4eceb5d61b24e69f4e10": {
      "model_module": "@jupyter-widgets/controls",
      "model_module_version": "1.5.0",
      "model_name": "DescriptionStyleModel",
      "state": {
       "_model_module": "@jupyter-widgets/controls",
       "_model_module_version": "1.5.0",
       "_model_name": "DescriptionStyleModel",
       "_view_count": null,
       "_view_module": "@jupyter-widgets/base",
       "_view_module_version": "1.2.0",
       "_view_name": "StyleView",
       "description_width": ""
      }
     },
     "dd33b0a81e6f41e6bb4bceac46860dff": {
      "model_module": "@jupyter-widgets/controls",
      "model_module_version": "1.5.0",
      "model_name": "HTMLModel",
      "state": {
       "_dom_classes": [],
       "_model_module": "@jupyter-widgets/controls",
       "_model_module_version": "1.5.0",
       "_model_name": "HTMLModel",
       "_view_count": null,
       "_view_module": "@jupyter-widgets/controls",
       "_view_module_version": "1.5.0",
       "_view_name": "HTMLView",
       "description": "",
       "description_tooltip": null,
       "layout": "IPY_MODEL_76e7408601a54c2f8f0e2e5bd7b5696e",
       "placeholder": "​",
       "style": "IPY_MODEL_ca9344aef80d4eceb5d61b24e69f4e10",
       "value": " 233M/233M [00:01&lt;00:00, 253MB/s]"
      }
     },
     "e9b69392bbfd46d4a3d782595b8974e2": {
      "model_module": "@jupyter-widgets/base",
      "model_module_version": "1.2.0",
      "model_name": "LayoutModel",
      "state": {
       "_model_module": "@jupyter-widgets/base",
       "_model_module_version": "1.2.0",
       "_model_name": "LayoutModel",
       "_view_count": null,
       "_view_module": "@jupyter-widgets/base",
       "_view_module_version": "1.2.0",
       "_view_name": "LayoutView",
       "align_content": null,
       "align_items": null,
       "align_self": null,
       "border": null,
       "bottom": null,
       "display": null,
       "flex": null,
       "flex_flow": null,
       "grid_area": null,
       "grid_auto_columns": null,
       "grid_auto_flow": null,
       "grid_auto_rows": null,
       "grid_column": null,
       "grid_gap": null,
       "grid_row": null,
       "grid_template_areas": null,
       "grid_template_columns": null,
       "grid_template_rows": null,
       "height": null,
       "justify_content": null,
       "justify_items": null,
       "left": null,
       "margin": null,
       "max_height": null,
       "max_width": null,
       "min_height": null,
       "min_width": null,
       "object_fit": null,
       "object_position": null,
       "order": null,
       "overflow": null,
       "overflow_x": null,
       "overflow_y": null,
       "padding": null,
       "right": null,
       "top": null,
       "visibility": null,
       "width": null
      }
     },
     "f06c55887a92483eac2e04da3329c166": {
      "model_module": "@jupyter-widgets/controls",
      "model_module_version": "1.5.0",
      "model_name": "DescriptionStyleModel",
      "state": {
       "_model_module": "@jupyter-widgets/controls",
       "_model_module_version": "1.5.0",
       "_model_name": "DescriptionStyleModel",
       "_view_count": null,
       "_view_module": "@jupyter-widgets/base",
       "_view_module_version": "1.2.0",
       "_view_name": "StyleView",
       "description_width": ""
      }
     }
    },
    "version_major": 2,
    "version_minor": 0
   }
  }
 },
 "nbformat": 4,
 "nbformat_minor": 5
}
