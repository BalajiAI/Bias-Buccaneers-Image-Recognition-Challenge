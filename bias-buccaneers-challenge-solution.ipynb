{
 "cells": [
  {
   "cell_type": "markdown",
   "id": "31df6f7c",
   "metadata": {
    "papermill": {
     "duration": 0.010741,
     "end_time": "2022-11-23T15:26:19.490975",
     "exception": false,
     "start_time": "2022-11-23T15:26:19.480234",
     "status": "completed"
    },
    "tags": []
   },
   "source": [
    "# Bias Buccaneers Image Recognition Challenge: Solution"
   ]
  },
  {
   "cell_type": "code",
   "execution_count": 1,
   "id": "d8299651",
   "metadata": {
    "execution": {
     "iopub.execute_input": "2022-11-23T15:26:19.515353Z",
     "iopub.status.busy": "2022-11-23T15:26:19.514432Z",
     "iopub.status.idle": "2022-11-23T15:26:23.157528Z",
     "shell.execute_reply": "2022-11-23T15:26:23.156508Z"
    },
    "papermill": {
     "duration": 3.659795,
     "end_time": "2022-11-23T15:26:23.160288",
     "exception": false,
     "start_time": "2022-11-23T15:26:19.500493",
     "status": "completed"
    },
    "tags": []
   },
   "outputs": [],
   "source": [
    "#import required libraries\n",
    "import os\n",
    "import numpy as np\n",
    "import pandas as pd\n",
    "import matplotlib.pyplot as plt\n",
    "import PIL.Image as Image\n",
    "\n",
    "import torch\n",
    "import torch.nn as nn\n",
    "from torch.utils.data import Dataset, DataLoader\n",
    "import torchvision\n",
    "from torchvision import transforms"
   ]
  },
  {
   "cell_type": "code",
   "execution_count": 2,
   "id": "5caf7a3a",
   "metadata": {
    "execution": {
     "iopub.execute_input": "2022-11-23T15:26:23.181335Z",
     "iopub.status.busy": "2022-11-23T15:26:23.180255Z",
     "iopub.status.idle": "2022-11-23T15:26:23.299288Z",
     "shell.execute_reply": "2022-11-23T15:26:23.298204Z"
    },
    "papermill": {
     "duration": 0.131766,
     "end_time": "2022-11-23T15:26:23.301794",
     "exception": false,
     "start_time": "2022-11-23T15:26:23.170028",
     "status": "completed"
    },
    "tags": []
   },
   "outputs": [
    {
     "name": "stdout",
     "output_type": "stream",
     "text": [
      "cuda\n"
     ]
    }
   ],
   "source": [
    "device = torch.device('cuda' if torch.cuda.is_available() else 'cpu') #Use GPU if it's available or else use CPU.\n",
    "print(device) #Prints the device we're using."
   ]
  },
  {
   "cell_type": "markdown",
   "id": "72ef7a5b",
   "metadata": {
    "papermill": {
     "duration": 0.009391,
     "end_time": "2022-11-23T15:26:23.320453",
     "exception": false,
     "start_time": "2022-11-23T15:26:23.311062",
     "status": "completed"
    },
    "tags": []
   },
   "source": [
    "## Prepare the data"
   ]
  },
  {
   "cell_type": "markdown",
   "id": "5b8cc292",
   "metadata": {
    "papermill": {
     "duration": 0.009244,
     "end_time": "2022-11-23T15:26:23.339709",
     "exception": false,
     "start_time": "2022-11-23T15:26:23.330465",
     "status": "completed"
    },
    "tags": []
   },
   "source": [
    "### Data Pre-processing"
   ]
  },
  {
   "cell_type": "code",
   "execution_count": 3,
   "id": "7950fdf7",
   "metadata": {
    "execution": {
     "iopub.execute_input": "2022-11-23T15:26:23.360703Z",
     "iopub.status.busy": "2022-11-23T15:26:23.359922Z",
     "iopub.status.idle": "2022-11-23T15:26:23.425262Z",
     "shell.execute_reply": "2022-11-23T15:26:23.424272Z"
    },
    "papermill": {
     "duration": 0.078481,
     "end_time": "2022-11-23T15:26:23.427732",
     "exception": false,
     "start_time": "2022-11-23T15:26:23.349251",
     "status": "completed"
    },
    "tags": []
   },
   "outputs": [],
   "source": [
    "dataset_path = \"../input/bias-buccaneers/\"\n",
    "train_df = pd.read_csv(f\"{dataset_path}train/labels.csv\")\n",
    "test_df = pd.read_csv(f\"{dataset_path}test/labels.csv\")"
   ]
  },
  {
   "cell_type": "code",
   "execution_count": 4,
   "id": "2f232a47",
   "metadata": {
    "execution": {
     "iopub.execute_input": "2022-11-23T15:26:23.449899Z",
     "iopub.status.busy": "2022-11-23T15:26:23.449024Z",
     "iopub.status.idle": "2022-11-23T15:26:23.455697Z",
     "shell.execute_reply": "2022-11-23T15:26:23.454034Z"
    },
    "papermill": {
     "duration": 0.020165,
     "end_time": "2022-11-23T15:26:23.458513",
     "exception": false,
     "start_time": "2022-11-23T15:26:23.438348",
     "status": "completed"
    },
    "tags": []
   },
   "outputs": [
    {
     "name": "stdout",
     "output_type": "stream",
     "text": [
      "Number of Training samples: 12283\n",
      "Number of Testing samples: 3000\n"
     ]
    }
   ],
   "source": [
    "print(f\"Number of Training samples: {len(train_df)}\")\n",
    "print(f\"Number of Testing samples: {len(test_df)}\")"
   ]
  },
  {
   "cell_type": "code",
   "execution_count": 5,
   "id": "1b2284d4",
   "metadata": {
    "execution": {
     "iopub.execute_input": "2022-11-23T15:26:23.479800Z",
     "iopub.status.busy": "2022-11-23T15:26:23.479103Z",
     "iopub.status.idle": "2022-11-23T15:26:23.484320Z",
     "shell.execute_reply": "2022-11-23T15:26:23.483373Z"
    },
    "papermill": {
     "duration": 0.018636,
     "end_time": "2022-11-23T15:26:23.487317",
     "exception": false,
     "start_time": "2022-11-23T15:26:23.468681",
     "status": "completed"
    },
    "tags": []
   },
   "outputs": [
    {
     "name": "stdout",
     "output_type": "stream",
     "text": [
      "['skin_tone', 'gender', 'age']\n"
     ]
    }
   ],
   "source": [
    "categories = train_df.columns[1:].tolist()\n",
    "print(categories)"
   ]
  },
  {
   "cell_type": "code",
   "execution_count": 6,
   "id": "71e198b7",
   "metadata": {
    "execution": {
     "iopub.execute_input": "2022-11-23T15:26:23.508794Z",
     "iopub.status.busy": "2022-11-23T15:26:23.508056Z",
     "iopub.status.idle": "2022-11-23T15:26:23.524180Z",
     "shell.execute_reply": "2022-11-23T15:26:23.523200Z"
    },
    "papermill": {
     "duration": 0.02835,
     "end_time": "2022-11-23T15:26:23.526279",
     "exception": false,
     "start_time": "2022-11-23T15:26:23.497929",
     "status": "completed"
    },
    "tags": []
   },
   "outputs": [
    {
     "data": {
      "text/plain": [
       "name            0\n",
       "skin_tone    3730\n",
       "gender       3730\n",
       "age          3730\n",
       "dtype: int64"
      ]
     },
     "execution_count": 6,
     "metadata": {},
     "output_type": "execute_result"
    }
   ],
   "source": [
    "train_df.isnull().sum()"
   ]
  },
  {
   "cell_type": "markdown",
   "id": "cd611404",
   "metadata": {
    "papermill": {
     "duration": 0.009048,
     "end_time": "2022-11-23T15:26:23.545305",
     "exception": false,
     "start_time": "2022-11-23T15:26:23.536257",
     "status": "completed"
    },
    "tags": []
   },
   "source": [
    "There are around 3730 samples in the training set which are unlabeled."
   ]
  },
  {
   "cell_type": "code",
   "execution_count": 7,
   "id": "87e9e2a4",
   "metadata": {
    "execution": {
     "iopub.execute_input": "2022-11-23T15:26:23.568543Z",
     "iopub.status.busy": "2022-11-23T15:26:23.566567Z",
     "iopub.status.idle": "2022-11-23T15:26:23.584476Z",
     "shell.execute_reply": "2022-11-23T15:26:23.582970Z"
    },
    "papermill": {
     "duration": 0.03156,
     "end_time": "2022-11-23T15:26:23.586569",
     "exception": false,
     "start_time": "2022-11-23T15:26:23.555009",
     "status": "completed"
    },
    "tags": []
   },
   "outputs": [
    {
     "name": "stdout",
     "output_type": "stream",
     "text": [
      "Number of labeled samples in the training set: 8553\n"
     ]
    }
   ],
   "source": [
    "train_df_labeled = train_df[train_df[\"skin_tone\"].notna()].copy(deep=True) # take only labeled data\n",
    "print(f\"Number of labeled samples in the training set: {len(train_df_labeled)}\")"
   ]
  },
  {
   "cell_type": "code",
   "execution_count": 8,
   "id": "8bdfcdef",
   "metadata": {
    "execution": {
     "iopub.execute_input": "2022-11-23T15:26:23.609630Z",
     "iopub.status.busy": "2022-11-23T15:26:23.607268Z",
     "iopub.status.idle": "2022-11-23T15:26:23.613257Z",
     "shell.execute_reply": "2022-11-23T15:26:23.612358Z"
    },
    "papermill": {
     "duration": 0.018946,
     "end_time": "2022-11-23T15:26:23.615293",
     "exception": false,
     "start_time": "2022-11-23T15:26:23.596347",
     "status": "completed"
    },
    "tags": []
   },
   "outputs": [],
   "source": [
    "#Modify the index values of the df\n",
    "train_df_labeled.reset_index(drop=True, inplace=True)"
   ]
  },
  {
   "cell_type": "markdown",
   "id": "99feb641",
   "metadata": {
    "papermill": {
     "duration": 0.00975,
     "end_time": "2022-11-23T15:26:23.635065",
     "exception": false,
     "start_time": "2022-11-23T15:26:23.625315",
     "status": "completed"
    },
    "tags": []
   },
   "source": [
    "Now we need to encode the labels into an integer such that we can use PyTorch's CrossEntropyLoss."
   ]
  },
  {
   "cell_type": "code",
   "execution_count": 9,
   "id": "a2e104e2",
   "metadata": {
    "execution": {
     "iopub.execute_input": "2022-11-23T15:26:23.656987Z",
     "iopub.status.busy": "2022-11-23T15:26:23.656693Z",
     "iopub.status.idle": "2022-11-23T15:26:23.671672Z",
     "shell.execute_reply": "2022-11-23T15:26:23.670064Z"
    },
    "papermill": {
     "duration": 0.029083,
     "end_time": "2022-11-23T15:26:23.674237",
     "exception": false,
     "start_time": "2022-11-23T15:26:23.645154",
     "status": "completed"
    },
    "tags": []
   },
   "outputs": [
    {
     "name": "stdout",
     "output_type": "stream",
     "text": [
      "Labels for Skin tone: ['monk_1', 'monk_6', 'monk_3', 'monk_2', 'monk_8', 'monk_4', 'monk_5', 'monk_9', 'monk_7', 'monk_10'], Count: 10\n",
      "Labels for Gender: ['female', 'male'], Count: 2\n",
      "Labels for Age: ['18_30', '0_17', '31_60', '61_100'], Count: 4\n"
     ]
    }
   ],
   "source": [
    "print(f\"Labels for Skin tone: {train_df_labeled['skin_tone'].unique().tolist()}, Count: {len(train_df_labeled['skin_tone'].unique())}\")\n",
    "print(f\"Labels for Gender: {train_df_labeled['gender'].unique().tolist()}, Count: {len(train_df_labeled['gender'].unique())}\")\n",
    "print(f\"Labels for Age: {train_df_labeled['age'].unique().tolist()}, Count: {len(train_df_labeled['age'].unique())}\")"
   ]
  },
  {
   "cell_type": "code",
   "execution_count": 10,
   "id": "7e38348d",
   "metadata": {
    "execution": {
     "iopub.execute_input": "2022-11-23T15:26:23.696822Z",
     "iopub.status.busy": "2022-11-23T15:26:23.695203Z",
     "iopub.status.idle": "2022-11-23T15:26:23.700800Z",
     "shell.execute_reply": "2022-11-23T15:26:23.699942Z"
    },
    "papermill": {
     "duration": 0.018044,
     "end_time": "2022-11-23T15:26:23.702730",
     "exception": false,
     "start_time": "2022-11-23T15:26:23.684686",
     "status": "completed"
    },
    "tags": []
   },
   "outputs": [],
   "source": [
    "skin_tone_labels = [f\"monk_{i}\" for i in range(1,11)]\n",
    "gender_labels = [\"male\", \"female\"]\n",
    "age_labels = [\"0_17\", \"18_30\", \"31_60\", \"61_100\"]"
   ]
  },
  {
   "cell_type": "code",
   "execution_count": 11,
   "id": "67c3096e",
   "metadata": {
    "execution": {
     "iopub.execute_input": "2022-11-23T15:26:23.724857Z",
     "iopub.status.busy": "2022-11-23T15:26:23.723299Z",
     "iopub.status.idle": "2022-11-23T15:26:23.743271Z",
     "shell.execute_reply": "2022-11-23T15:26:23.742459Z"
    },
    "papermill": {
     "duration": 0.032792,
     "end_time": "2022-11-23T15:26:23.745197",
     "exception": false,
     "start_time": "2022-11-23T15:26:23.712405",
     "status": "completed"
    },
    "tags": []
   },
   "outputs": [],
   "source": [
    "#encode train samples\n",
    "train_df_labeled['skin_tone'].replace(skin_tone_labels, list(range(len(skin_tone_labels))), inplace=True)\n",
    "train_df_labeled['gender'].replace(gender_labels, list(range(len(gender_labels))), inplace=True)\n",
    "train_df_labeled['age'].replace(age_labels, list(range(len(age_labels))), inplace=True)"
   ]
  },
  {
   "cell_type": "code",
   "execution_count": 12,
   "id": "6a9fa807",
   "metadata": {
    "execution": {
     "iopub.execute_input": "2022-11-23T15:26:23.766286Z",
     "iopub.status.busy": "2022-11-23T15:26:23.765515Z",
     "iopub.status.idle": "2022-11-23T15:26:23.778552Z",
     "shell.execute_reply": "2022-11-23T15:26:23.777693Z"
    },
    "papermill": {
     "duration": 0.025642,
     "end_time": "2022-11-23T15:26:23.780655",
     "exception": false,
     "start_time": "2022-11-23T15:26:23.755013",
     "status": "completed"
    },
    "tags": []
   },
   "outputs": [],
   "source": [
    "#encode test samples\n",
    "test_df['skin_tone'].replace(skin_tone_labels, list(range(len(skin_tone_labels))), inplace=True)\n",
    "test_df['gender'].replace(gender_labels, list(range(len(gender_labels))), inplace=True)\n",
    "test_df['age'].replace(age_labels, list(range(len(age_labels))), inplace=True)"
   ]
  },
  {
   "cell_type": "code",
   "execution_count": 13,
   "id": "5234ee2c",
   "metadata": {
    "execution": {
     "iopub.execute_input": "2022-11-23T15:26:23.802901Z",
     "iopub.status.busy": "2022-11-23T15:26:23.801996Z",
     "iopub.status.idle": "2022-11-23T15:26:23.809797Z",
     "shell.execute_reply": "2022-11-23T15:26:23.808756Z"
    },
    "papermill": {
     "duration": 0.021178,
     "end_time": "2022-11-23T15:26:23.812000",
     "exception": false,
     "start_time": "2022-11-23T15:26:23.790822",
     "status": "completed"
    },
    "tags": []
   },
   "outputs": [],
   "source": [
    "#there are around 5 grayscale images in the dataset, so it is better to remove them.\n",
    "grayscale_img_indices = [153, 647, 4905, 6184, 6389]\n",
    "train_df_labeled.drop(labels=grayscale_img_indices, axis=0, inplace=True)\n",
    "train_df_labeled.reset_index(drop=True, inplace=True)"
   ]
  },
  {
   "cell_type": "markdown",
   "id": "b5937404",
   "metadata": {
    "papermill": {
     "duration": 0.009523,
     "end_time": "2022-11-23T15:26:23.831675",
     "exception": false,
     "start_time": "2022-11-23T15:26:23.822152",
     "status": "completed"
    },
    "tags": []
   },
   "source": [
    "### Distribution of class labels"
   ]
  },
  {
   "cell_type": "code",
   "execution_count": 14,
   "id": "93f26d31",
   "metadata": {
    "execution": {
     "iopub.execute_input": "2022-11-23T15:26:23.853097Z",
     "iopub.status.busy": "2022-11-23T15:26:23.852332Z",
     "iopub.status.idle": "2022-11-23T15:26:23.856869Z",
     "shell.execute_reply": "2022-11-23T15:26:23.855950Z"
    },
    "papermill": {
     "duration": 0.01717,
     "end_time": "2022-11-23T15:26:23.858865",
     "exception": false,
     "start_time": "2022-11-23T15:26:23.841695",
     "status": "completed"
    },
    "tags": []
   },
   "outputs": [],
   "source": [
    "#train_df_labeled.skin_tone.hist()\n",
    "#plt.xticks(list(range(10)))\n",
    "#plt.grid(False)\n",
    "#plt.show() "
   ]
  },
  {
   "cell_type": "markdown",
   "id": "1ff65db7",
   "metadata": {
    "papermill": {
     "duration": 0.009474,
     "end_time": "2022-11-23T15:26:23.878323",
     "exception": false,
     "start_time": "2022-11-23T15:26:23.868849",
     "status": "completed"
    },
    "tags": []
   },
   "source": [
    "### Plotting images"
   ]
  },
  {
   "cell_type": "code",
   "execution_count": 15,
   "id": "691adfdf",
   "metadata": {
    "execution": {
     "iopub.execute_input": "2022-11-23T15:26:23.900388Z",
     "iopub.status.busy": "2022-11-23T15:26:23.898662Z",
     "iopub.status.idle": "2022-11-23T15:26:24.201209Z",
     "shell.execute_reply": "2022-11-23T15:26:24.200108Z"
    },
    "papermill": {
     "duration": 0.316145,
     "end_time": "2022-11-23T15:26:24.204150",
     "exception": false,
     "start_time": "2022-11-23T15:26:23.888005",
     "status": "completed"
    },
    "tags": []
   },
   "outputs": [
    {
     "name": "stdout",
     "output_type": "stream",
     "text": [
      "skin tone: monk_6\n",
      "gender: female\n",
      "age: 31_60\n"
     ]
    },
    {
     "data": {
      "image/png": "[encoded data removed]",
      "text/plain": [
       "<Figure size 432x288 with 1 Axes>"
      ]
     },
     "metadata": {
      "needs_background": "light"
     },
     "output_type": "display_data"
    }
   ],
   "source": [
    "sample_img_id = 100\n",
    "sample_img = Image.open(f\"{dataset_path}train/{train_df_labeled['name'][sample_img_id]}\")\n",
    "plt.imshow(sample_img)\n",
    "print(f\"skin tone: {skin_tone_labels[train_df_labeled['skin_tone'][sample_img_id]]}\")\n",
    "print(f\"gender: {gender_labels[train_df_labeled['gender'][sample_img_id]]}\")\n",
    "print(f\"age: {age_labels[train_df_labeled['age'][sample_img_id]]}\")"
   ]
  },
  {
   "cell_type": "markdown",
   "id": "04c0f3c7",
   "metadata": {
    "papermill": {
     "duration": 0.010938,
     "end_time": "2022-11-23T15:26:24.226287",
     "exception": false,
     "start_time": "2022-11-23T15:26:24.215349",
     "status": "completed"
    },
    "tags": []
   },
   "source": [
    "### Building the DataLoader"
   ]
  },
  {
   "cell_type": "code",
   "execution_count": 16,
   "id": "a2fd3527",
   "metadata": {
    "execution": {
     "iopub.execute_input": "2022-11-23T15:26:24.253118Z",
     "iopub.status.busy": "2022-11-23T15:26:24.252744Z",
     "iopub.status.idle": "2022-11-23T15:26:24.259872Z",
     "shell.execute_reply": "2022-11-23T15:26:24.258865Z"
    },
    "papermill": {
     "duration": 0.024804,
     "end_time": "2022-11-23T15:26:24.261976",
     "exception": false,
     "start_time": "2022-11-23T15:26:24.237172",
     "status": "completed"
    },
    "tags": []
   },
   "outputs": [],
   "source": [
    "class ImageDataset(Dataset):\n",
    "    def __init__(self, df, data_path, image_transform=None):\n",
    "        self.df = df\n",
    "        self.data_path = data_path\n",
    "        self.image_transform = image_transform\n",
    "\n",
    "    def __len__(self):\n",
    "        return len(self.df)\n",
    "    \n",
    "    def __getitem__(self, index):\n",
    "        img = Image.open(f\"{self.data_path}{self.df['name'][index]}\")\n",
    "        if self.image_transform:\n",
    "            img = self.image_transform(img)\n",
    "        #we need to provide labels for skin_tone, gender, age\n",
    "        labels = (self.df['skin_tone'][index], self.df['gender'][index], self.df['age'][index])\n",
    "        return img, labels"
   ]
  },
  {
   "cell_type": "code",
   "execution_count": 17,
   "id": "8ace52e6",
   "metadata": {
    "execution": {
     "iopub.execute_input": "2022-11-23T15:26:24.287338Z",
     "iopub.status.busy": "2022-11-23T15:26:24.286300Z",
     "iopub.status.idle": "2022-11-23T15:26:24.293393Z",
     "shell.execute_reply": "2022-11-23T15:26:24.292477Z"
    },
    "papermill": {
     "duration": 0.021643,
     "end_time": "2022-11-23T15:26:24.295452",
     "exception": false,
     "start_time": "2022-11-23T15:26:24.273809",
     "status": "completed"
    },
    "tags": []
   },
   "outputs": [],
   "source": [
    "#the dataset size is too small, it overfits to the training set, so we need to make use of data augmentations\n",
    "image_transform = transforms.Compose([\n",
    "                             transforms.ToTensor(),\n",
    "                             transforms.ColorJitter(hue=.05, saturation=.05),\n",
    "                             transforms.RandomHorizontalFlip(),\n",
    "                             transforms.RandomRotation(20, interpolation=transforms.InterpolationMode.BILINEAR),\n",
    "                             #transforms.Normalize((0.5),(0.5)),\n",
    "                             transforms.Normalize((0.485, 0.456, 0.406), (0.229, 0.224, 0.225)),\n",
    "                            ])\n",
    "\n",
    "train_dataset = ImageDataset(train_df_labeled, f\"{dataset_path}train/\", image_transform)"
   ]
  },
  {
   "cell_type": "code",
   "execution_count": 18,
   "id": "c52b2ac4",
   "metadata": {
    "execution": {
     "iopub.execute_input": "2022-11-23T15:26:24.320220Z",
     "iopub.status.busy": "2022-11-23T15:26:24.319305Z",
     "iopub.status.idle": "2022-11-23T15:26:24.324549Z",
     "shell.execute_reply": "2022-11-23T15:26:24.323697Z"
    },
    "papermill": {
     "duration": 0.019775,
     "end_time": "2022-11-23T15:26:24.326891",
     "exception": false,
     "start_time": "2022-11-23T15:26:24.307116",
     "status": "completed"
    },
    "tags": []
   },
   "outputs": [],
   "source": [
    "train_loader = DataLoader(train_dataset, batch_size=64, shuffle=True)"
   ]
  },
  {
   "cell_type": "code",
   "execution_count": 19,
   "id": "af0f8cd8",
   "metadata": {
    "execution": {
     "iopub.execute_input": "2022-11-23T15:26:24.350543Z",
     "iopub.status.busy": "2022-11-23T15:26:24.349708Z",
     "iopub.status.idle": "2022-11-23T15:26:26.437158Z",
     "shell.execute_reply": "2022-11-23T15:26:26.436003Z"
    },
    "papermill": {
     "duration": 2.101886,
     "end_time": "2022-11-23T15:26:26.439860",
     "exception": false,
     "start_time": "2022-11-23T15:26:24.337974",
     "status": "completed"
    },
    "tags": []
   },
   "outputs": [],
   "source": [
    "#for testing purposes\n",
    "img_batch = next(iter(train_loader))"
   ]
  },
  {
   "cell_type": "code",
   "execution_count": 20,
   "id": "1508742c",
   "metadata": {
    "execution": {
     "iopub.execute_input": "2022-11-23T15:26:26.464888Z",
     "iopub.status.busy": "2022-11-23T15:26:26.463983Z",
     "iopub.status.idle": "2022-11-23T15:26:26.494620Z",
     "shell.execute_reply": "2022-11-23T15:26:26.493785Z"
    },
    "papermill": {
     "duration": 0.045698,
     "end_time": "2022-11-23T15:26:26.497691",
     "exception": false,
     "start_time": "2022-11-23T15:26:26.451993",
     "status": "completed"
    },
    "tags": []
   },
   "outputs": [
    {
     "data": {
      "image/png": "[encoded data removed]",
      "text/plain": [
       "<PIL.Image.Image image mode=RGB size=256x256>"
      ]
     },
     "execution_count": 20,
     "metadata": {},
     "output_type": "execute_result"
    }
   ],
   "source": [
    "transforms.ToPILImage()(img_batch[0][0])"
   ]
  },
  {
   "cell_type": "markdown",
   "id": "ca14fe44",
   "metadata": {
    "papermill": {
     "duration": 0.012814,
     "end_time": "2022-11-23T15:26:26.522994",
     "exception": false,
     "start_time": "2022-11-23T15:26:26.510180",
     "status": "completed"
    },
    "tags": []
   },
   "source": [
    "## Build the model"
   ]
  },
  {
   "cell_type": "code",
   "execution_count": 21,
   "id": "a5adbe91",
   "metadata": {
    "execution": {
     "iopub.execute_input": "2022-11-23T15:26:26.548524Z",
     "iopub.status.busy": "2022-11-23T15:26:26.548248Z",
     "iopub.status.idle": "2022-11-23T15:26:26.554386Z",
     "shell.execute_reply": "2022-11-23T15:26:26.553386Z"
    },
    "papermill": {
     "duration": 0.021654,
     "end_time": "2022-11-23T15:26:26.556684",
     "exception": false,
     "start_time": "2022-11-23T15:26:26.535030",
     "status": "completed"
    },
    "tags": []
   },
   "outputs": [],
   "source": [
    "class ClassifierModel(nn.Module):\n",
    "    def __init__(self, num_classes):\n",
    "        super().__init__()\n",
    "        self.backbone = torchvision.models.resnet18(pretrained=True)\n",
    "        self.classifier = nn.Sequential(nn.ReLU(), nn.Linear(1000, 512), nn.ReLU(), nn.Linear(512, num_classes))\n",
    "    def forward(self, x):\n",
    "        x = self.backbone(x)\n",
    "        x = self.classifier(x)\n",
    "        return x"
   ]
  },
  {
   "cell_type": "markdown",
   "id": "a8dd2daa",
   "metadata": {
    "papermill": {
     "duration": 0.01244,
     "end_time": "2022-11-23T15:26:26.581389",
     "exception": false,
     "start_time": "2022-11-23T15:26:26.568949",
     "status": "completed"
    },
    "tags": []
   },
   "source": [
    "Create separate instantiations of ClassifierModel for classifying skin tone, gender, age."
   ]
  },
  {
   "cell_type": "code",
   "execution_count": 22,
   "id": "a1b9d81f",
   "metadata": {
    "execution": {
     "iopub.execute_input": "2022-11-23T15:26:26.607149Z",
     "iopub.status.busy": "2022-11-23T15:26:26.606862Z",
     "iopub.status.idle": "2022-11-23T15:26:37.709620Z",
     "shell.execute_reply": "2022-11-23T15:26:37.708532Z"
    },
    "papermill": {
     "duration": 11.119209,
     "end_time": "2022-11-23T15:26:37.712788",
     "exception": false,
     "start_time": "2022-11-23T15:26:26.593579",
     "status": "completed"
    },
    "tags": []
   },
   "outputs": [
    {
     "name": "stderr",
     "output_type": "stream",
     "text": [
      "Downloading: \"https://download.pytorch.org/models/resnet18-f37072fd.pth\" to /root/.cache/torch/hub/checkpoints/resnet18-f37072fd.pth\n"
     ]
    },
    {
     "data": {
      "application/vnd.jupyter.widget-view+json": {
       "model_id": "58e74ec978a9427ea5e99c1c245697e7",
       "version_major": 2,
       "version_minor": 0
      },
      "text/plain": [
       "  0%|          | 0.00/44.7M [00:00<?, ?B/s]"
      ]
     },
     "metadata": {},
     "output_type": "display_data"
    }
   ],
   "source": [
    "skintone_classifier = ClassifierModel(num_classes=10).to(device)\n",
    "gender_classifier = ClassifierModel(num_classes=2).to(device)\n",
    "age_classifier = ClassifierModel(num_classes=4).to(device)"
   ]
  },
  {
   "cell_type": "markdown",
   "id": "c4c96190",
   "metadata": {
    "papermill": {
     "duration": 0.014211,
     "end_time": "2022-11-23T15:26:37.742564",
     "exception": false,
     "start_time": "2022-11-23T15:26:37.728353",
     "status": "completed"
    },
    "tags": []
   },
   "source": [
    "## Helper functions"
   ]
  },
  {
   "cell_type": "code",
   "execution_count": 23,
   "id": "db19bf58",
   "metadata": {
    "execution": {
     "iopub.execute_input": "2022-11-23T15:26:37.772887Z",
     "iopub.status.busy": "2022-11-23T15:26:37.772498Z",
     "iopub.status.idle": "2022-11-23T15:26:37.781213Z",
     "shell.execute_reply": "2022-11-23T15:26:37.780200Z"
    },
    "papermill": {
     "duration": 0.026339,
     "end_time": "2022-11-23T15:26:37.783254",
     "exception": false,
     "start_time": "2022-11-23T15:26:37.756915",
     "status": "completed"
    },
    "tags": []
   },
   "outputs": [],
   "source": [
    "def train(dataloader, model, loss_fn, optimizer, class_index:int, num_epochs:int = 100):\n",
    "    model.train()\n",
    "    for epoch in range(1,num_epochs+1):\n",
    "        total = 0\n",
    "        correct = 0\n",
    "        running_loss = 0\n",
    "        for imgs, labels in dataloader:\n",
    "            labels = labels[class_index]\n",
    "            output = model(imgs.to(device))\n",
    "            loss = loss_fn(output, labels.to(device))\n",
    "                   \n",
    "            running_loss += loss.item()\n",
    "            total        += labels.size(0)\n",
    "            predictions   = output.argmax(dim=1).cpu().detach() \n",
    "            correct      += (predictions == labels.cpu().detach()).sum().item() \n",
    "        \n",
    "            optimizer.zero_grad()\n",
    "            loss.backward() \n",
    "            optimizer.step() \n",
    "             \n",
    "        avg_loss = running_loss/len(dataloader) # Average loss for a single batch\n",
    "        print(f'Epoch {epoch}/{num_epochs} - loss: {avg_loss:.2f} - accuracy: {correct/total:.2f}')"
   ]
  },
  {
   "cell_type": "code",
   "execution_count": 24,
   "id": "30594431",
   "metadata": {
    "execution": {
     "iopub.execute_input": "2022-11-23T15:26:37.810614Z",
     "iopub.status.busy": "2022-11-23T15:26:37.809777Z",
     "iopub.status.idle": "2022-11-23T15:26:37.815979Z",
     "shell.execute_reply": "2022-11-23T15:26:37.815168Z"
    },
    "papermill": {
     "duration": 0.022012,
     "end_time": "2022-11-23T15:26:37.818035",
     "exception": false,
     "start_time": "2022-11-23T15:26:37.796023",
     "status": "completed"
    },
    "tags": []
   },
   "outputs": [],
   "source": [
    "def make_predictions(dataloader, model):\n",
    "    model.eval()\n",
    "    predicted_labels = []\n",
    "    with torch.no_grad():\n",
    "        for imgs, _ in dataloader:\n",
    "            output = model(imgs.to(device))\n",
    "            preds = output.argmax(dim=1).cpu().detach().tolist()\n",
    "            predicted_labels.extend(preds)\n",
    "    return predicted_labels"
   ]
  },
  {
   "cell_type": "markdown",
   "id": "b5dcc22c",
   "metadata": {
    "papermill": {
     "duration": 0.01223,
     "end_time": "2022-11-23T15:26:37.842855",
     "exception": false,
     "start_time": "2022-11-23T15:26:37.830625",
     "status": "completed"
    },
    "tags": []
   },
   "source": [
    "## Train the model"
   ]
  },
  {
   "cell_type": "markdown",
   "id": "0416e8b0",
   "metadata": {
    "papermill": {
     "duration": 0.012355,
     "end_time": "2022-11-23T15:26:37.867592",
     "exception": false,
     "start_time": "2022-11-23T15:26:37.855237",
     "status": "completed"
    },
    "tags": []
   },
   "source": [
    "Train all the classifier models. Before doing so, the classes for each category is unbalanced, so we need to calcualte the class weights."
   ]
  },
  {
   "cell_type": "code",
   "execution_count": 25,
   "id": "93a295e4",
   "metadata": {
    "execution": {
     "iopub.execute_input": "2022-11-23T15:26:37.895572Z",
     "iopub.status.busy": "2022-11-23T15:26:37.894643Z",
     "iopub.status.idle": "2022-11-23T15:26:39.265732Z",
     "shell.execute_reply": "2022-11-23T15:26:39.264637Z"
    },
    "papermill": {
     "duration": 1.387556,
     "end_time": "2022-11-23T15:26:39.268549",
     "exception": false,
     "start_time": "2022-11-23T15:26:37.880993",
     "status": "completed"
    },
    "tags": []
   },
   "outputs": [],
   "source": [
    "from sklearn.utils import class_weight"
   ]
  },
  {
   "cell_type": "code",
   "execution_count": 26,
   "id": "e29efed9",
   "metadata": {
    "execution": {
     "iopub.execute_input": "2022-11-23T15:26:39.297431Z",
     "iopub.status.busy": "2022-11-23T15:26:39.297065Z",
     "iopub.status.idle": "2022-11-23T17:30:15.312928Z",
     "shell.execute_reply": "2022-11-23T17:30:15.311860Z"
    },
    "papermill": {
     "duration": 7416.048601,
     "end_time": "2022-11-23T17:30:15.330900",
     "exception": false,
     "start_time": "2022-11-23T15:26:39.282299",
     "status": "completed"
    },
    "tags": []
   },
   "outputs": [
    {
     "name": "stdout",
     "output_type": "stream",
     "text": [
      "Epoch 1/40 - loss: 2.11 - accuracy: 0.15\n",
      "Epoch 2/40 - loss: 1.95 - accuracy: 0.19\n",
      "Epoch 3/40 - loss: 1.90 - accuracy: 0.21\n",
      "Epoch 4/40 - loss: 1.84 - accuracy: 0.23\n",
      "Epoch 5/40 - loss: 1.79 - accuracy: 0.25\n",
      "Epoch 6/40 - loss: 1.76 - accuracy: 0.25\n",
      "Epoch 7/40 - loss: 1.68 - accuracy: 0.28\n",
      "Epoch 8/40 - loss: 1.64 - accuracy: 0.29\n",
      "Epoch 9/40 - loss: 1.58 - accuracy: 0.31\n",
      "Epoch 10/40 - loss: 1.51 - accuracy: 0.32\n",
      "Epoch 11/40 - loss: 1.45 - accuracy: 0.34\n",
      "Epoch 12/40 - loss: 1.35 - accuracy: 0.37\n",
      "Epoch 13/40 - loss: 1.33 - accuracy: 0.38\n",
      "Epoch 14/40 - loss: 1.29 - accuracy: 0.41\n",
      "Epoch 15/40 - loss: 1.23 - accuracy: 0.43\n",
      "Epoch 16/40 - loss: 1.10 - accuracy: 0.47\n",
      "Epoch 17/40 - loss: 1.13 - accuracy: 0.46\n",
      "Epoch 18/40 - loss: 1.07 - accuracy: 0.49\n",
      "Epoch 19/40 - loss: 1.03 - accuracy: 0.50\n",
      "Epoch 20/40 - loss: 0.90 - accuracy: 0.55\n",
      "Epoch 21/40 - loss: 0.82 - accuracy: 0.58\n",
      "Epoch 22/40 - loss: 0.73 - accuracy: 0.62\n",
      "Epoch 23/40 - loss: 0.76 - accuracy: 0.62\n",
      "Epoch 24/40 - loss: 0.67 - accuracy: 0.65\n",
      "Epoch 25/40 - loss: 0.61 - accuracy: 0.68\n",
      "Epoch 26/40 - loss: 0.53 - accuracy: 0.71\n",
      "Epoch 27/40 - loss: 0.48 - accuracy: 0.75\n",
      "Epoch 28/40 - loss: 0.57 - accuracy: 0.73\n",
      "Epoch 29/40 - loss: 0.52 - accuracy: 0.74\n",
      "Epoch 30/40 - loss: 0.48 - accuracy: 0.76\n",
      "Epoch 31/40 - loss: 0.39 - accuracy: 0.80\n",
      "Epoch 32/40 - loss: 0.43 - accuracy: 0.79\n",
      "Epoch 33/40 - loss: 0.44 - accuracy: 0.79\n",
      "Epoch 34/40 - loss: 0.49 - accuracy: 0.77\n",
      "Epoch 35/40 - loss: 0.37 - accuracy: 0.82\n",
      "Epoch 36/40 - loss: 0.29 - accuracy: 0.86\n",
      "Epoch 37/40 - loss: 0.27 - accuracy: 0.86\n",
      "Epoch 38/40 - loss: 0.24 - accuracy: 0.88\n",
      "Epoch 39/40 - loss: 0.20 - accuracy: 0.90\n",
      "Epoch 40/40 - loss: 0.21 - accuracy: 0.90\n"
     ]
    }
   ],
   "source": [
    "#skintone classification\n",
    "class_weights = class_weight.compute_class_weight(class_weight='balanced', classes=np.array(range(len(skin_tone_labels))), y=train_df_labeled['skin_tone'].values)\n",
    "class_weights = torch.tensor(class_weights,dtype=torch.float).to(device)\n",
    "loss_fn   = nn.CrossEntropyLoss(weight=class_weights) #CrossEntropyLoss with class_weights\n",
    "optimizer = torch.optim.SGD(skintone_classifier.parameters(), lr=0.01, momentum=0.9)\n",
    "train(train_loader, skintone_classifier, loss_fn, optimizer, class_index=0, num_epochs=40)"
   ]
  },
  {
   "cell_type": "code",
   "execution_count": 27,
   "id": "ae992785",
   "metadata": {
    "execution": {
     "iopub.execute_input": "2022-11-23T17:30:15.363900Z",
     "iopub.status.busy": "2022-11-23T17:30:15.363544Z",
     "iopub.status.idle": "2022-11-23T19:31:57.701761Z",
     "shell.execute_reply": "2022-11-23T19:31:57.697379Z"
    },
    "papermill": {
     "duration": 7302.371502,
     "end_time": "2022-11-23T19:31:57.718314",
     "exception": false,
     "start_time": "2022-11-23T17:30:15.346812",
     "status": "completed"
    },
    "tags": []
   },
   "outputs": [
    {
     "name": "stdout",
     "output_type": "stream",
     "text": [
      "Epoch 1/40 - loss: 0.53 - accuracy: 0.70\n",
      "Epoch 2/40 - loss: 0.42 - accuracy: 0.77\n",
      "Epoch 3/40 - loss: 0.37 - accuracy: 0.80\n",
      "Epoch 4/40 - loss: 0.35 - accuracy: 0.82\n",
      "Epoch 5/40 - loss: 0.31 - accuracy: 0.84\n",
      "Epoch 6/40 - loss: 0.28 - accuracy: 0.86\n",
      "Epoch 7/40 - loss: 0.26 - accuracy: 0.88\n",
      "Epoch 8/40 - loss: 0.24 - accuracy: 0.89\n",
      "Epoch 9/40 - loss: 0.22 - accuracy: 0.90\n",
      "Epoch 10/40 - loss: 0.20 - accuracy: 0.91\n",
      "Epoch 11/40 - loss: 0.17 - accuracy: 0.93\n",
      "Epoch 12/40 - loss: 0.16 - accuracy: 0.93\n",
      "Epoch 13/40 - loss: 0.14 - accuracy: 0.94\n",
      "Epoch 14/40 - loss: 0.14 - accuracy: 0.94\n",
      "Epoch 15/40 - loss: 0.13 - accuracy: 0.95\n",
      "Epoch 16/40 - loss: 0.11 - accuracy: 0.96\n",
      "Epoch 17/40 - loss: 0.10 - accuracy: 0.97\n",
      "Epoch 18/40 - loss: 0.10 - accuracy: 0.96\n",
      "Epoch 19/40 - loss: 0.09 - accuracy: 0.97\n",
      "Epoch 20/40 - loss: 0.09 - accuracy: 0.97\n",
      "Epoch 21/40 - loss: 0.08 - accuracy: 0.97\n",
      "Epoch 22/40 - loss: 0.08 - accuracy: 0.97\n",
      "Epoch 23/40 - loss: 0.06 - accuracy: 0.98\n",
      "Epoch 24/40 - loss: 0.06 - accuracy: 0.98\n",
      "Epoch 25/40 - loss: 0.07 - accuracy: 0.97\n",
      "Epoch 26/40 - loss: 0.05 - accuracy: 0.98\n",
      "Epoch 27/40 - loss: 0.06 - accuracy: 0.98\n",
      "Epoch 28/40 - loss: 0.06 - accuracy: 0.98\n",
      "Epoch 29/40 - loss: 0.05 - accuracy: 0.98\n",
      "Epoch 30/40 - loss: 0.05 - accuracy: 0.98\n",
      "Epoch 31/40 - loss: 0.06 - accuracy: 0.98\n",
      "Epoch 32/40 - loss: 0.05 - accuracy: 0.98\n",
      "Epoch 33/40 - loss: 0.04 - accuracy: 0.99\n",
      "Epoch 34/40 - loss: 0.04 - accuracy: 0.99\n",
      "Epoch 35/40 - loss: 0.04 - accuracy: 0.99\n",
      "Epoch 36/40 - loss: 0.04 - accuracy: 0.99\n",
      "Epoch 37/40 - loss: 0.03 - accuracy: 0.99\n",
      "Epoch 38/40 - loss: 0.03 - accuracy: 0.99\n",
      "Epoch 39/40 - loss: 0.05 - accuracy: 0.98\n",
      "Epoch 40/40 - loss: 0.03 - accuracy: 0.99\n"
     ]
    }
   ],
   "source": [
    "#gender classification\n",
    "class_weights = class_weight.compute_class_weight(class_weight='balanced', classes=np.array(range(len(gender_labels))), y=train_df_labeled['gender'].values)\n",
    "class_weights = torch.tensor(class_weights,dtype=torch.float).to(device)\n",
    "loss_fn   = nn.CrossEntropyLoss(weight=class_weights)\n",
    "optimizer = torch.optim.SGD(gender_classifier.parameters(), lr=0.01, momentum=0.9)\n",
    "train(train_loader, gender_classifier, loss_fn, optimizer, class_index=1, num_epochs=40)"
   ]
  },
  {
   "cell_type": "code",
   "execution_count": 28,
   "id": "d729817f",
   "metadata": {
    "execution": {
     "iopub.execute_input": "2022-11-23T19:31:57.752996Z",
     "iopub.status.busy": "2022-11-23T19:31:57.752680Z",
     "iopub.status.idle": "2022-11-23T21:33:10.651848Z",
     "shell.execute_reply": "2022-11-23T21:33:10.650813Z"
    },
    "papermill": {
     "duration": 7272.93592,
     "end_time": "2022-11-23T21:33:10.670641",
     "exception": false,
     "start_time": "2022-11-23T19:31:57.734721",
     "status": "completed"
    },
    "tags": []
   },
   "outputs": [
    {
     "name": "stdout",
     "output_type": "stream",
     "text": [
      "Epoch 1/40 - loss: 1.22 - accuracy: 0.39\n",
      "Epoch 2/40 - loss: 1.05 - accuracy: 0.47\n",
      "Epoch 3/40 - loss: 1.00 - accuracy: 0.49\n",
      "Epoch 4/40 - loss: 0.94 - accuracy: 0.52\n",
      "Epoch 5/40 - loss: 0.93 - accuracy: 0.51\n",
      "Epoch 6/40 - loss: 0.88 - accuracy: 0.52\n",
      "Epoch 7/40 - loss: 0.83 - accuracy: 0.54\n",
      "Epoch 8/40 - loss: 0.81 - accuracy: 0.56\n",
      "Epoch 9/40 - loss: 0.79 - accuracy: 0.57\n",
      "Epoch 10/40 - loss: 0.73 - accuracy: 0.58\n",
      "Epoch 11/40 - loss: 0.69 - accuracy: 0.60\n",
      "Epoch 12/40 - loss: 0.67 - accuracy: 0.62\n",
      "Epoch 13/40 - loss: 0.64 - accuracy: 0.63\n",
      "Epoch 14/40 - loss: 0.61 - accuracy: 0.65\n",
      "Epoch 15/40 - loss: 0.59 - accuracy: 0.67\n",
      "Epoch 16/40 - loss: 0.57 - accuracy: 0.68\n",
      "Epoch 17/40 - loss: 0.62 - accuracy: 0.65\n",
      "Epoch 18/40 - loss: 0.52 - accuracy: 0.70\n",
      "Epoch 19/40 - loss: 0.51 - accuracy: 0.70\n",
      "Epoch 20/40 - loss: 0.47 - accuracy: 0.72\n",
      "Epoch 21/40 - loss: 0.42 - accuracy: 0.76\n",
      "Epoch 22/40 - loss: 0.38 - accuracy: 0.79\n",
      "Epoch 23/40 - loss: 0.38 - accuracy: 0.78\n",
      "Epoch 24/40 - loss: 0.35 - accuracy: 0.80\n",
      "Epoch 25/40 - loss: 0.33 - accuracy: 0.82\n",
      "Epoch 26/40 - loss: 0.32 - accuracy: 0.83\n",
      "Epoch 27/40 - loss: 0.25 - accuracy: 0.86\n",
      "Epoch 28/40 - loss: 0.32 - accuracy: 0.85\n",
      "Epoch 29/40 - loss: 0.38 - accuracy: 0.81\n",
      "Epoch 30/40 - loss: 0.27 - accuracy: 0.86\n",
      "Epoch 31/40 - loss: 0.21 - accuracy: 0.89\n",
      "Epoch 32/40 - loss: 0.20 - accuracy: 0.89\n",
      "Epoch 33/40 - loss: 0.16 - accuracy: 0.91\n",
      "Epoch 34/40 - loss: 0.18 - accuracy: 0.91\n",
      "Epoch 35/40 - loss: 0.18 - accuracy: 0.91\n",
      "Epoch 36/40 - loss: 0.19 - accuracy: 0.91\n",
      "Epoch 37/40 - loss: 0.16 - accuracy: 0.92\n",
      "Epoch 38/40 - loss: 0.19 - accuracy: 0.91\n",
      "Epoch 39/40 - loss: 0.18 - accuracy: 0.91\n",
      "Epoch 40/40 - loss: 0.25 - accuracy: 0.88\n"
     ]
    }
   ],
   "source": [
    "#age classification\n",
    "class_weights = class_weight.compute_class_weight(class_weight='balanced', classes=np.array(range(len(age_labels))), y=train_df_labeled['age'].values)\n",
    "class_weights = torch.tensor(class_weights,dtype=torch.float).to(device)\n",
    "loss_fn   = nn.CrossEntropyLoss(weight=class_weights) #CrossEntropyLoss with class_weights\n",
    "optimizer = torch.optim.SGD(age_classifier.parameters(), lr=0.01, momentum=0.9)\n",
    "train(train_loader, age_classifier, loss_fn, optimizer, class_index=2, num_epochs=40)"
   ]
  },
  {
   "cell_type": "code",
   "execution_count": 29,
   "id": "856610f9",
   "metadata": {
    "execution": {
     "iopub.execute_input": "2022-11-23T21:33:10.709825Z",
     "iopub.status.busy": "2022-11-23T21:33:10.709461Z",
     "iopub.status.idle": "2022-11-23T21:33:10.982105Z",
     "shell.execute_reply": "2022-11-23T21:33:10.981186Z"
    },
    "papermill": {
     "duration": 0.294911,
     "end_time": "2022-11-23T21:33:10.984507",
     "exception": false,
     "start_time": "2022-11-23T21:33:10.689596",
     "status": "completed"
    },
    "tags": []
   },
   "outputs": [],
   "source": [
    "#save the models\n",
    "import os\n",
    "os.mkdir(\"saved models\")\n",
    "torch.save(skintone_classifier,\"./saved models/skintone_classifier.pt\")\n",
    "torch.save(gender_classifier,\"./saved models/gender_classifier.pt\")\n",
    "torch.save(age_classifier,\"./saved models/age_classifier.pt\")"
   ]
  },
  {
   "cell_type": "markdown",
   "id": "8b5b4608",
   "metadata": {
    "papermill": {
     "duration": 0.01774,
     "end_time": "2022-11-23T21:33:11.020666",
     "exception": false,
     "start_time": "2022-11-23T21:33:11.002926",
     "status": "completed"
    },
    "tags": []
   },
   "source": [
    "## Make Predictions on Test data"
   ]
  },
  {
   "cell_type": "code",
   "execution_count": 30,
   "id": "a9e91847",
   "metadata": {
    "execution": {
     "iopub.execute_input": "2022-11-23T21:33:11.058904Z",
     "iopub.status.busy": "2022-11-23T21:33:11.058569Z",
     "iopub.status.idle": "2022-11-23T21:33:11.063773Z",
     "shell.execute_reply": "2022-11-23T21:33:11.062820Z"
    },
    "papermill": {
     "duration": 0.026877,
     "end_time": "2022-11-23T21:33:11.065836",
     "exception": false,
     "start_time": "2022-11-23T21:33:11.038959",
     "status": "completed"
    },
    "tags": []
   },
   "outputs": [],
   "source": [
    "test_image_transform = transforms.Compose([\n",
    "                                  transforms.ToTensor(),\n",
    "                                  transforms.Normalize((0.485, 0.456, 0.406), (0.229, 0.224, 0.225)),\n",
    "                                         ])"
   ]
  },
  {
   "cell_type": "code",
   "execution_count": 31,
   "id": "695d732b",
   "metadata": {
    "execution": {
     "iopub.execute_input": "2022-11-23T21:33:11.102953Z",
     "iopub.status.busy": "2022-11-23T21:33:11.102692Z",
     "iopub.status.idle": "2022-11-23T21:33:11.107388Z",
     "shell.execute_reply": "2022-11-23T21:33:11.106431Z"
    },
    "papermill": {
     "duration": 0.025761,
     "end_time": "2022-11-23T21:33:11.109283",
     "exception": false,
     "start_time": "2022-11-23T21:33:11.083522",
     "status": "completed"
    },
    "tags": []
   },
   "outputs": [],
   "source": [
    "#prepare the dataloader for test data\n",
    "test_data = ImageDataset(test_df, f\"{dataset_path}test/\", test_image_transform)\n",
    "test_loader = DataLoader(test_data, batch_size=64, shuffle=False)"
   ]
  },
  {
   "cell_type": "code",
   "execution_count": 32,
   "id": "b91fa8bd",
   "metadata": {
    "execution": {
     "iopub.execute_input": "2022-11-23T21:33:11.146043Z",
     "iopub.status.busy": "2022-11-23T21:33:11.145797Z",
     "iopub.status.idle": "2022-11-23T21:34:35.759126Z",
     "shell.execute_reply": "2022-11-23T21:34:35.758116Z"
    },
    "papermill": {
     "duration": 84.63468,
     "end_time": "2022-11-23T21:34:35.761925",
     "exception": false,
     "start_time": "2022-11-23T21:33:11.127245",
     "status": "completed"
    },
    "tags": []
   },
   "outputs": [],
   "source": [
    "skintone_predictions = make_predictions(test_loader, skintone_classifier)\n",
    "gender_predictions = make_predictions(test_loader, gender_classifier)\n",
    "age_predictions = make_predictions(test_loader, age_classifier)"
   ]
  },
  {
   "cell_type": "code",
   "execution_count": 33,
   "id": "5821ee3e",
   "metadata": {
    "execution": {
     "iopub.execute_input": "2022-11-23T21:34:35.802204Z",
     "iopub.status.busy": "2022-11-23T21:34:35.801861Z",
     "iopub.status.idle": "2022-11-23T21:34:35.806633Z",
     "shell.execute_reply": "2022-11-23T21:34:35.805567Z"
    },
    "papermill": {
     "duration": 0.027517,
     "end_time": "2022-11-23T21:34:35.809119",
     "exception": false,
     "start_time": "2022-11-23T21:34:35.781602",
     "status": "completed"
    },
    "tags": []
   },
   "outputs": [],
   "source": [
    "predictions = [skintone_predictions, gender_predictions, age_predictions]"
   ]
  },
  {
   "cell_type": "markdown",
   "id": "1002eebc",
   "metadata": {
    "papermill": {
     "duration": 0.018176,
     "end_time": "2022-11-23T21:34:35.845700",
     "exception": false,
     "start_time": "2022-11-23T21:34:35.827524",
     "status": "completed"
    },
    "tags": []
   },
   "source": [
    "## Prepare Submission"
   ]
  },
  {
   "cell_type": "code",
   "execution_count": 34,
   "id": "bbbdd876",
   "metadata": {
    "execution": {
     "iopub.execute_input": "2022-11-23T21:34:35.885189Z",
     "iopub.status.busy": "2022-11-23T21:34:35.884838Z",
     "iopub.status.idle": "2022-11-23T21:34:35.982610Z",
     "shell.execute_reply": "2022-11-23T21:34:35.981608Z"
    },
    "papermill": {
     "duration": 0.120471,
     "end_time": "2022-11-23T21:34:35.985361",
     "exception": false,
     "start_time": "2022-11-23T21:34:35.864890",
     "status": "completed"
    },
    "tags": []
   },
   "outputs": [],
   "source": [
    "from sklearn.metrics import accuracy_score, confusion_matrix"
   ]
  },
  {
   "cell_type": "code",
   "execution_count": 35,
   "id": "238472f3",
   "metadata": {
    "execution": {
     "iopub.execute_input": "2022-11-23T21:34:36.024898Z",
     "iopub.status.busy": "2022-11-23T21:34:36.024543Z",
     "iopub.status.idle": "2022-11-23T21:34:36.051543Z",
     "shell.execute_reply": "2022-11-23T21:34:36.050334Z"
    },
    "papermill": {
     "duration": 0.04944,
     "end_time": "2022-11-23T21:34:36.053902",
     "exception": false,
     "start_time": "2022-11-23T21:34:36.004462",
     "status": "completed"
    },
    "tags": []
   },
   "outputs": [
    {
     "data": {
      "text/plain": [
       "{'accuracy': {'skin_tone': 0.2633333333333333,\n",
       "  'gender': 0.8413333333333334,\n",
       "  'age': 0.591},\n",
       " 'disparity': {'skin_tone': 0.3759548611111111,\n",
       "  'gender': 0.08226801966732922,\n",
       "  'age': 0.128460910906687}}"
      ]
     },
     "execution_count": 35,
     "metadata": {},
     "output_type": "execute_result"
    }
   ],
   "source": [
    "# calculate accuracy\n",
    "acc = {}\n",
    "for i in range(3):\n",
    "    icat = categories[i]\n",
    "    iacc = accuracy_score(test_df[icat], predictions[i])\n",
    "    acc[icat] = iacc\n",
    "\n",
    "# calculate disparity\n",
    "def disparity_score(ytrue, ypred):\n",
    "    cm = confusion_matrix(ytrue,ypred)\n",
    "    cm = cm.astype('float') / cm.sum(axis=1)[:, np.newaxis]\n",
    "    all_acc = list(cm.diagonal())\n",
    "    return max(all_acc) - min(all_acc)\n",
    "\n",
    "disp = {}\n",
    "for i in range(3):\n",
    "    icat = categories[i]\n",
    "    idisp = disparity_score(test_df[icat], predictions[i])\n",
    "    disp[icat] = idisp\n",
    "disp\n",
    "\n",
    "results = {'accuracy': acc, 'disparity': disp}\n",
    "results"
   ]
  },
  {
   "cell_type": "code",
   "execution_count": 36,
   "id": "be56e240",
   "metadata": {
    "execution": {
     "iopub.execute_input": "2022-11-23T21:34:36.092117Z",
     "iopub.status.busy": "2022-11-23T21:34:36.091843Z",
     "iopub.status.idle": "2022-11-23T21:34:36.100009Z",
     "shell.execute_reply": "2022-11-23T21:34:36.099065Z"
    },
    "papermill": {
     "duration": 0.028865,
     "end_time": "2022-11-23T21:34:36.101886",
     "exception": false,
     "start_time": "2022-11-23T21:34:36.073021",
     "status": "completed"
    },
    "tags": []
   },
   "outputs": [
    {
     "data": {
      "text/plain": [
       "{'submission_name': 'Test Submission',\n",
       " 'score': 6.482781040961833,\n",
       " 'metrics': {'accuracy': {'skin_tone': 0.2633333333333333,\n",
       "   'gender': 0.8413333333333334,\n",
       "   'age': 0.591},\n",
       "  'disparity': {'skin_tone': 0.3759548611111111,\n",
       "   'gender': 0.08226801966732922,\n",
       "   'age': 0.128460910906687}}}"
      ]
     },
     "execution_count": 36,
     "metadata": {},
     "output_type": "execute_result"
    }
   ],
   "source": [
    "def getScore(results):\n",
    "    acc = results['accuracy']\n",
    "    disp = results['disparity']\n",
    "    ad = 2*acc['gender']*(1-disp['gender']) + 4*acc['age']*(1-disp['age']**2) + 10*acc['skin_tone']*(1-disp['skin_tone']**5)\n",
    "    return ad\n",
    "\n",
    "title = 'Test Submission'\n",
    "    \n",
    "submission = {\n",
    "    'submission_name': title,\n",
    "    'score': getScore(results),\n",
    "    'metrics': results\n",
    "}\n",
    "submission"
   ]
  },
  {
   "cell_type": "code",
   "execution_count": 37,
   "id": "9190a759",
   "metadata": {
    "execution": {
     "iopub.execute_input": "2022-11-23T21:34:36.140711Z",
     "iopub.status.busy": "2022-11-23T21:34:36.139836Z",
     "iopub.status.idle": "2022-11-23T21:34:36.145003Z",
     "shell.execute_reply": "2022-11-23T21:34:36.144181Z"
    },
    "papermill": {
     "duration": 0.026771,
     "end_time": "2022-11-23T21:34:36.146977",
     "exception": false,
     "start_time": "2022-11-23T21:34:36.120206",
     "status": "completed"
    },
    "tags": []
   },
   "outputs": [],
   "source": [
    "import json\n",
    "with open(\"balaji_submission.json\", \"w\") as f:\n",
    "    json.dump(submission, f, indent=4)"
   ]
  },
  {
   "cell_type": "markdown",
   "id": "e1911519",
   "metadata": {
    "papermill": {
     "duration": 0.017724,
     "end_time": "2022-11-23T21:34:36.182891",
     "exception": false,
     "start_time": "2022-11-23T21:34:36.165167",
     "status": "completed"
    },
    "tags": []
   },
   "source": [
    "<center> The End <center>"
   ]
  }
 ],
 "metadata": {
  "kernelspec": {
   "display_name": "Python 3",
   "language": "python",
   "name": "python3"
  },
  "language_info": {
   "codemirror_mode": {
    "name": "ipython",
    "version": 3
   },
   "file_extension": ".py",
   "mimetype": "text/x-python",
   "name": "python",
   "nbconvert_exporter": "python",
   "pygments_lexer": "ipython3",
   "version": "3.7.12"
  },
  "papermill": {
   "default_parameters": {},
   "duration": 22111.223376,
   "end_time": "2022-11-23T21:34:39.578235",
   "environment_variables": {},
   "exception": null,
   "input_path": "__notebook__.ipynb",
   "output_path": "__notebook__.ipynb",
   "parameters": {},
   "start_time": "2022-11-23T15:26:08.354859",
   "version": "2.3.4"
  },
  "widgets": {
   "application/vnd.jupyter.widget-state+json": {
    "state": {
     "09b342af48444674ac2a5f3fa96326ef": {
      "model_module": "@jupyter-widgets/controls",
      "model_module_version": "1.5.0",
      "model_name": "DescriptionStyleModel",
      "state": {
       "_model_module": "@jupyter-widgets/controls",
       "_model_module_version": "1.5.0",
       "_model_name": "DescriptionStyleModel",
       "_view_count": null,
       "_view_module": "@jupyter-widgets/base",
       "_view_module_version": "1.2.0",
       "_view_name": "StyleView",
       "description_width": ""
      }
     },
     "269650063f464b01978537cde929776b": {
      "model_module": "@jupyter-widgets/base",
      "model_module_version": "1.2.0",
      "model_name": "LayoutModel",
      "state": {
       "_model_module": "@jupyter-widgets/base",
       "_model_module_version": "1.2.0",
       "_model_name": "LayoutModel",
       "_view_count": null,
       "_view_module": "@jupyter-widgets/base",
       "_view_module_version": "1.2.0",
       "_view_name": "LayoutView",
       "align_content": null,
       "align_items": null,
       "align_self": null,
       "border": null,
       "bottom": null,
       "display": null,
       "flex": null,
       "flex_flow": null,
       "grid_area": null,
       "grid_auto_columns": null,
       "grid_auto_flow": null,
       "grid_auto_rows": null,
       "grid_column": null,
       "grid_gap": null,
       "grid_row": null,
       "grid_template_areas": null,
       "grid_template_columns": null,
       "grid_template_rows": null,
       "height": null,
       "justify_content": null,
       "justify_items": null,
       "left": null,
       "margin": null,
       "max_height": null,
       "max_width": null,
       "min_height": null,
       "min_width": null,
       "object_fit": null,
       "object_position": null,
       "order": null,
       "overflow": null,
       "overflow_x": null,
       "overflow_y": null,
       "padding": null,
       "right": null,
       "top": null,
       "visibility": null,
       "width": null
      }
     },
     "3e9d94526a1142389bb0cf3fb5969d5a": {
      "model_module": "@jupyter-widgets/controls",
      "model_module_version": "1.5.0",
      "model_name": "HTMLModel",
      "state": {
       "_dom_classes": [],
       "_model_module": "@jupyter-widgets/controls",
       "_model_module_version": "1.5.0",
       "_model_name": "HTMLModel",
       "_view_count": null,
       "_view_module": "@jupyter-widgets/controls",
       "_view_module_version": "1.5.0",
       "_view_name": "HTMLView",
       "description": "",
       "description_tooltip": null,
       "layout": "IPY_MODEL_269650063f464b01978537cde929776b",
       "placeholder": "​",
       "style": "IPY_MODEL_9e8ef66cf1984479aefebd7d68036302",
       "value": " 44.7M/44.7M [00:05&lt;00:00, 20.8MB/s]"
      }
     },
     "58e74ec978a9427ea5e99c1c245697e7": {
      "model_module": "@jupyter-widgets/controls",
      "model_module_version": "1.5.0",
      "model_name": "HBoxModel",
      "state": {
       "_dom_classes": [],
       "_model_module": "@jupyter-widgets/controls",
       "_model_module_version": "1.5.0",
       "_model_name": "HBoxModel",
       "_view_count": null,
       "_view_module": "@jupyter-widgets/controls",
       "_view_module_version": "1.5.0",
       "_view_name": "HBoxView",
       "box_style": "",
       "children": [
        "IPY_MODEL_bab5d195a7b54f28a0f2ed7d47b36c8d",
        "IPY_MODEL_a61b4e1f47f54d6999b5fc61b3ba6059",
        "IPY_MODEL_3e9d94526a1142389bb0cf3fb5969d5a"
       ],
       "layout": "IPY_MODEL_7ca875d0b3034b9b95605f602d98fe17"
      }
     },
     "7ca875d0b3034b9b95605f602d98fe17": {
      "model_module": "@jupyter-widgets/base",
      "model_module_version": "1.2.0",
      "model_name": "LayoutModel",
      "state": {
       "_model_module": "@jupyter-widgets/base",
       "_model_module_version": "1.2.0",
       "_model_name": "LayoutModel",
       "_view_count": null,
       "_view_module": "@jupyter-widgets/base",
       "_view_module_version": "1.2.0",
       "_view_name": "LayoutView",
       "align_content": null,
       "align_items": null,
       "align_self": null,
       "border": null,
       "bottom": null,
       "display": null,
       "flex": null,
       "flex_flow": null,
       "grid_area": null,
       "grid_auto_columns": null,
       "grid_auto_flow": null,
       "grid_auto_rows": null,
       "grid_column": null,
       "grid_gap": null,
       "grid_row": null,
       "grid_template_areas": null,
       "grid_template_columns": null,
       "grid_template_rows": null,
       "height": null,
       "justify_content": null,
       "justify_items": null,
       "left": null,
       "margin": null,
       "max_height": null,
       "max_width": null,
       "min_height": null,
       "min_width": null,
       "object_fit": null,
       "object_position": null,
       "order": null,
       "overflow": null,
       "overflow_x": null,
       "overflow_y": null,
       "padding": null,
       "right": null,
       "top": null,
       "visibility": null,
       "width": null
      }
     },
     "8a6123ca583648509e265f257cc2816b": {
      "model_module": "@jupyter-widgets/base",
      "model_module_version": "1.2.0",
      "model_name": "LayoutModel",
      "state": {
       "_model_module": "@jupyter-widgets/base",
       "_model_module_version": "1.2.0",
       "_model_name": "LayoutModel",
       "_view_count": null,
       "_view_module": "@jupyter-widgets/base",
       "_view_module_version": "1.2.0",
       "_view_name": "LayoutView",
       "align_content": null,
       "align_items": null,
       "align_self": null,
       "border": null,
       "bottom": null,
       "display": null,
       "flex": null,
       "flex_flow": null,
       "grid_area": null,
       "grid_auto_columns": null,
       "grid_auto_flow": null,
       "grid_auto_rows": null,
       "grid_column": null,
       "grid_gap": null,
       "grid_row": null,
       "grid_template_areas": null,
       "grid_template_columns": null,
       "grid_template_rows": null,
       "height": null,
       "justify_content": null,
       "justify_items": null,
       "left": null,
       "margin": null,
       "max_height": null,
       "max_width": null,
       "min_height": null,
       "min_width": null,
       "object_fit": null,
       "object_position": null,
       "order": null,
       "overflow": null,
       "overflow_x": null,
       "overflow_y": null,
       "padding": null,
       "right": null,
       "top": null,
       "visibility": null,
       "width": null
      }
     },
     "9e8ef66cf1984479aefebd7d68036302": {
      "model_module": "@jupyter-widgets/controls",
      "model_module_version": "1.5.0",
      "model_name": "DescriptionStyleModel",
      "state": {
       "_model_module": "@jupyter-widgets/controls",
       "_model_module_version": "1.5.0",
       "_model_name": "DescriptionStyleModel",
       "_view_count": null,
       "_view_module": "@jupyter-widgets/base",
       "_view_module_version": "1.2.0",
       "_view_name": "StyleView",
       "description_width": ""
      }
     },
     "a61b4e1f47f54d6999b5fc61b3ba6059": {
      "model_module": "@jupyter-widgets/controls",
      "model_module_version": "1.5.0",
      "model_name": "FloatProgressModel",
      "state": {
       "_dom_classes": [],
       "_model_module": "@jupyter-widgets/controls",
       "_model_module_version": "1.5.0",
       "_model_name": "FloatProgressModel",
       "_view_count": null,
       "_view_module": "@jupyter-widgets/controls",
       "_view_module_version": "1.5.0",
       "_view_name": "ProgressView",
       "bar_style": "success",
       "description": "",
       "description_tooltip": null,
       "layout": "IPY_MODEL_8a6123ca583648509e265f257cc2816b",
       "max": 46830571.0,
       "min": 0.0,
       "orientation": "horizontal",
       "style": "IPY_MODEL_b3f1365819e14164bf110d64c448e6ed",
       "value": 46830571.0
      }
     },
     "b3f1365819e14164bf110d64c448e6ed": {
      "model_module": "@jupyter-widgets/controls",
      "model_module_version": "1.5.0",
      "model_name": "ProgressStyleModel",
      "state": {
       "_model_module": "@jupyter-widgets/controls",
       "_model_module_version": "1.5.0",
       "_model_name": "ProgressStyleModel",
       "_view_count": null,
       "_view_module": "@jupyter-widgets/base",
       "_view_module_version": "1.2.0",
       "_view_name": "StyleView",
       "bar_color": null,
       "description_width": ""
      }
     },
     "bab5d195a7b54f28a0f2ed7d47b36c8d": {
      "model_module": "@jupyter-widgets/controls",
      "model_module_version": "1.5.0",
      "model_name": "HTMLModel",
      "state": {
       "_dom_classes": [],
       "_model_module": "@jupyter-widgets/controls",
       "_model_module_version": "1.5.0",
       "_model_name": "HTMLModel",
       "_view_count": null,
       "_view_module": "@jupyter-widgets/controls",
       "_view_module_version": "1.5.0",
       "_view_name": "HTMLView",
       "description": "",
       "description_tooltip": null,
       "layout": "IPY_MODEL_c14e4efa2e144c67bfdc33f9efd0d021",
       "placeholder": "​",
       "style": "IPY_MODEL_09b342af48444674ac2a5f3fa96326ef",
       "value": "100%"
      }
     },
     "c14e4efa2e144c67bfdc33f9efd0d021": {
      "model_module": "@jupyter-widgets/base",
      "model_module_version": "1.2.0",
      "model_name": "LayoutModel",
      "state": {
       "_model_module": "@jupyter-widgets/base",
       "_model_module_version": "1.2.0",
       "_model_name": "LayoutModel",
       "_view_count": null,
       "_view_module": "@jupyter-widgets/base",
       "_view_module_version": "1.2.0",
       "_view_name": "LayoutView",
       "align_content": null,
       "align_items": null,
       "align_self": null,
       "border": null,
       "bottom": null,
       "display": null,
       "flex": null,
       "flex_flow": null,
       "grid_area": null,
       "grid_auto_columns": null,
       "grid_auto_flow": null,
       "grid_auto_rows": null,
       "grid_column": null,
       "grid_gap": null,
       "grid_row": null,
       "grid_template_areas": null,
       "grid_template_columns": null,
       "grid_template_rows": null,
       "height": null,
       "justify_content": null,
       "justify_items": null,
       "left": null,
       "margin": null,
       "max_height": null,
       "max_width": null,
       "min_height": null,
       "min_width": null,
       "object_fit": null,
       "object_position": null,
       "order": null,
       "overflow": null,
       "overflow_x": null,
       "overflow_y": null,
       "padding": null,
       "right": null,
       "top": null,
       "visibility": null,
       "width": null
      }
     }
    },
    "version_major": 2,
    "version_minor": 0
   }
  }
 },
 "nbformat": 4,
 "nbformat_minor": 5
}
