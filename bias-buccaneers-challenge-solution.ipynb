{
 "cells": [
  {
   "cell_type": "markdown",
   "id": "b112a316",
   "metadata": {
    "papermill": {
     "duration": 0.010934,
     "end_time": "2022-11-16T18:52:24.454664",
     "exception": false,
     "start_time": "2022-11-16T18:52:24.443730",
     "status": "completed"
    },
    "tags": []
   },
   "source": [
    "# Bias Buccaneers Image Recognition Challenge - Solution"
   ]
  },
  {
   "cell_type": "code",
   "execution_count": 1,
   "id": "dee245d3",
   "metadata": {
    "execution": {
     "iopub.execute_input": "2022-11-16T18:52:24.476119Z",
     "iopub.status.busy": "2022-11-16T18:52:24.475250Z",
     "iopub.status.idle": "2022-11-16T18:52:28.308130Z",
     "shell.execute_reply": "2022-11-16T18:52:28.307092Z"
    },
    "papermill": {
     "duration": 3.84682,
     "end_time": "2022-11-16T18:52:28.310927",
     "exception": false,
     "start_time": "2022-11-16T18:52:24.464107",
     "status": "completed"
    },
    "tags": []
   },
   "outputs": [],
   "source": [
    "#import required libraries\n",
    "import os\n",
    "import numpy as np\n",
    "import pandas as pd\n",
    "import matplotlib.pyplot as plt\n",
    "import PIL.Image as Image\n",
    "\n",
    "import torch\n",
    "import torch.nn as nn\n",
    "from torch.utils.data import Dataset, DataLoader\n",
    "import torchvision\n",
    "from torchvision import transforms"
   ]
  },
  {
   "cell_type": "code",
   "execution_count": 2,
   "id": "ad165bd6",
   "metadata": {
    "execution": {
     "iopub.execute_input": "2022-11-16T18:52:28.333338Z",
     "iopub.status.busy": "2022-11-16T18:52:28.332771Z",
     "iopub.status.idle": "2022-11-16T18:52:28.465748Z",
     "shell.execute_reply": "2022-11-16T18:52:28.464810Z"
    },
    "papermill": {
     "duration": 0.147726,
     "end_time": "2022-11-16T18:52:28.468175",
     "exception": false,
     "start_time": "2022-11-16T18:52:28.320449",
     "status": "completed"
    },
    "tags": []
   },
   "outputs": [
    {
     "name": "stdout",
     "output_type": "stream",
     "text": [
      "cuda\n"
     ]
    }
   ],
   "source": [
    "device = torch.device('cuda' if torch.cuda.is_available() else 'cpu') #Use GPU if it's available or else use CPU.\n",
    "print(device) #Prints the device we're using."
   ]
  },
  {
   "cell_type": "markdown",
   "id": "e7564d30",
   "metadata": {
    "papermill": {
     "duration": 0.009333,
     "end_time": "2022-11-16T18:52:28.487178",
     "exception": false,
     "start_time": "2022-11-16T18:52:28.477845",
     "status": "completed"
    },
    "tags": []
   },
   "source": [
    "## Prepare the data"
   ]
  },
  {
   "cell_type": "markdown",
   "id": "0c088138",
   "metadata": {
    "papermill": {
     "duration": 0.008942,
     "end_time": "2022-11-16T18:52:28.505593",
     "exception": false,
     "start_time": "2022-11-16T18:52:28.496651",
     "status": "completed"
    },
    "tags": []
   },
   "source": [
    "### Data Pre-processing"
   ]
  },
  {
   "cell_type": "code",
   "execution_count": 3,
   "id": "d0ae0a89",
   "metadata": {
    "execution": {
     "iopub.execute_input": "2022-11-16T18:52:28.526543Z",
     "iopub.status.busy": "2022-11-16T18:52:28.525503Z",
     "iopub.status.idle": "2022-11-16T18:52:28.584280Z",
     "shell.execute_reply": "2022-11-16T18:52:28.583328Z"
    },
    "papermill": {
     "duration": 0.071262,
     "end_time": "2022-11-16T18:52:28.586455",
     "exception": false,
     "start_time": "2022-11-16T18:52:28.515193",
     "status": "completed"
    },
    "tags": []
   },
   "outputs": [],
   "source": [
    "dataset_path = \"../input/bias-buccaneers/\"\n",
    "train_df = pd.read_csv(f\"{dataset_path}train/labels.csv\")\n",
    "test_df = pd.read_csv(f\"{dataset_path}test/labels.csv\")"
   ]
  },
  {
   "cell_type": "code",
   "execution_count": 4,
   "id": "f1ee2503",
   "metadata": {
    "execution": {
     "iopub.execute_input": "2022-11-16T18:52:28.607401Z",
     "iopub.status.busy": "2022-11-16T18:52:28.605816Z",
     "iopub.status.idle": "2022-11-16T18:52:28.612563Z",
     "shell.execute_reply": "2022-11-16T18:52:28.610936Z"
    },
    "papermill": {
     "duration": 0.01936,
     "end_time": "2022-11-16T18:52:28.615383",
     "exception": false,
     "start_time": "2022-11-16T18:52:28.596023",
     "status": "completed"
    },
    "tags": []
   },
   "outputs": [
    {
     "name": "stdout",
     "output_type": "stream",
     "text": [
      "Number of Training samples: 12283\n",
      "Number of Testing samples: 3000\n"
     ]
    }
   ],
   "source": [
    "print(f\"Number of Training samples: {len(train_df)}\")\n",
    "print(f\"Number of Testing samples: {len(test_df)}\")"
   ]
  },
  {
   "cell_type": "code",
   "execution_count": 5,
   "id": "f0ded09b",
   "metadata": {
    "execution": {
     "iopub.execute_input": "2022-11-16T18:52:28.636591Z",
     "iopub.status.busy": "2022-11-16T18:52:28.635729Z",
     "iopub.status.idle": "2022-11-16T18:52:28.642251Z",
     "shell.execute_reply": "2022-11-16T18:52:28.640657Z"
    },
    "papermill": {
     "duration": 0.019646,
     "end_time": "2022-11-16T18:52:28.644994",
     "exception": false,
     "start_time": "2022-11-16T18:52:28.625348",
     "status": "completed"
    },
    "tags": []
   },
   "outputs": [
    {
     "name": "stdout",
     "output_type": "stream",
     "text": [
      "['skin_tone', 'gender', 'age']\n"
     ]
    }
   ],
   "source": [
    "categories = train_df.columns[1:].tolist()\n",
    "print(categories)"
   ]
  },
  {
   "cell_type": "code",
   "execution_count": 6,
   "id": "e9409418",
   "metadata": {
    "execution": {
     "iopub.execute_input": "2022-11-16T18:52:28.666892Z",
     "iopub.status.busy": "2022-11-16T18:52:28.666130Z",
     "iopub.status.idle": "2022-11-16T18:52:28.683559Z",
     "shell.execute_reply": "2022-11-16T18:52:28.682586Z"
    },
    "papermill": {
     "duration": 0.030465,
     "end_time": "2022-11-16T18:52:28.685637",
     "exception": false,
     "start_time": "2022-11-16T18:52:28.655172",
     "status": "completed"
    },
    "tags": []
   },
   "outputs": [
    {
     "data": {
      "text/plain": [
       "name            0\n",
       "skin_tone    3730\n",
       "gender       3730\n",
       "age          3730\n",
       "dtype: int64"
      ]
     },
     "execution_count": 6,
     "metadata": {},
     "output_type": "execute_result"
    }
   ],
   "source": [
    "train_df.isnull().sum()"
   ]
  },
  {
   "cell_type": "markdown",
   "id": "c871cb0f",
   "metadata": {
    "papermill": {
     "duration": 0.008954,
     "end_time": "2022-11-16T18:52:28.703836",
     "exception": false,
     "start_time": "2022-11-16T18:52:28.694882",
     "status": "completed"
    },
    "tags": []
   },
   "source": [
    "There are around 3730 samples in the training set which are unlabeled."
   ]
  },
  {
   "cell_type": "code",
   "execution_count": 7,
   "id": "5511f428",
   "metadata": {
    "execution": {
     "iopub.execute_input": "2022-11-16T18:52:28.723307Z",
     "iopub.status.busy": "2022-11-16T18:52:28.723014Z",
     "iopub.status.idle": "2022-11-16T18:52:28.741350Z",
     "shell.execute_reply": "2022-11-16T18:52:28.739752Z"
    },
    "papermill": {
     "duration": 0.030855,
     "end_time": "2022-11-16T18:52:28.743997",
     "exception": false,
     "start_time": "2022-11-16T18:52:28.713142",
     "status": "completed"
    },
    "tags": []
   },
   "outputs": [
    {
     "name": "stdout",
     "output_type": "stream",
     "text": [
      "Number of labeled samples in the training set: 8553\n"
     ]
    }
   ],
   "source": [
    "train_df_labeled = train_df[train_df[\"skin_tone\"].notna()].copy(deep=True) # take only labeled data\n",
    "print(f\"Number of labeled samples in the training set: {len(train_df_labeled)}\")"
   ]
  },
  {
   "cell_type": "code",
   "execution_count": 8,
   "id": "912ea759",
   "metadata": {
    "execution": {
     "iopub.execute_input": "2022-11-16T18:52:28.765156Z",
     "iopub.status.busy": "2022-11-16T18:52:28.764373Z",
     "iopub.status.idle": "2022-11-16T18:52:28.769225Z",
     "shell.execute_reply": "2022-11-16T18:52:28.768320Z"
    },
    "papermill": {
     "duration": 0.017373,
     "end_time": "2022-11-16T18:52:28.771458",
     "exception": false,
     "start_time": "2022-11-16T18:52:28.754085",
     "status": "completed"
    },
    "tags": []
   },
   "outputs": [],
   "source": [
    "#Modify the index values of the df\n",
    "train_df_labeled.reset_index(drop=True, inplace=True)"
   ]
  },
  {
   "cell_type": "markdown",
   "id": "3aba5430",
   "metadata": {
    "papermill": {
     "duration": 0.010083,
     "end_time": "2022-11-16T18:52:28.791328",
     "exception": false,
     "start_time": "2022-11-16T18:52:28.781245",
     "status": "completed"
    },
    "tags": []
   },
   "source": [
    "Now we need to encode the labels into an integer such that we can use PyTorch's CrossEntropyLoss."
   ]
  },
  {
   "cell_type": "code",
   "execution_count": 9,
   "id": "1f415017",
   "metadata": {
    "execution": {
     "iopub.execute_input": "2022-11-16T18:52:28.811552Z",
     "iopub.status.busy": "2022-11-16T18:52:28.810944Z",
     "iopub.status.idle": "2022-11-16T18:52:28.826203Z",
     "shell.execute_reply": "2022-11-16T18:52:28.825033Z"
    },
    "papermill": {
     "duration": 0.027661,
     "end_time": "2022-11-16T18:52:28.828168",
     "exception": false,
     "start_time": "2022-11-16T18:52:28.800507",
     "status": "completed"
    },
    "tags": []
   },
   "outputs": [
    {
     "name": "stdout",
     "output_type": "stream",
     "text": [
      "Labels for Skin tone: ['monk_1', 'monk_6', 'monk_3', 'monk_2', 'monk_8', 'monk_4', 'monk_5', 'monk_9', 'monk_7', 'monk_10'], Count: 10\n",
      "Labels for Gender: ['female', 'male'], Count: 2\n",
      "Labels for Age: ['18_30', '0_17', '31_60', '61_100'], Count: 4\n"
     ]
    }
   ],
   "source": [
    "print(f\"Labels for Skin tone: {train_df_labeled['skin_tone'].unique().tolist()}, Count: {len(train_df_labeled['skin_tone'].unique())}\")\n",
    "print(f\"Labels for Gender: {train_df_labeled['gender'].unique().tolist()}, Count: {len(train_df_labeled['gender'].unique())}\")\n",
    "print(f\"Labels for Age: {train_df_labeled['age'].unique().tolist()}, Count: {len(train_df_labeled['age'].unique())}\")"
   ]
  },
  {
   "cell_type": "code",
   "execution_count": 10,
   "id": "1f05be48",
   "metadata": {
    "execution": {
     "iopub.execute_input": "2022-11-16T18:52:28.848892Z",
     "iopub.status.busy": "2022-11-16T18:52:28.848138Z",
     "iopub.status.idle": "2022-11-16T18:52:28.853359Z",
     "shell.execute_reply": "2022-11-16T18:52:28.852421Z"
    },
    "papermill": {
     "duration": 0.01783,
     "end_time": "2022-11-16T18:52:28.855634",
     "exception": false,
     "start_time": "2022-11-16T18:52:28.837804",
     "status": "completed"
    },
    "tags": []
   },
   "outputs": [],
   "source": [
    "skin_tone_labels = [f\"monk_{i}\" for i in range(1,11)]\n",
    "gender_labels = [\"male\", \"female\"]\n",
    "age_labels = [\"0_17\", \"18_30\", \"31_60\", \"61_100\"]"
   ]
  },
  {
   "cell_type": "code",
   "execution_count": 11,
   "id": "29077980",
   "metadata": {
    "execution": {
     "iopub.execute_input": "2022-11-16T18:52:28.875892Z",
     "iopub.status.busy": "2022-11-16T18:52:28.875634Z",
     "iopub.status.idle": "2022-11-16T18:52:28.907659Z",
     "shell.execute_reply": "2022-11-16T18:52:28.906601Z"
    },
    "papermill": {
     "duration": 0.045348,
     "end_time": "2022-11-16T18:52:28.910414",
     "exception": false,
     "start_time": "2022-11-16T18:52:28.865066",
     "status": "completed"
    },
    "tags": []
   },
   "outputs": [],
   "source": [
    "#encode train samples\n",
    "train_df_labeled['skin_tone'].replace(skin_tone_labels, list(range(len(skin_tone_labels))), inplace=True)\n",
    "train_df_labeled['gender'].replace(gender_labels, list(range(len(gender_labels))), inplace=True)\n",
    "train_df_labeled['age'].replace(age_labels, list(range(len(age_labels))), inplace=True)"
   ]
  },
  {
   "cell_type": "code",
   "execution_count": 12,
   "id": "afa5b19c",
   "metadata": {
    "execution": {
     "iopub.execute_input": "2022-11-16T18:52:28.931470Z",
     "iopub.status.busy": "2022-11-16T18:52:28.931206Z",
     "iopub.status.idle": "2022-11-16T18:52:28.944572Z",
     "shell.execute_reply": "2022-11-16T18:52:28.943770Z"
    },
    "papermill": {
     "duration": 0.026021,
     "end_time": "2022-11-16T18:52:28.946597",
     "exception": false,
     "start_time": "2022-11-16T18:52:28.920576",
     "status": "completed"
    },
    "tags": []
   },
   "outputs": [],
   "source": [
    "#encode test samples\n",
    "test_df['skin_tone'].replace(skin_tone_labels, list(range(len(skin_tone_labels))), inplace=True)\n",
    "test_df['gender'].replace(gender_labels, list(range(len(gender_labels))), inplace=True)\n",
    "test_df['age'].replace(age_labels, list(range(len(age_labels))), inplace=True)"
   ]
  },
  {
   "cell_type": "markdown",
   "id": "f5c930a7",
   "metadata": {
    "papermill": {
     "duration": 0.009453,
     "end_time": "2022-11-16T18:52:28.966473",
     "exception": false,
     "start_time": "2022-11-16T18:52:28.957020",
     "status": "completed"
    },
    "tags": []
   },
   "source": [
    "### Distribution of class labels"
   ]
  },
  {
   "cell_type": "code",
   "execution_count": 13,
   "id": "11da16d8",
   "metadata": {
    "execution": {
     "iopub.execute_input": "2022-11-16T18:52:28.987336Z",
     "iopub.status.busy": "2022-11-16T18:52:28.986621Z",
     "iopub.status.idle": "2022-11-16T18:52:28.990802Z",
     "shell.execute_reply": "2022-11-16T18:52:28.989710Z"
    },
    "papermill": {
     "duration": 0.016433,
     "end_time": "2022-11-16T18:52:28.992719",
     "exception": false,
     "start_time": "2022-11-16T18:52:28.976286",
     "status": "completed"
    },
    "tags": []
   },
   "outputs": [],
   "source": [
    "#train_df_labeled.skin_tone.hist()\n",
    "#plt.xticks(list(range(10)))\n",
    "#plt.grid(False)\n",
    "#plt.show() "
   ]
  },
  {
   "cell_type": "markdown",
   "id": "90009ea3",
   "metadata": {
    "papermill": {
     "duration": 0.009669,
     "end_time": "2022-11-16T18:52:29.011657",
     "exception": false,
     "start_time": "2022-11-16T18:52:29.001988",
     "status": "completed"
    },
    "tags": []
   },
   "source": [
    "### Plotting images"
   ]
  },
  {
   "cell_type": "code",
   "execution_count": 14,
   "id": "65f7b027",
   "metadata": {
    "execution": {
     "iopub.execute_input": "2022-11-16T18:52:29.032237Z",
     "iopub.status.busy": "2022-11-16T18:52:29.031577Z",
     "iopub.status.idle": "2022-11-16T18:52:29.329988Z",
     "shell.execute_reply": "2022-11-16T18:52:29.328944Z"
    },
    "papermill": {
     "duration": 0.311779,
     "end_time": "2022-11-16T18:52:29.333103",
     "exception": false,
     "start_time": "2022-11-16T18:52:29.021324",
     "status": "completed"
    },
    "tags": []
   },
   "outputs": [
    {
     "name": "stdout",
     "output_type": "stream",
     "text": [
      "skin tone: monk_3\n",
      "gender: female\n",
      "age: 18_30\n"
     ]
    },
    {
     "data": {
      "image/png": "[encoded data removed]",
      "text/plain": [
       "<Figure size 432x288 with 1 Axes>"
      ]
     },
     "metadata": {
      "needs_background": "light"
     },
     "output_type": "display_data"
    }
   ],
   "source": [
    "sample_img_id = 123\n",
    "sample_img = Image.open(f\"{dataset_path}train/{train_df_labeled['name'][sample_img_id]}\")\n",
    "plt.imshow(sample_img)\n",
    "print(f\"skin tone: {skin_tone_labels[train_df_labeled['skin_tone'][sample_img_id]]}\")\n",
    "print(f\"gender: {gender_labels[train_df_labeled['gender'][sample_img_id]]}\")\n",
    "print(f\"age: {age_labels[train_df_labeled['age'][sample_img_id]]}\")"
   ]
  },
  {
   "cell_type": "markdown",
   "id": "a01b136b",
   "metadata": {
    "papermill": {
     "duration": 0.010376,
     "end_time": "2022-11-16T18:52:29.354529",
     "exception": false,
     "start_time": "2022-11-16T18:52:29.344153",
     "status": "completed"
    },
    "tags": []
   },
   "source": [
    "### Building the DataLoader"
   ]
  },
  {
   "cell_type": "code",
   "execution_count": 15,
   "id": "d3ec9525",
   "metadata": {
    "execution": {
     "iopub.execute_input": "2022-11-16T18:52:29.381698Z",
     "iopub.status.busy": "2022-11-16T18:52:29.381129Z",
     "iopub.status.idle": "2022-11-16T18:52:29.398632Z",
     "shell.execute_reply": "2022-11-16T18:52:29.397653Z"
    },
    "papermill": {
     "duration": 0.037918,
     "end_time": "2022-11-16T18:52:29.403266",
     "exception": false,
     "start_time": "2022-11-16T18:52:29.365348",
     "status": "completed"
    },
    "tags": []
   },
   "outputs": [],
   "source": [
    "class ImageDataset(Dataset):\n",
    "    def __init__(self, df, data_path, image_transform=None):\n",
    "        self.df = df\n",
    "        self.data_path = data_path\n",
    "        self.image_transform = image_transform\n",
    "\n",
    "    def __len__(self):\n",
    "        return len(self.df)\n",
    "    \n",
    "    def __getitem__(self, index):\n",
    "        img = Image.open(f\"{self.data_path}{self.df['name'][index]}\")\n",
    "        if self.image_transform:\n",
    "            img = self.image_transform(img)\n",
    "        #we need to provide labels for skin_tone, gender, age\n",
    "        labels = (self.df['skin_tone'][index], self.df['gender'][index], self.df['age'][index])\n",
    "        return img, labels"
   ]
  },
  {
   "cell_type": "code",
   "execution_count": 16,
   "id": "e052ab9d",
   "metadata": {
    "execution": {
     "iopub.execute_input": "2022-11-16T18:52:29.460941Z",
     "iopub.status.busy": "2022-11-16T18:52:29.460236Z",
     "iopub.status.idle": "2022-11-16T18:52:29.468026Z",
     "shell.execute_reply": "2022-11-16T18:52:29.466245Z"
    },
    "papermill": {
     "duration": 0.041596,
     "end_time": "2022-11-16T18:52:29.472550",
     "exception": false,
     "start_time": "2022-11-16T18:52:29.430954",
     "status": "completed"
    },
    "tags": []
   },
   "outputs": [],
   "source": [
    "image_transform = transforms.Compose([transforms.ToTensor(), transforms.Normalize(0.5, 0.5)])\n",
    "train_dataset = ImageDataset(train_df_labeled, f\"{dataset_path}train/\", image_transform)"
   ]
  },
  {
   "cell_type": "code",
   "execution_count": 17,
   "id": "85d56e59",
   "metadata": {
    "execution": {
     "iopub.execute_input": "2022-11-16T18:52:29.521098Z",
     "iopub.status.busy": "2022-11-16T18:52:29.520749Z",
     "iopub.status.idle": "2022-11-16T18:52:29.524715Z",
     "shell.execute_reply": "2022-11-16T18:52:29.523851Z"
    },
    "papermill": {
     "duration": 0.027522,
     "end_time": "2022-11-16T18:52:29.529032",
     "exception": false,
     "start_time": "2022-11-16T18:52:29.501510",
     "status": "completed"
    },
    "tags": []
   },
   "outputs": [],
   "source": [
    "#for testing purposes\n",
    "#img_batch = next(iter(train_loader))"
   ]
  },
  {
   "cell_type": "code",
   "execution_count": 18,
   "id": "1a28c6cb",
   "metadata": {
    "execution": {
     "iopub.execute_input": "2022-11-16T18:52:29.560513Z",
     "iopub.status.busy": "2022-11-16T18:52:29.560193Z",
     "iopub.status.idle": "2022-11-16T18:53:55.046320Z",
     "shell.execute_reply": "2022-11-16T18:53:55.045281Z"
    },
    "papermill": {
     "duration": 85.515193,
     "end_time": "2022-11-16T18:53:55.059470",
     "exception": false,
     "start_time": "2022-11-16T18:52:29.544277",
     "status": "completed"
    },
    "tags": []
   },
   "outputs": [
    {
     "name": "stdout",
     "output_type": "stream",
     "text": [
      "5\n"
     ]
    }
   ],
   "source": [
    "grayscale_indices = []\n",
    "for i in range(len(train_dataset)):\n",
    "    if(train_dataset[i][0].shape[0] == 3):\n",
    "        continue\n",
    "    else:\n",
    "        grayscale_indices.append(i)\n",
    "print(len(grayscale_indices))"
   ]
  },
  {
   "cell_type": "markdown",
   "id": "853e4bb9",
   "metadata": {
    "papermill": {
     "duration": 0.010673,
     "end_time": "2022-11-16T18:53:55.080389",
     "exception": false,
     "start_time": "2022-11-16T18:53:55.069716",
     "status": "completed"
    },
    "tags": []
   },
   "source": [
    "Since there are only 5 grayscale images. It is better to remove them from the dataframe"
   ]
  },
  {
   "cell_type": "code",
   "execution_count": 19,
   "id": "e9fc86ed",
   "metadata": {
    "execution": {
     "iopub.execute_input": "2022-11-16T18:53:55.103820Z",
     "iopub.status.busy": "2022-11-16T18:53:55.103469Z",
     "iopub.status.idle": "2022-11-16T18:53:55.113193Z",
     "shell.execute_reply": "2022-11-16T18:53:55.112112Z"
    },
    "papermill": {
     "duration": 0.024443,
     "end_time": "2022-11-16T18:53:55.115807",
     "exception": false,
     "start_time": "2022-11-16T18:53:55.091364",
     "status": "completed"
    },
    "tags": []
   },
   "outputs": [],
   "source": [
    "train_dataset.df.drop(labels=grayscale_indices, axis=0, inplace=True)\n",
    "train_dataset.df.reset_index(drop=True, inplace=True)\n",
    "train_dataset.image_transform = transforms.Compose([transforms.ToTensor(), transforms.Normalize((0.485, 0.456, 0.406), (0.229, 0.224, 0.225))])"
   ]
  },
  {
   "cell_type": "code",
   "execution_count": 20,
   "id": "00e6c7b4",
   "metadata": {
    "execution": {
     "iopub.execute_input": "2022-11-16T18:53:55.139525Z",
     "iopub.status.busy": "2022-11-16T18:53:55.138935Z",
     "iopub.status.idle": "2022-11-16T18:53:55.144726Z",
     "shell.execute_reply": "2022-11-16T18:53:55.143708Z"
    },
    "papermill": {
     "duration": 0.019645,
     "end_time": "2022-11-16T18:53:55.146845",
     "exception": false,
     "start_time": "2022-11-16T18:53:55.127200",
     "status": "completed"
    },
    "tags": []
   },
   "outputs": [],
   "source": [
    "train_loader = DataLoader(train_dataset, batch_size=256, shuffle=True)"
   ]
  },
  {
   "cell_type": "markdown",
   "id": "25a5df66",
   "metadata": {
    "papermill": {
     "duration": 0.010593,
     "end_time": "2022-11-16T18:53:55.168417",
     "exception": false,
     "start_time": "2022-11-16T18:53:55.157824",
     "status": "completed"
    },
    "tags": []
   },
   "source": [
    "## Build the model"
   ]
  },
  {
   "cell_type": "code",
   "execution_count": 21,
   "id": "a4d7bac1",
   "metadata": {
    "execution": {
     "iopub.execute_input": "2022-11-16T18:53:55.191935Z",
     "iopub.status.busy": "2022-11-16T18:53:55.191603Z",
     "iopub.status.idle": "2022-11-16T18:53:55.197963Z",
     "shell.execute_reply": "2022-11-16T18:53:55.196940Z"
    },
    "papermill": {
     "duration": 0.020815,
     "end_time": "2022-11-16T18:53:55.200182",
     "exception": false,
     "start_time": "2022-11-16T18:53:55.179367",
     "status": "completed"
    },
    "tags": []
   },
   "outputs": [],
   "source": [
    "class ClassifierModel(nn.Module):\n",
    "    def __init__(self, num_classes):\n",
    "        super().__init__()\n",
    "        self.backbone = torchvision.models.resnet18(pretrained=True)\n",
    "        self.classifier = nn.Sequential(nn.ReLU(), nn.Linear(1000, 512), nn.ReLU(), nn.Linear(512, num_classes))\n",
    "    def forward(self, x):\n",
    "        x = self.backbone(x)\n",
    "        x = self.classifier(x)\n",
    "        return x"
   ]
  },
  {
   "cell_type": "markdown",
   "id": "ba84ceae",
   "metadata": {
    "papermill": {
     "duration": 0.010444,
     "end_time": "2022-11-16T18:53:55.221397",
     "exception": false,
     "start_time": "2022-11-16T18:53:55.210953",
     "status": "completed"
    },
    "tags": []
   },
   "source": [
    "Create separate instantiations of ClassifierModel for classifying skin tone, gender, age."
   ]
  },
  {
   "cell_type": "code",
   "execution_count": 22,
   "id": "9ab76d8b",
   "metadata": {
    "execution": {
     "iopub.execute_input": "2022-11-16T18:53:55.244372Z",
     "iopub.status.busy": "2022-11-16T18:53:55.244019Z",
     "iopub.status.idle": "2022-11-16T18:54:03.596519Z",
     "shell.execute_reply": "2022-11-16T18:54:03.595468Z"
    },
    "papermill": {
     "duration": 8.367072,
     "end_time": "2022-11-16T18:54:03.599438",
     "exception": false,
     "start_time": "2022-11-16T18:53:55.232366",
     "status": "completed"
    },
    "tags": []
   },
   "outputs": [
    {
     "name": "stderr",
     "output_type": "stream",
     "text": [
      "Downloading: \"https://download.pytorch.org/models/resnet18-f37072fd.pth\" to /root/.cache/torch/hub/checkpoints/resnet18-f37072fd.pth\n"
     ]
    },
    {
     "data": {
      "application/vnd.jupyter.widget-view+json": {
       "model_id": "a34a794e3aaa4912ace90624c53741d3",
       "version_major": 2,
       "version_minor": 0
      },
      "text/plain": [
       "  0%|          | 0.00/44.7M [00:00<?, ?B/s]"
      ]
     },
     "metadata": {},
     "output_type": "display_data"
    }
   ],
   "source": [
    "skintone_classifier = ClassifierModel(num_classes=10).to(device)\n",
    "gender_classifier = ClassifierModel(num_classes=2).to(device)\n",
    "age_classifier = ClassifierModel(num_classes=4).to(device)"
   ]
  },
  {
   "cell_type": "markdown",
   "id": "e615ccf8",
   "metadata": {
    "papermill": {
     "duration": 0.01018,
     "end_time": "2022-11-16T18:54:03.620707",
     "exception": false,
     "start_time": "2022-11-16T18:54:03.610527",
     "status": "completed"
    },
    "tags": []
   },
   "source": [
    "## Helper functions"
   ]
  },
  {
   "cell_type": "code",
   "execution_count": 23,
   "id": "e383c4fd",
   "metadata": {
    "execution": {
     "iopub.execute_input": "2022-11-16T18:54:03.642151Z",
     "iopub.status.busy": "2022-11-16T18:54:03.641818Z",
     "iopub.status.idle": "2022-11-16T18:54:03.649658Z",
     "shell.execute_reply": "2022-11-16T18:54:03.648609Z"
    },
    "papermill": {
     "duration": 0.021097,
     "end_time": "2022-11-16T18:54:03.651816",
     "exception": false,
     "start_time": "2022-11-16T18:54:03.630719",
     "status": "completed"
    },
    "tags": []
   },
   "outputs": [],
   "source": [
    "def train(dataloader, model, loss_fn, optimizer, class_index:int, num_epochs:int = 100):\n",
    "    model.train()\n",
    "    for epoch in range(1,num_epochs+1):\n",
    "        total = 0\n",
    "        correct = 0\n",
    "        running_loss = 0\n",
    "        for imgs, labels in dataloader:\n",
    "            labels = labels[class_index]\n",
    "            output = model(imgs.to(device))\n",
    "            loss = loss_fn(output, labels.to(device))\n",
    "                   \n",
    "            running_loss += loss.item()\n",
    "            total        += labels.size(0)\n",
    "            predictions   = output.argmax(dim=1).cpu().detach() \n",
    "            correct      += (predictions == labels.cpu().detach()).sum().item() \n",
    "        \n",
    "            optimizer.zero_grad()\n",
    "            loss.backward() \n",
    "            optimizer.step() \n",
    "             \n",
    "        avg_loss = running_loss/len(dataloader) # Average loss for a single batch\n",
    "        print(f'Epoch {epoch}/{num_epochs} - loss: {avg_loss:.2f} - accuracy: {correct/total:.2f}')"
   ]
  },
  {
   "cell_type": "code",
   "execution_count": 24,
   "id": "8bba489b",
   "metadata": {
    "execution": {
     "iopub.execute_input": "2022-11-16T18:54:03.673685Z",
     "iopub.status.busy": "2022-11-16T18:54:03.672847Z",
     "iopub.status.idle": "2022-11-16T18:54:03.678847Z",
     "shell.execute_reply": "2022-11-16T18:54:03.678023Z"
    },
    "papermill": {
     "duration": 0.019012,
     "end_time": "2022-11-16T18:54:03.680846",
     "exception": false,
     "start_time": "2022-11-16T18:54:03.661834",
     "status": "completed"
    },
    "tags": []
   },
   "outputs": [],
   "source": [
    "def make_predictions(dataloader, model):\n",
    "    model.eval()\n",
    "    predicted_labels = []\n",
    "    with torch.no_grad():\n",
    "        for imgs, _ in dataloader:\n",
    "            output = model(imgs.to(device))\n",
    "            preds = output.argmax(dim=1).cpu().detach().tolist()\n",
    "            predicted_labels.extend(preds)\n",
    "    return predicted_labels"
   ]
  },
  {
   "cell_type": "markdown",
   "id": "e4c9b888",
   "metadata": {
    "papermill": {
     "duration": 0.00981,
     "end_time": "2022-11-16T18:54:03.700786",
     "exception": false,
     "start_time": "2022-11-16T18:54:03.690976",
     "status": "completed"
    },
    "tags": []
   },
   "source": [
    "## Train the model"
   ]
  },
  {
   "cell_type": "markdown",
   "id": "c2924e87",
   "metadata": {
    "papermill": {
     "duration": 0.010373,
     "end_time": "2022-11-16T18:54:03.721351",
     "exception": false,
     "start_time": "2022-11-16T18:54:03.710978",
     "status": "completed"
    },
    "tags": []
   },
   "source": [
    "Train all the classifier models. Before doing so, the classes for each category is unbalanced, so we need to calcualte the class weights."
   ]
  },
  {
   "cell_type": "code",
   "execution_count": 25,
   "id": "3e18ed7d",
   "metadata": {
    "execution": {
     "iopub.execute_input": "2022-11-16T18:54:03.743496Z",
     "iopub.status.busy": "2022-11-16T18:54:03.742717Z",
     "iopub.status.idle": "2022-11-16T18:54:05.105044Z",
     "shell.execute_reply": "2022-11-16T18:54:05.103959Z"
    },
    "papermill": {
     "duration": 1.376552,
     "end_time": "2022-11-16T18:54:05.107963",
     "exception": false,
     "start_time": "2022-11-16T18:54:03.731411",
     "status": "completed"
    },
    "tags": []
   },
   "outputs": [],
   "source": [
    "from sklearn.utils import class_weight"
   ]
  },
  {
   "cell_type": "code",
   "execution_count": 26,
   "id": "1e84fd0f",
   "metadata": {
    "execution": {
     "iopub.execute_input": "2022-11-16T18:54:05.131467Z",
     "iopub.status.busy": "2022-11-16T18:54:05.130613Z",
     "iopub.status.idle": "2022-11-16T19:50:48.200786Z",
     "shell.execute_reply": "2022-11-16T19:50:48.199736Z"
    },
    "papermill": {
     "duration": 3403.096209,
     "end_time": "2022-11-16T19:50:48.215542",
     "exception": false,
     "start_time": "2022-11-16T18:54:05.119333",
     "status": "completed"
    },
    "tags": []
   },
   "outputs": [
    {
     "name": "stdout",
     "output_type": "stream",
     "text": [
      "Epoch 1/50 - loss: 2.18 - accuracy: 0.14\n",
      "Epoch 2/50 - loss: 1.84 - accuracy: 0.23\n",
      "Epoch 3/50 - loss: 1.57 - accuracy: 0.31\n",
      "Epoch 4/50 - loss: 1.28 - accuracy: 0.39\n",
      "Epoch 5/50 - loss: 0.99 - accuracy: 0.50\n",
      "Epoch 6/50 - loss: 0.72 - accuracy: 0.61\n",
      "Epoch 7/50 - loss: 0.50 - accuracy: 0.71\n",
      "Epoch 8/50 - loss: 0.30 - accuracy: 0.83\n",
      "Epoch 9/50 - loss: 0.18 - accuracy: 0.91\n",
      "Epoch 10/50 - loss: 0.08 - accuracy: 0.97\n",
      "Epoch 11/50 - loss: 0.03 - accuracy: 0.99\n",
      "Epoch 12/50 - loss: 0.01 - accuracy: 1.00\n",
      "Epoch 13/50 - loss: 0.00 - accuracy: 1.00\n",
      "Epoch 14/50 - loss: 0.00 - accuracy: 1.00\n",
      "Epoch 15/50 - loss: 0.00 - accuracy: 1.00\n",
      "Epoch 16/50 - loss: 0.00 - accuracy: 1.00\n",
      "Epoch 17/50 - loss: 0.00 - accuracy: 1.00\n",
      "Epoch 18/50 - loss: 0.00 - accuracy: 1.00\n",
      "Epoch 19/50 - loss: 0.00 - accuracy: 1.00\n",
      "Epoch 20/50 - loss: 0.00 - accuracy: 1.00\n",
      "Epoch 21/50 - loss: 0.00 - accuracy: 1.00\n",
      "Epoch 22/50 - loss: 0.00 - accuracy: 1.00\n",
      "Epoch 23/50 - loss: 0.00 - accuracy: 1.00\n",
      "Epoch 24/50 - loss: 0.00 - accuracy: 1.00\n",
      "Epoch 25/50 - loss: 0.00 - accuracy: 1.00\n",
      "Epoch 26/50 - loss: 0.00 - accuracy: 1.00\n",
      "Epoch 27/50 - loss: 0.00 - accuracy: 1.00\n",
      "Epoch 28/50 - loss: 0.00 - accuracy: 1.00\n",
      "Epoch 29/50 - loss: 0.00 - accuracy: 1.00\n",
      "Epoch 30/50 - loss: 0.00 - accuracy: 1.00\n",
      "Epoch 31/50 - loss: 0.00 - accuracy: 1.00\n",
      "Epoch 32/50 - loss: 0.00 - accuracy: 1.00\n",
      "Epoch 33/50 - loss: 0.00 - accuracy: 1.00\n",
      "Epoch 34/50 - loss: 0.00 - accuracy: 1.00\n",
      "Epoch 35/50 - loss: 0.00 - accuracy: 1.00\n",
      "Epoch 36/50 - loss: 0.00 - accuracy: 1.00\n",
      "Epoch 37/50 - loss: 0.00 - accuracy: 1.00\n",
      "Epoch 38/50 - loss: 0.00 - accuracy: 1.00\n",
      "Epoch 39/50 - loss: 0.00 - accuracy: 1.00\n",
      "Epoch 40/50 - loss: 0.00 - accuracy: 1.00\n",
      "Epoch 41/50 - loss: 0.00 - accuracy: 1.00\n",
      "Epoch 42/50 - loss: 0.00 - accuracy: 1.00\n",
      "Epoch 43/50 - loss: 0.00 - accuracy: 1.00\n",
      "Epoch 44/50 - loss: 0.00 - accuracy: 1.00\n",
      "Epoch 45/50 - loss: 0.00 - accuracy: 1.00\n",
      "Epoch 46/50 - loss: 0.00 - accuracy: 1.00\n",
      "Epoch 47/50 - loss: 0.00 - accuracy: 1.00\n",
      "Epoch 48/50 - loss: 0.00 - accuracy: 1.00\n",
      "Epoch 49/50 - loss: 0.00 - accuracy: 1.00\n",
      "Epoch 50/50 - loss: 0.00 - accuracy: 1.00\n"
     ]
    }
   ],
   "source": [
    "#skintone classification\n",
    "class_weights = class_weight.compute_class_weight(class_weight='balanced', classes=np.array(range(len(skin_tone_labels))), y=train_df_labeled['skin_tone'].values)\n",
    "class_weights = torch.tensor(class_weights,dtype=torch.float).to(device)\n",
    "loss_fn   = nn.CrossEntropyLoss(weight=class_weights) #CrossEntropyLoss with class_weights\n",
    "optimizer = torch.optim.SGD(skintone_classifier.parameters(), lr=0.01, momentum=0.9)\n",
    "train(train_loader, skintone_classifier, loss_fn, optimizer, class_index=0, num_epochs=50)"
   ]
  },
  {
   "cell_type": "code",
   "execution_count": 27,
   "id": "31003d4f",
   "metadata": {
    "execution": {
     "iopub.execute_input": "2022-11-16T19:50:48.242457Z",
     "iopub.status.busy": "2022-11-16T19:50:48.242152Z",
     "iopub.status.idle": "2022-11-16T20:46:29.665453Z",
     "shell.execute_reply": "2022-11-16T20:46:29.664485Z"
    },
    "papermill": {
     "duration": 3341.455195,
     "end_time": "2022-11-16T20:46:29.683725",
     "exception": false,
     "start_time": "2022-11-16T19:50:48.228530",
     "status": "completed"
    },
    "tags": []
   },
   "outputs": [
    {
     "name": "stdout",
     "output_type": "stream",
     "text": [
      "Epoch 1/50 - loss: 0.57 - accuracy: 0.66\n",
      "Epoch 2/50 - loss: 0.38 - accuracy: 0.80\n",
      "Epoch 3/50 - loss: 0.26 - accuracy: 0.88\n",
      "Epoch 4/50 - loss: 0.15 - accuracy: 0.94\n",
      "Epoch 5/50 - loss: 0.06 - accuracy: 0.98\n",
      "Epoch 6/50 - loss: 0.05 - accuracy: 0.98\n",
      "Epoch 7/50 - loss: 0.08 - accuracy: 0.97\n",
      "Epoch 8/50 - loss: 0.07 - accuracy: 0.97\n",
      "Epoch 9/50 - loss: 0.03 - accuracy: 0.99\n",
      "Epoch 10/50 - loss: 0.02 - accuracy: 0.99\n",
      "Epoch 11/50 - loss: 0.02 - accuracy: 0.99\n",
      "Epoch 12/50 - loss: 0.02 - accuracy: 0.99\n",
      "Epoch 13/50 - loss: 0.02 - accuracy: 0.99\n",
      "Epoch 14/50 - loss: 0.02 - accuracy: 0.99\n",
      "Epoch 15/50 - loss: 0.02 - accuracy: 0.99\n",
      "Epoch 16/50 - loss: 0.01 - accuracy: 1.00\n",
      "Epoch 17/50 - loss: 0.00 - accuracy: 1.00\n",
      "Epoch 18/50 - loss: 0.00 - accuracy: 1.00\n",
      "Epoch 19/50 - loss: 0.00 - accuracy: 1.00\n",
      "Epoch 20/50 - loss: 0.00 - accuracy: 1.00\n",
      "Epoch 21/50 - loss: 0.00 - accuracy: 1.00\n",
      "Epoch 22/50 - loss: 0.00 - accuracy: 1.00\n",
      "Epoch 23/50 - loss: 0.00 - accuracy: 1.00\n",
      "Epoch 24/50 - loss: 0.00 - accuracy: 1.00\n",
      "Epoch 25/50 - loss: 0.00 - accuracy: 1.00\n",
      "Epoch 26/50 - loss: 0.00 - accuracy: 1.00\n",
      "Epoch 27/50 - loss: 0.00 - accuracy: 1.00\n",
      "Epoch 28/50 - loss: 0.00 - accuracy: 1.00\n",
      "Epoch 29/50 - loss: 0.00 - accuracy: 1.00\n",
      "Epoch 30/50 - loss: 0.00 - accuracy: 1.00\n",
      "Epoch 31/50 - loss: 0.00 - accuracy: 1.00\n",
      "Epoch 32/50 - loss: 0.00 - accuracy: 1.00\n",
      "Epoch 33/50 - loss: 0.00 - accuracy: 1.00\n",
      "Epoch 34/50 - loss: 0.00 - accuracy: 1.00\n",
      "Epoch 35/50 - loss: 0.00 - accuracy: 1.00\n",
      "Epoch 36/50 - loss: 0.00 - accuracy: 1.00\n",
      "Epoch 37/50 - loss: 0.00 - accuracy: 1.00\n",
      "Epoch 38/50 - loss: 0.00 - accuracy: 1.00\n",
      "Epoch 39/50 - loss: 0.00 - accuracy: 1.00\n",
      "Epoch 40/50 - loss: 0.00 - accuracy: 1.00\n",
      "Epoch 41/50 - loss: 0.00 - accuracy: 1.00\n",
      "Epoch 42/50 - loss: 0.00 - accuracy: 1.00\n",
      "Epoch 43/50 - loss: 0.00 - accuracy: 1.00\n",
      "Epoch 44/50 - loss: 0.00 - accuracy: 1.00\n",
      "Epoch 45/50 - loss: 0.00 - accuracy: 1.00\n",
      "Epoch 46/50 - loss: 0.00 - accuracy: 1.00\n",
      "Epoch 47/50 - loss: 0.00 - accuracy: 1.00\n",
      "Epoch 48/50 - loss: 0.00 - accuracy: 1.00\n",
      "Epoch 49/50 - loss: 0.00 - accuracy: 1.00\n",
      "Epoch 50/50 - loss: 0.00 - accuracy: 1.00\n"
     ]
    }
   ],
   "source": [
    "#gender classification\n",
    "class_weights = class_weight.compute_class_weight(class_weight='balanced', classes=np.array(range(len(gender_labels))), y=train_df_labeled['gender'].values)\n",
    "class_weights = torch.tensor(class_weights,dtype=torch.float).to(device)\n",
    "loss_fn   = nn.CrossEntropyLoss(weight=class_weights)\n",
    "optimizer = torch.optim.SGD(gender_classifier.parameters(), lr=0.01, momentum=0.9)\n",
    "train(train_loader, gender_classifier, loss_fn, optimizer, class_index=1, num_epochs=50)"
   ]
  },
  {
   "cell_type": "code",
   "execution_count": 28,
   "id": "2b370a35",
   "metadata": {
    "execution": {
     "iopub.execute_input": "2022-11-16T20:46:29.715668Z",
     "iopub.status.busy": "2022-11-16T20:46:29.715363Z",
     "iopub.status.idle": "2022-11-16T21:41:25.511102Z",
     "shell.execute_reply": "2022-11-16T21:41:25.510111Z"
    },
    "papermill": {
     "duration": 3295.832522,
     "end_time": "2022-11-16T21:41:25.531640",
     "exception": false,
     "start_time": "2022-11-16T20:46:29.699118",
     "status": "completed"
    },
    "tags": []
   },
   "outputs": [
    {
     "name": "stdout",
     "output_type": "stream",
     "text": [
      "Epoch 1/50 - loss: 1.22 - accuracy: 0.40\n",
      "Epoch 2/50 - loss: 0.91 - accuracy: 0.50\n",
      "Epoch 3/50 - loss: 0.71 - accuracy: 0.59\n",
      "Epoch 4/50 - loss: 0.59 - accuracy: 0.65\n",
      "Epoch 5/50 - loss: 0.46 - accuracy: 0.72\n",
      "Epoch 6/50 - loss: 0.29 - accuracy: 0.83\n",
      "Epoch 7/50 - loss: 0.17 - accuracy: 0.91\n",
      "Epoch 8/50 - loss: 0.08 - accuracy: 0.97\n",
      "Epoch 9/50 - loss: 0.19 - accuracy: 0.91\n",
      "Epoch 10/50 - loss: 0.32 - accuracy: 0.84\n",
      "Epoch 11/50 - loss: 0.21 - accuracy: 0.90\n",
      "Epoch 12/50 - loss: 0.07 - accuracy: 0.97\n",
      "Epoch 13/50 - loss: 0.02 - accuracy: 0.99\n",
      "Epoch 14/50 - loss: 0.01 - accuracy: 1.00\n",
      "Epoch 15/50 - loss: 0.00 - accuracy: 1.00\n",
      "Epoch 16/50 - loss: 0.00 - accuracy: 1.00\n",
      "Epoch 17/50 - loss: 0.00 - accuracy: 1.00\n",
      "Epoch 18/50 - loss: 0.00 - accuracy: 1.00\n",
      "Epoch 19/50 - loss: 0.00 - accuracy: 1.00\n",
      "Epoch 20/50 - loss: 0.00 - accuracy: 1.00\n",
      "Epoch 21/50 - loss: 0.00 - accuracy: 1.00\n",
      "Epoch 22/50 - loss: 0.00 - accuracy: 1.00\n",
      "Epoch 23/50 - loss: 0.00 - accuracy: 1.00\n",
      "Epoch 24/50 - loss: 0.00 - accuracy: 1.00\n",
      "Epoch 25/50 - loss: 0.00 - accuracy: 1.00\n",
      "Epoch 26/50 - loss: 0.00 - accuracy: 1.00\n",
      "Epoch 27/50 - loss: 0.00 - accuracy: 1.00\n",
      "Epoch 28/50 - loss: 0.00 - accuracy: 1.00\n",
      "Epoch 29/50 - loss: 0.00 - accuracy: 1.00\n",
      "Epoch 30/50 - loss: 0.00 - accuracy: 1.00\n",
      "Epoch 31/50 - loss: 0.00 - accuracy: 1.00\n",
      "Epoch 32/50 - loss: 0.00 - accuracy: 1.00\n",
      "Epoch 33/50 - loss: 0.00 - accuracy: 1.00\n",
      "Epoch 34/50 - loss: 0.00 - accuracy: 1.00\n",
      "Epoch 35/50 - loss: 0.00 - accuracy: 1.00\n",
      "Epoch 36/50 - loss: 0.00 - accuracy: 1.00\n",
      "Epoch 37/50 - loss: 0.00 - accuracy: 1.00\n",
      "Epoch 38/50 - loss: 0.00 - accuracy: 1.00\n",
      "Epoch 39/50 - loss: 0.00 - accuracy: 1.00\n",
      "Epoch 40/50 - loss: 0.00 - accuracy: 1.00\n",
      "Epoch 41/50 - loss: 0.00 - accuracy: 1.00\n",
      "Epoch 42/50 - loss: 0.00 - accuracy: 1.00\n",
      "Epoch 43/50 - loss: 0.00 - accuracy: 1.00\n",
      "Epoch 44/50 - loss: 0.00 - accuracy: 1.00\n",
      "Epoch 45/50 - loss: 0.00 - accuracy: 1.00\n",
      "Epoch 46/50 - loss: 0.00 - accuracy: 1.00\n",
      "Epoch 47/50 - loss: 0.00 - accuracy: 1.00\n",
      "Epoch 48/50 - loss: 0.00 - accuracy: 1.00\n",
      "Epoch 49/50 - loss: 0.00 - accuracy: 1.00\n",
      "Epoch 50/50 - loss: 0.00 - accuracy: 1.00\n"
     ]
    }
   ],
   "source": [
    "#age classification\n",
    "class_weights = class_weight.compute_class_weight(class_weight='balanced', classes=np.array(range(len(age_labels))), y=train_df_labeled['age'].values)\n",
    "class_weights = torch.tensor(class_weights,dtype=torch.float).to(device)\n",
    "loss_fn   = nn.CrossEntropyLoss(weight=class_weights) #CrossEntropyLoss with class_weights\n",
    "optimizer = torch.optim.SGD(age_classifier.parameters(), lr=0.01, momentum=0.9)\n",
    "train(train_loader, age_classifier, loss_fn, optimizer, class_index=2, num_epochs=50)"
   ]
  },
  {
   "cell_type": "code",
   "execution_count": 29,
   "id": "82fa318b",
   "metadata": {
    "execution": {
     "iopub.execute_input": "2022-11-16T21:41:25.568898Z",
     "iopub.status.busy": "2022-11-16T21:41:25.568328Z",
     "iopub.status.idle": "2022-11-16T21:41:26.107764Z",
     "shell.execute_reply": "2022-11-16T21:41:26.106730Z"
    },
    "papermill": {
     "duration": 0.561165,
     "end_time": "2022-11-16T21:41:26.110609",
     "exception": false,
     "start_time": "2022-11-16T21:41:25.549444",
     "status": "completed"
    },
    "tags": []
   },
   "outputs": [],
   "source": [
    "#save the models\n",
    "import os\n",
    "os.mkdir(\"saved models\")\n",
    "torch.save(skintone_classifier,\"./saved models/skintone_classifier.pt\")\n",
    "torch.save(gender_classifier,\"./saved models/gender_classifier.pt\")\n",
    "torch.save(age_classifier,\"./saved models/age_classifier.pt\")"
   ]
  },
  {
   "cell_type": "markdown",
   "id": "83ec4923",
   "metadata": {
    "papermill": {
     "duration": 0.017882,
     "end_time": "2022-11-16T21:41:26.147215",
     "exception": false,
     "start_time": "2022-11-16T21:41:26.129333",
     "status": "completed"
    },
    "tags": []
   },
   "source": [
    "## Make Predictions on Test data"
   ]
  },
  {
   "cell_type": "code",
   "execution_count": 30,
   "id": "80b18eda",
   "metadata": {
    "execution": {
     "iopub.execute_input": "2022-11-16T21:41:26.186121Z",
     "iopub.status.busy": "2022-11-16T21:41:26.184384Z",
     "iopub.status.idle": "2022-11-16T21:41:26.190050Z",
     "shell.execute_reply": "2022-11-16T21:41:26.189116Z"
    },
    "papermill": {
     "duration": 0.026576,
     "end_time": "2022-11-16T21:41:26.192119",
     "exception": false,
     "start_time": "2022-11-16T21:41:26.165543",
     "status": "completed"
    },
    "tags": []
   },
   "outputs": [],
   "source": [
    "#prepare the dataloader for test data\n",
    "test_data = ImageDataset(test_df, f\"{dataset_path}test/\", image_transform)\n",
    "test_loader = DataLoader(test_data, batch_size=256, shuffle=False)"
   ]
  },
  {
   "cell_type": "code",
   "execution_count": 31,
   "id": "7dfb99d5",
   "metadata": {
    "execution": {
     "iopub.execute_input": "2022-11-16T21:41:26.229338Z",
     "iopub.status.busy": "2022-11-16T21:41:26.228523Z",
     "iopub.status.idle": "2022-11-16T21:42:53.032818Z",
     "shell.execute_reply": "2022-11-16T21:42:53.031738Z"
    },
    "papermill": {
     "duration": 86.825198,
     "end_time": "2022-11-16T21:42:53.035590",
     "exception": false,
     "start_time": "2022-11-16T21:41:26.210392",
     "status": "completed"
    },
    "tags": []
   },
   "outputs": [],
   "source": [
    "skintone_predictions = make_predictions(test_loader, skintone_classifier)\n",
    "gender_predictions = make_predictions(test_loader, gender_classifier)\n",
    "age_predictions = make_predictions(test_loader, age_classifier)"
   ]
  },
  {
   "cell_type": "code",
   "execution_count": 32,
   "id": "b495ab5e",
   "metadata": {
    "execution": {
     "iopub.execute_input": "2022-11-16T21:42:53.078077Z",
     "iopub.status.busy": "2022-11-16T21:42:53.077719Z",
     "iopub.status.idle": "2022-11-16T21:42:53.082769Z",
     "shell.execute_reply": "2022-11-16T21:42:53.081571Z"
    },
    "papermill": {
     "duration": 0.028911,
     "end_time": "2022-11-16T21:42:53.085567",
     "exception": false,
     "start_time": "2022-11-16T21:42:53.056656",
     "status": "completed"
    },
    "tags": []
   },
   "outputs": [],
   "source": [
    "predictions = [skintone_predictions, gender_predictions, age_predictions]"
   ]
  },
  {
   "cell_type": "markdown",
   "id": "ad129979",
   "metadata": {
    "papermill": {
     "duration": 0.019665,
     "end_time": "2022-11-16T21:42:53.125618",
     "exception": false,
     "start_time": "2022-11-16T21:42:53.105953",
     "status": "completed"
    },
    "tags": []
   },
   "source": [
    "## Prepare Submission"
   ]
  },
  {
   "cell_type": "code",
   "execution_count": 33,
   "id": "a143aa8c",
   "metadata": {
    "execution": {
     "iopub.execute_input": "2022-11-16T21:42:53.166286Z",
     "iopub.status.busy": "2022-11-16T21:42:53.165954Z",
     "iopub.status.idle": "2022-11-16T21:42:53.263261Z",
     "shell.execute_reply": "2022-11-16T21:42:53.262381Z"
    },
    "papermill": {
     "duration": 0.120003,
     "end_time": "2022-11-16T21:42:53.265508",
     "exception": false,
     "start_time": "2022-11-16T21:42:53.145505",
     "status": "completed"
    },
    "tags": []
   },
   "outputs": [],
   "source": [
    "from sklearn.metrics import accuracy_score, confusion_matrix"
   ]
  },
  {
   "cell_type": "code",
   "execution_count": 34,
   "id": "312982f3",
   "metadata": {
    "execution": {
     "iopub.execute_input": "2022-11-16T21:42:53.302129Z",
     "iopub.status.busy": "2022-11-16T21:42:53.301790Z",
     "iopub.status.idle": "2022-11-16T21:42:53.326589Z",
     "shell.execute_reply": "2022-11-16T21:42:53.325500Z"
    },
    "papermill": {
     "duration": 0.045966,
     "end_time": "2022-11-16T21:42:53.329055",
     "exception": false,
     "start_time": "2022-11-16T21:42:53.283089",
     "status": "completed"
    },
    "tags": []
   },
   "outputs": [
    {
     "data": {
      "text/plain": [
       "{'accuracy': {'skin_tone': 0.253, 'gender': 0.8146666666666667, 'age': 0.598},\n",
       " 'disparity': {'skin_tone': 0.36016260162601627,\n",
       "  'gender': 0.1818600271994978,\n",
       "  'age': 0.5287647340141222}}"
      ]
     },
     "execution_count": 34,
     "metadata": {},
     "output_type": "execute_result"
    }
   ],
   "source": [
    "# calculate accuracy\n",
    "acc = {}\n",
    "for i in range(3):\n",
    "    icat = categories[i]\n",
    "    iacc = accuracy_score(test_df[icat], predictions[i])\n",
    "    acc[icat] = iacc\n",
    "\n",
    "# calculate disparity\n",
    "def disparity_score(ytrue, ypred):\n",
    "    cm = confusion_matrix(ytrue,ypred)\n",
    "    cm = cm.astype('float') / cm.sum(axis=1)[:, np.newaxis]\n",
    "    all_acc = list(cm.diagonal())\n",
    "    return max(all_acc) - min(all_acc)\n",
    "\n",
    "disp = {}\n",
    "for i in range(3):\n",
    "    icat = categories[i]\n",
    "    idisp = disparity_score(test_df[icat], predictions[i])\n",
    "    disp[icat] = idisp\n",
    "disp\n",
    "\n",
    "results = {'accuracy': acc, 'disparity': disp}\n",
    "results"
   ]
  },
  {
   "cell_type": "code",
   "execution_count": 35,
   "id": "6d445da0",
   "metadata": {
    "execution": {
     "iopub.execute_input": "2022-11-16T21:42:53.366341Z",
     "iopub.status.busy": "2022-11-16T21:42:53.366009Z",
     "iopub.status.idle": "2022-11-16T21:42:53.374507Z",
     "shell.execute_reply": "2022-11-16T21:42:53.373548Z"
    },
    "papermill": {
     "duration": 0.029588,
     "end_time": "2022-11-16T21:42:53.376746",
     "exception": false,
     "start_time": "2022-11-16T21:42:53.347158",
     "status": "completed"
    },
    "tags": []
   },
   "outputs": [
    {
     "data": {
      "text/plain": [
       "{'submission_name': 'Test Submission',\n",
       " 'score': 5.570905798768945,\n",
       " 'metrics': {'accuracy': {'skin_tone': 0.253,\n",
       "   'gender': 0.8146666666666667,\n",
       "   'age': 0.598},\n",
       "  'disparity': {'skin_tone': 0.36016260162601627,\n",
       "   'gender': 0.1818600271994978,\n",
       "   'age': 0.5287647340141222}}}"
      ]
     },
     "execution_count": 35,
     "metadata": {},
     "output_type": "execute_result"
    }
   ],
   "source": [
    "def getScore(results):\n",
    "    acc = results['accuracy']\n",
    "    disp = results['disparity']\n",
    "    ad = 2*acc['gender']*(1-disp['gender']) + 4*acc['age']*(1-disp['age']**2) + 10*acc['skin_tone']*(1-disp['skin_tone']**5)\n",
    "    return ad\n",
    "\n",
    "title = 'Test Submission'\n",
    "    \n",
    "submission = {\n",
    "    'submission_name': title,\n",
    "    'score': getScore(results),\n",
    "    'metrics': results\n",
    "}\n",
    "submission"
   ]
  },
  {
   "cell_type": "code",
   "execution_count": 36,
   "id": "dfd34519",
   "metadata": {
    "execution": {
     "iopub.execute_input": "2022-11-16T21:42:53.414805Z",
     "iopub.status.busy": "2022-11-16T21:42:53.413997Z",
     "iopub.status.idle": "2022-11-16T21:42:53.419324Z",
     "shell.execute_reply": "2022-11-16T21:42:53.418489Z"
    },
    "papermill": {
     "duration": 0.026359,
     "end_time": "2022-11-16T21:42:53.421364",
     "exception": false,
     "start_time": "2022-11-16T21:42:53.395005",
     "status": "completed"
    },
    "tags": []
   },
   "outputs": [],
   "source": [
    "import json\n",
    "with open(\"balaji_submission.json\", \"w\") as f:\n",
    "    json.dump(submission, f, indent=4)"
   ]
  }
 ],
 "metadata": {
  "kernelspec": {
   "display_name": "Python 3",
   "language": "python",
   "name": "python3"
  },
  "language_info": {
   "codemirror_mode": {
    "name": "ipython",
    "version": 3
   },
   "file_extension": ".py",
   "mimetype": "text/x-python",
   "name": "python",
   "nbconvert_exporter": "python",
   "pygments_lexer": "ipython3",
   "version": "3.7.12"
  },
  "papermill": {
   "default_parameters": {},
   "duration": 10242.94995,
   "end_time": "2022-11-16T21:42:56.106571",
   "environment_variables": {},
   "exception": null,
   "input_path": "__notebook__.ipynb",
   "output_path": "__notebook__.ipynb",
   "parameters": {},
   "start_time": "2022-11-16T18:52:13.156621",
   "version": "2.3.4"
  },
  "widgets": {
   "application/vnd.jupyter.widget-state+json": {
    "state": {
     "0e07ea3087fb4a968fdee56e79cdb699": {
      "model_module": "@jupyter-widgets/base",
      "model_module_version": "1.2.0",
      "model_name": "LayoutModel",
      "state": {
       "_model_module": "@jupyter-widgets/base",
       "_model_module_version": "1.2.0",
       "_model_name": "LayoutModel",
       "_view_count": null,
       "_view_module": "@jupyter-widgets/base",
       "_view_module_version": "1.2.0",
       "_view_name": "LayoutView",
       "align_content": null,
       "align_items": null,
       "align_self": null,
       "border": null,
       "bottom": null,
       "display": null,
       "flex": null,
       "flex_flow": null,
       "grid_area": null,
       "grid_auto_columns": null,
       "grid_auto_flow": null,
       "grid_auto_rows": null,
       "grid_column": null,
       "grid_gap": null,
       "grid_row": null,
       "grid_template_areas": null,
       "grid_template_columns": null,
       "grid_template_rows": null,
       "height": null,
       "justify_content": null,
       "justify_items": null,
       "left": null,
       "margin": null,
       "max_height": null,
       "max_width": null,
       "min_height": null,
       "min_width": null,
       "object_fit": null,
       "object_position": null,
       "order": null,
       "overflow": null,
       "overflow_x": null,
       "overflow_y": null,
       "padding": null,
       "right": null,
       "top": null,
       "visibility": null,
       "width": null
      }
     },
     "128d9f33eac647e1bd6a5d57369faa1f": {
      "model_module": "@jupyter-widgets/controls",
      "model_module_version": "1.5.0",
      "model_name": "ProgressStyleModel",
      "state": {
       "_model_module": "@jupyter-widgets/controls",
       "_model_module_version": "1.5.0",
       "_model_name": "ProgressStyleModel",
       "_view_count": null,
       "_view_module": "@jupyter-widgets/base",
       "_view_module_version": "1.2.0",
       "_view_name": "StyleView",
       "bar_color": null,
       "description_width": ""
      }
     },
     "15ab06e4cb7f4e6b9f7e9680c3b309c5": {
      "model_module": "@jupyter-widgets/base",
      "model_module_version": "1.2.0",
      "model_name": "LayoutModel",
      "state": {
       "_model_module": "@jupyter-widgets/base",
       "_model_module_version": "1.2.0",
       "_model_name": "LayoutModel",
       "_view_count": null,
       "_view_module": "@jupyter-widgets/base",
       "_view_module_version": "1.2.0",
       "_view_name": "LayoutView",
       "align_content": null,
       "align_items": null,
       "align_self": null,
       "border": null,
       "bottom": null,
       "display": null,
       "flex": null,
       "flex_flow": null,
       "grid_area": null,
       "grid_auto_columns": null,
       "grid_auto_flow": null,
       "grid_auto_rows": null,
       "grid_column": null,
       "grid_gap": null,
       "grid_row": null,
       "grid_template_areas": null,
       "grid_template_columns": null,
       "grid_template_rows": null,
       "height": null,
       "justify_content": null,
       "justify_items": null,
       "left": null,
       "margin": null,
       "max_height": null,
       "max_width": null,
       "min_height": null,
       "min_width": null,
       "object_fit": null,
       "object_position": null,
       "order": null,
       "overflow": null,
       "overflow_x": null,
       "overflow_y": null,
       "padding": null,
       "right": null,
       "top": null,
       "visibility": null,
       "width": null
      }
     },
     "24f88fb3f6114a56b9b99ef558fccdcc": {
      "model_module": "@jupyter-widgets/controls",
      "model_module_version": "1.5.0",
      "model_name": "DescriptionStyleModel",
      "state": {
       "_model_module": "@jupyter-widgets/controls",
       "_model_module_version": "1.5.0",
       "_model_name": "DescriptionStyleModel",
       "_view_count": null,
       "_view_module": "@jupyter-widgets/base",
       "_view_module_version": "1.2.0",
       "_view_name": "StyleView",
       "description_width": ""
      }
     },
     "2e1e85c8e5cf4671826772550cac7819": {
      "model_module": "@jupyter-widgets/controls",
      "model_module_version": "1.5.0",
      "model_name": "FloatProgressModel",
      "state": {
       "_dom_classes": [],
       "_model_module": "@jupyter-widgets/controls",
       "_model_module_version": "1.5.0",
       "_model_name": "FloatProgressModel",
       "_view_count": null,
       "_view_module": "@jupyter-widgets/controls",
       "_view_module_version": "1.5.0",
       "_view_name": "ProgressView",
       "bar_style": "success",
       "description": "",
       "description_tooltip": null,
       "layout": "IPY_MODEL_d5f6f20e11c446bba7ba80c6ee272f70",
       "max": 46830571.0,
       "min": 0.0,
       "orientation": "horizontal",
       "style": "IPY_MODEL_128d9f33eac647e1bd6a5d57369faa1f",
       "value": 46830571.0
      }
     },
     "3211bc7f2f1045358dfdcb60c64d647b": {
      "model_module": "@jupyter-widgets/controls",
      "model_module_version": "1.5.0",
      "model_name": "HTMLModel",
      "state": {
       "_dom_classes": [],
       "_model_module": "@jupyter-widgets/controls",
       "_model_module_version": "1.5.0",
       "_model_name": "HTMLModel",
       "_view_count": null,
       "_view_module": "@jupyter-widgets/controls",
       "_view_module_version": "1.5.0",
       "_view_name": "HTMLView",
       "description": "",
       "description_tooltip": null,
       "layout": "IPY_MODEL_a1f5c85aa4a8496b88be5e61ac9034af",
       "placeholder": "​",
       "style": "IPY_MODEL_87891f4e7bc34777863d403ee8505f86",
       "value": "100%"
      }
     },
     "87891f4e7bc34777863d403ee8505f86": {
      "model_module": "@jupyter-widgets/controls",
      "model_module_version": "1.5.0",
      "model_name": "DescriptionStyleModel",
      "state": {
       "_model_module": "@jupyter-widgets/controls",
       "_model_module_version": "1.5.0",
       "_model_name": "DescriptionStyleModel",
       "_view_count": null,
       "_view_module": "@jupyter-widgets/base",
       "_view_module_version": "1.2.0",
       "_view_name": "StyleView",
       "description_width": ""
      }
     },
     "a1f5c85aa4a8496b88be5e61ac9034af": {
      "model_module": "@jupyter-widgets/base",
      "model_module_version": "1.2.0",
      "model_name": "LayoutModel",
      "state": {
       "_model_module": "@jupyter-widgets/base",
       "_model_module_version": "1.2.0",
       "_model_name": "LayoutModel",
       "_view_count": null,
       "_view_module": "@jupyter-widgets/base",
       "_view_module_version": "1.2.0",
       "_view_name": "LayoutView",
       "align_content": null,
       "align_items": null,
       "align_self": null,
       "border": null,
       "bottom": null,
       "display": null,
       "flex": null,
       "flex_flow": null,
       "grid_area": null,
       "grid_auto_columns": null,
       "grid_auto_flow": null,
       "grid_auto_rows": null,
       "grid_column": null,
       "grid_gap": null,
       "grid_row": null,
       "grid_template_areas": null,
       "grid_template_columns": null,
       "grid_template_rows": null,
       "height": null,
       "justify_content": null,
       "justify_items": null,
       "left": null,
       "margin": null,
       "max_height": null,
       "max_width": null,
       "min_height": null,
       "min_width": null,
       "object_fit": null,
       "object_position": null,
       "order": null,
       "overflow": null,
       "overflow_x": null,
       "overflow_y": null,
       "padding": null,
       "right": null,
       "top": null,
       "visibility": null,
       "width": null
      }
     },
     "a34a794e3aaa4912ace90624c53741d3": {
      "model_module": "@jupyter-widgets/controls",
      "model_module_version": "1.5.0",
      "model_name": "HBoxModel",
      "state": {
       "_dom_classes": [],
       "_model_module": "@jupyter-widgets/controls",
       "_model_module_version": "1.5.0",
       "_model_name": "HBoxModel",
       "_view_count": null,
       "_view_module": "@jupyter-widgets/controls",
       "_view_module_version": "1.5.0",
       "_view_name": "HBoxView",
       "box_style": "",
       "children": [
        "IPY_MODEL_3211bc7f2f1045358dfdcb60c64d647b",
        "IPY_MODEL_2e1e85c8e5cf4671826772550cac7819",
        "IPY_MODEL_e30fe2d15dda4af99b7d2f24a861bcfa"
       ],
       "layout": "IPY_MODEL_15ab06e4cb7f4e6b9f7e9680c3b309c5"
      }
     },
     "d5f6f20e11c446bba7ba80c6ee272f70": {
      "model_module": "@jupyter-widgets/base",
      "model_module_version": "1.2.0",
      "model_name": "LayoutModel",
      "state": {
       "_model_module": "@jupyter-widgets/base",
       "_model_module_version": "1.2.0",
       "_model_name": "LayoutModel",
       "_view_count": null,
       "_view_module": "@jupyter-widgets/base",
       "_view_module_version": "1.2.0",
       "_view_name": "LayoutView",
       "align_content": null,
       "align_items": null,
       "align_self": null,
       "border": null,
       "bottom": null,
       "display": null,
       "flex": null,
       "flex_flow": null,
       "grid_area": null,
       "grid_auto_columns": null,
       "grid_auto_flow": null,
       "grid_auto_rows": null,
       "grid_column": null,
       "grid_gap": null,
       "grid_row": null,
       "grid_template_areas": null,
       "grid_template_columns": null,
       "grid_template_rows": null,
       "height": null,
       "justify_content": null,
       "justify_items": null,
       "left": null,
       "margin": null,
       "max_height": null,
       "max_width": null,
       "min_height": null,
       "min_width": null,
       "object_fit": null,
       "object_position": null,
       "order": null,
       "overflow": null,
       "overflow_x": null,
       "overflow_y": null,
       "padding": null,
       "right": null,
       "top": null,
       "visibility": null,
       "width": null
      }
     },
     "e30fe2d15dda4af99b7d2f24a861bcfa": {
      "model_module": "@jupyter-widgets/controls",
      "model_module_version": "1.5.0",
      "model_name": "HTMLModel",
      "state": {
       "_dom_classes": [],
       "_model_module": "@jupyter-widgets/controls",
       "_model_module_version": "1.5.0",
       "_model_name": "HTMLModel",
       "_view_count": null,
       "_view_module": "@jupyter-widgets/controls",
       "_view_module_version": "1.5.0",
       "_view_name": "HTMLView",
       "description": "",
       "description_tooltip": null,
       "layout": "IPY_MODEL_0e07ea3087fb4a968fdee56e79cdb699",
       "placeholder": "​",
       "style": "IPY_MODEL_24f88fb3f6114a56b9b99ef558fccdcc",
       "value": " 44.7M/44.7M [00:02&lt;00:00, 27.9MB/s]"
      }
     }
    },
    "version_major": 2,
    "version_minor": 0
   }
  }
 },
 "nbformat": 4,
 "nbformat_minor": 5
}
