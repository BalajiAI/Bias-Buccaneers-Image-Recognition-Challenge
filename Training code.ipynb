{
 "cells": [
  {
   "cell_type": "markdown",
   "metadata": {
    "papermill": {
     "duration": 0.009224,
     "end_time": "2022-12-04T05:47:59.813894",
     "exception": false,
     "start_time": "2022-12-04T05:47:59.804670",
     "status": "completed"
    },
    "tags": []
   },
   "source": [
    "# Bias Buccaneers Image Recognition Challenge: Supervised Solution"
   ]
  },
  {
   "cell_type": "code",
   "execution_count": null,
   "metadata": {
    "execution": {
     "iopub.execute_input": "2022-12-04T07:22:45.854738Z",
     "iopub.status.busy": "2022-12-04T07:22:45.854265Z",
     "iopub.status.idle": "2022-12-04T07:22:48.270661Z",
     "shell.execute_reply": "2022-12-04T07:22:48.269414Z",
     "shell.execute_reply.started": "2022-12-04T07:22:45.854648Z"
    },
    "papermill": {
     "duration": 2.264064,
     "end_time": "2022-12-04T05:48:02.086793",
     "exception": false,
     "start_time": "2022-12-04T05:47:59.822729",
     "status": "completed"
    },
    "tags": []
   },
   "outputs": [],
   "source": [
    "#import required libraries\n",
    "import os\n",
    "import numpy as np\n",
    "import pandas as pd\n",
    "import matplotlib.pyplot as plt\n",
    "import PIL.Image as Image\n",
    "from sklearn.utils import class_weight\n",
    "\n",
    "import torch\n",
    "import torch.nn as nn\n",
    "from torch.utils.data import Dataset, DataLoader\n",
    "import torchvision\n",
    "from torchvision import transforms"
   ]
  },
  {
   "cell_type": "code",
   "execution_count": null,
   "metadata": {},
   "outputs": [],
   "source": [
    "#create a directory for saving the trained models\n",
    "os.mkdir(\"saved_models\")"
   ]
  },
  {
   "cell_type": "code",
   "execution_count": null,
   "metadata": {
    "execution": {
     "iopub.execute_input": "2022-12-04T05:48:02.104335Z",
     "iopub.status.busy": "2022-12-04T05:48:02.103862Z",
     "iopub.status.idle": "2022-12-04T05:48:02.219959Z",
     "shell.execute_reply": "2022-12-04T05:48:02.218985Z"
    },
    "papermill": {
     "duration": 0.127815,
     "end_time": "2022-12-04T05:48:02.222812",
     "exception": false,
     "start_time": "2022-12-04T05:48:02.094997",
     "status": "completed"
    },
    "tags": []
   },
   "outputs": [],
   "source": [
    "device = torch.device('cuda' if torch.cuda.is_available() else 'cpu')\n",
    "print(device)"
   ]
  },
  {
   "cell_type": "markdown",
   "metadata": {
    "papermill": {
     "duration": 0.007815,
     "end_time": "2022-12-04T05:48:02.239657",
     "exception": false,
     "start_time": "2022-12-04T05:48:02.231842",
     "status": "completed"
    },
    "tags": []
   },
   "source": [
    "## Prepare the data"
   ]
  },
  {
   "cell_type": "code",
   "execution_count": null,
   "metadata": {
    "execution": {
     "iopub.execute_input": "2022-12-04T05:48:02.273724Z",
     "iopub.status.busy": "2022-12-04T05:48:02.272692Z",
     "iopub.status.idle": "2022-12-04T05:48:02.314733Z",
     "shell.execute_reply": "2022-12-04T05:48:02.313878Z"
    },
    "papermill": {
     "duration": 0.053392,
     "end_time": "2022-12-04T05:48:02.316972",
     "exception": false,
     "start_time": "2022-12-04T05:48:02.263580",
     "status": "completed"
    },
    "tags": []
   },
   "outputs": [],
   "source": [
    "dataset_path = \"./bias-buccaneers\"\n",
    "train_df = pd.read_csv(f\"{dataset_path}/train/labels.csv\")\n",
    "test_df = pd.read_csv(f\"{dataset_path}/test/labels.csv\")"
   ]
  },
  {
   "cell_type": "code",
   "execution_count": null,
   "metadata": {
    "execution": {
     "iopub.execute_input": "2022-12-04T05:48:02.333350Z",
     "iopub.status.busy": "2022-12-04T05:48:02.333024Z",
     "iopub.status.idle": "2022-12-04T05:48:02.338159Z",
     "shell.execute_reply": "2022-12-04T05:48:02.337193Z"
    },
    "papermill": {
     "duration": 0.01565,
     "end_time": "2022-12-04T05:48:02.340368",
     "exception": false,
     "start_time": "2022-12-04T05:48:02.324718",
     "status": "completed"
    },
    "tags": []
   },
   "outputs": [],
   "source": [
    "categories = train_df.columns[1:].tolist()\n",
    "print(categories)"
   ]
  },
  {
   "cell_type": "markdown",
   "metadata": {
    "papermill": {
     "duration": 0.007538,
     "end_time": "2022-12-04T05:48:02.355580",
     "exception": false,
     "start_time": "2022-12-04T05:48:02.348042",
     "status": "completed"
    },
    "tags": []
   },
   "source": [
    "There are around 3730 samples in the training set which are unlabeled."
   ]
  },
  {
   "cell_type": "code",
   "execution_count": null,
   "metadata": {
    "execution": {
     "iopub.execute_input": "2022-12-04T05:48:02.371884Z",
     "iopub.status.busy": "2022-12-04T05:48:02.371622Z",
     "iopub.status.idle": "2022-12-04T05:48:02.385940Z",
     "shell.execute_reply": "2022-12-04T05:48:02.384707Z"
    },
    "papermill": {
     "duration": 0.024511,
     "end_time": "2022-12-04T05:48:02.387888",
     "exception": false,
     "start_time": "2022-12-04T05:48:02.363377",
     "status": "completed"
    },
    "tags": []
   },
   "outputs": [],
   "source": [
    "train_df_labeled = train_df[train_df[\"skin_tone\"].notna()].copy(deep=True) # take only labeled data"
   ]
  },
  {
   "cell_type": "code",
   "execution_count": null,
   "metadata": {
    "execution": {
     "iopub.execute_input": "2022-12-04T05:48:02.404502Z",
     "iopub.status.busy": "2022-12-04T05:48:02.404217Z",
     "iopub.status.idle": "2022-12-04T05:48:02.408347Z",
     "shell.execute_reply": "2022-12-04T05:48:02.407383Z"
    },
    "papermill": {
     "duration": 0.014845,
     "end_time": "2022-12-04T05:48:02.410333",
     "exception": false,
     "start_time": "2022-12-04T05:48:02.395488",
     "status": "completed"
    },
    "tags": []
   },
   "outputs": [],
   "source": [
    "#Modify the index values of the df\n",
    "train_df_labeled.reset_index(drop=True, inplace=True)"
   ]
  },
  {
   "cell_type": "markdown",
   "metadata": {
    "papermill": {
     "duration": 0.007726,
     "end_time": "2022-12-04T05:48:02.426244",
     "exception": false,
     "start_time": "2022-12-04T05:48:02.418518",
     "status": "completed"
    },
    "tags": []
   },
   "source": [
    "Now we need to encode the labels into an integer such that we can use PyTorch's CrossEntropyLoss."
   ]
  },
  {
   "cell_type": "code",
   "execution_count": null,
   "metadata": {
    "execution": {
     "iopub.execute_input": "2022-12-04T05:48:02.443479Z",
     "iopub.status.busy": "2022-12-04T05:48:02.442609Z",
     "iopub.status.idle": "2022-12-04T05:48:02.447750Z",
     "shell.execute_reply": "2022-12-04T05:48:02.446859Z"
    },
    "papermill": {
     "duration": 0.015756,
     "end_time": "2022-12-04T05:48:02.449706",
     "exception": false,
     "start_time": "2022-12-04T05:48:02.433950",
     "status": "completed"
    },
    "tags": []
   },
   "outputs": [],
   "source": [
    "skin_tone_labels = [f\"monk_{i}\" for i in range(1,11)]\n",
    "gender_labels = [\"male\", \"female\"]\n",
    "age_labels = [\"0_17\", \"18_30\", \"31_60\", \"61_100\"]"
   ]
  },
  {
   "cell_type": "code",
   "execution_count": null,
   "metadata": {
    "execution": {
     "iopub.execute_input": "2022-12-04T05:48:02.466486Z",
     "iopub.status.busy": "2022-12-04T05:48:02.466203Z",
     "iopub.status.idle": "2022-12-04T05:48:02.487082Z",
     "shell.execute_reply": "2022-12-04T05:48:02.486295Z"
    },
    "papermill": {
     "duration": 0.031452,
     "end_time": "2022-12-04T05:48:02.489004",
     "exception": false,
     "start_time": "2022-12-04T05:48:02.457552",
     "status": "completed"
    },
    "tags": []
   },
   "outputs": [],
   "source": [
    "#encode train samples\n",
    "train_df_labeled['skin_tone'].replace(skin_tone_labels, list(range(len(skin_tone_labels))), inplace=True)\n",
    "train_df_labeled['gender'].replace(gender_labels, list(range(len(gender_labels))), inplace=True)\n",
    "train_df_labeled['age'].replace(age_labels, list(range(len(age_labels))), inplace=True)"
   ]
  },
  {
   "cell_type": "code",
   "execution_count": null,
   "metadata": {
    "execution": {
     "iopub.execute_input": "2022-12-04T05:48:02.506352Z",
     "iopub.status.busy": "2022-12-04T05:48:02.505583Z",
     "iopub.status.idle": "2022-12-04T05:48:02.517643Z",
     "shell.execute_reply": "2022-12-04T05:48:02.516724Z"
    },
    "papermill": {
     "duration": 0.022642,
     "end_time": "2022-12-04T05:48:02.519593",
     "exception": false,
     "start_time": "2022-12-04T05:48:02.496951",
     "status": "completed"
    },
    "tags": []
   },
   "outputs": [],
   "source": [
    "#encode test samples\n",
    "test_df['skin_tone'].replace(skin_tone_labels, list(range(len(skin_tone_labels))), inplace=True)\n",
    "test_df['gender'].replace(gender_labels, list(range(len(gender_labels))), inplace=True)\n",
    "test_df['age'].replace(age_labels, list(range(len(age_labels))), inplace=True)"
   ]
  },
  {
   "cell_type": "code",
   "execution_count": null,
   "metadata": {
    "execution": {
     "iopub.execute_input": "2022-12-04T05:48:02.536762Z",
     "iopub.status.busy": "2022-12-04T05:48:02.536475Z",
     "iopub.status.idle": "2022-12-04T05:48:02.543354Z",
     "shell.execute_reply": "2022-12-04T05:48:02.542307Z"
    },
    "papermill": {
     "duration": 0.018517,
     "end_time": "2022-12-04T05:48:02.546220",
     "exception": false,
     "start_time": "2022-12-04T05:48:02.527703",
     "status": "completed"
    },
    "tags": []
   },
   "outputs": [],
   "source": [
    "#there are around 5 grayscale images in the dataset, so it is better to remove them.\n",
    "grayscale_img_indices = [153, 647, 4905, 6184, 6389]\n",
    "train_df_labeled.drop(labels=grayscale_img_indices, axis=0, inplace=True)\n",
    "train_df_labeled.reset_index(drop=True, inplace=True)"
   ]
  },
  {
   "cell_type": "markdown",
   "metadata": {
    "papermill": {
     "duration": 0.0084,
     "end_time": "2022-12-04T05:48:02.563189",
     "exception": false,
     "start_time": "2022-12-04T05:48:02.554789",
     "status": "completed"
    },
    "tags": []
   },
   "source": [
    "### Building the DataLoader"
   ]
  },
  {
   "cell_type": "code",
   "execution_count": null,
   "metadata": {
    "execution": {
     "iopub.execute_input": "2022-12-04T05:48:02.580254Z",
     "iopub.status.busy": "2022-12-04T05:48:02.579518Z",
     "iopub.status.idle": "2022-12-04T05:48:02.586784Z",
     "shell.execute_reply": "2022-12-04T05:48:02.585978Z"
    },
    "papermill": {
     "duration": 0.018114,
     "end_time": "2022-12-04T05:48:02.588771",
     "exception": false,
     "start_time": "2022-12-04T05:48:02.570657",
     "status": "completed"
    },
    "tags": []
   },
   "outputs": [],
   "source": [
    "class ImageDataset(Dataset):\n",
    "    def __init__(self, df, data_path, image_transform=None):\n",
    "        self.df = df\n",
    "        self.data_path = data_path\n",
    "        self.image_transform = image_transform\n",
    "\n",
    "    def __len__(self):\n",
    "        return len(self.df)\n",
    "    \n",
    "    def __getitem__(self, index):\n",
    "        img = Image.open(f\"{self.data_path}{self.df['name'][index]}\")\n",
    "        if self.image_transform:\n",
    "            img = self.image_transform(img)\n",
    "        #we need to provide labels for skin_tone, gender, age\n",
    "        labels = (self.df['skin_tone'][index], self.df['gender'][index], self.df['age'][index])\n",
    "        return img, labels"
   ]
  },
  {
   "cell_type": "code",
   "execution_count": null,
   "metadata": {
    "execution": {
     "iopub.execute_input": "2022-12-04T05:48:02.606495Z",
     "iopub.status.busy": "2022-12-04T05:48:02.605721Z",
     "iopub.status.idle": "2022-12-04T05:48:02.612593Z",
     "shell.execute_reply": "2022-12-04T05:48:02.611712Z"
    },
    "papermill": {
     "duration": 0.017957,
     "end_time": "2022-12-04T05:48:02.614783",
     "exception": false,
     "start_time": "2022-12-04T05:48:02.596826",
     "status": "completed"
    },
    "tags": []
   },
   "outputs": [],
   "source": [
    "#the dataset size is too small, it overfits to the training set, so we need to make use of data augmentations\n",
    "image_transform = transforms.Compose([ transforms.ToTensor(),\n",
    "                                       transforms.RandomHorizontalFlip(),\n",
    "                                       transforms.RandomRotation(20, interpolation=transforms.InterpolationMode.BILINEAR),\n",
    "                                       transforms.RandomGrayscale(p=0.2),\n",
    "                                       transforms.GaussianBlur(kernel_size=9, sigma=(0.1, 0.5)),\n",
    "                                       transforms.Normalize((0.485, 0.456, 0.406), (0.229, 0.224, 0.225)),\n",
    "                                       ])\n",
    "\n",
    "train_dataset = ImageDataset(train_df_labeled, f\"{dataset_path}/train/\", image_transform)"
   ]
  },
  {
   "cell_type": "code",
   "execution_count": null,
   "metadata": {
    "execution": {
     "iopub.execute_input": "2022-12-04T05:48:02.631650Z",
     "iopub.status.busy": "2022-12-04T05:48:02.630970Z",
     "iopub.status.idle": "2022-12-04T05:48:02.636195Z",
     "shell.execute_reply": "2022-12-04T05:48:02.635412Z"
    },
    "papermill": {
     "duration": 0.015679,
     "end_time": "2022-12-04T05:48:02.638184",
     "exception": false,
     "start_time": "2022-12-04T05:48:02.622505",
     "status": "completed"
    },
    "tags": []
   },
   "outputs": [],
   "source": [
    "train_loader = DataLoader(train_dataset, batch_size=256, shuffle=True)"
   ]
  },
  {
   "cell_type": "markdown",
   "metadata": {
    "papermill": {
     "duration": 0.007647,
     "end_time": "2022-12-04T05:48:02.653677",
     "exception": false,
     "start_time": "2022-12-04T05:48:02.646030",
     "status": "completed"
    },
    "tags": []
   },
   "source": [
    "## Build the model"
   ]
  },
  {
   "cell_type": "code",
   "execution_count": null,
   "metadata": {
    "execution": {
     "iopub.execute_input": "2022-12-04T05:48:02.670716Z",
     "iopub.status.busy": "2022-12-04T05:48:02.669932Z",
     "iopub.status.idle": "2022-12-04T05:48:02.676309Z",
     "shell.execute_reply": "2022-12-04T05:48:02.675460Z"
    },
    "papermill": {
     "duration": 0.01699,
     "end_time": "2022-12-04T05:48:02.678477",
     "exception": false,
     "start_time": "2022-12-04T05:48:02.661487",
     "status": "completed"
    },
    "tags": []
   },
   "outputs": [],
   "source": [
    "class ClassifierModel(nn.Module):\n",
    "    def __init__(self, num_classes):\n",
    "        super().__init__()\n",
    "        self.backbone = torchvision.models.resnet18(pretrained=True)\n",
    "        self.classifier = nn.Sequential(nn.ReLU(), nn.Linear(1000, 512), nn.ReLU(), nn.Linear(512, num_classes))\n",
    "    def forward(self, x):\n",
    "        x = self.backbone(x)\n",
    "        x = self.classifier(x)\n",
    "        return x"
   ]
  },
  {
   "cell_type": "markdown",
   "metadata": {
    "papermill": {
     "duration": 0.008111,
     "end_time": "2022-12-04T05:48:09.079762",
     "exception": false,
     "start_time": "2022-12-04T05:48:09.071651",
     "status": "completed"
    },
    "tags": []
   },
   "source": [
    "## Helper functions"
   ]
  },
  {
   "cell_type": "code",
   "execution_count": null,
   "metadata": {
    "execution": {
     "iopub.execute_input": "2022-12-04T05:48:09.097117Z",
     "iopub.status.busy": "2022-12-04T05:48:09.096787Z",
     "iopub.status.idle": "2022-12-04T05:48:09.103299Z",
     "shell.execute_reply": "2022-12-04T05:48:09.102329Z"
    },
    "papermill": {
     "duration": 0.017726,
     "end_time": "2022-12-04T05:48:09.105502",
     "exception": false,
     "start_time": "2022-12-04T05:48:09.087776",
     "status": "completed"
    },
    "tags": []
   },
   "outputs": [],
   "source": [
    "def train(dataloader, model, loss_fn, optimizer, class_index:int, num_epochs:int):\n",
    "    model.train()\n",
    "    for epoch in range(1,num_epochs+1):\n",
    "        running_loss = 0\n",
    "        for imgs, labels in dataloader:\n",
    "            labels = labels[class_index]\n",
    "            output = model(imgs.to(device))\n",
    "            loss = loss_fn(output, labels.to(device))\n",
    "                   \n",
    "            running_loss += loss.item()\n",
    "        \n",
    "            optimizer.zero_grad()\n",
    "            loss.backward() \n",
    "            optimizer.step() \n",
    "             \n",
    "        avg_loss = running_loss/len(dataloader) # Average loss for a single batch\n",
    "        print(f'Epoch {epoch}/{num_epochs} - loss: {avg_loss:.2f}')"
   ]
  },
  {
   "cell_type": "code",
   "execution_count": null,
   "metadata": {
    "execution": {
     "iopub.execute_input": "2022-12-04T05:48:09.122392Z",
     "iopub.status.busy": "2022-12-04T05:48:09.122113Z",
     "iopub.status.idle": "2022-12-04T05:48:09.127627Z",
     "shell.execute_reply": "2022-12-04T05:48:09.126688Z"
    },
    "papermill": {
     "duration": 0.016392,
     "end_time": "2022-12-04T05:48:09.129656",
     "exception": false,
     "start_time": "2022-12-04T05:48:09.113264",
     "status": "completed"
    },
    "tags": []
   },
   "outputs": [],
   "source": [
    "def make_predictions(dataloader, model):\n",
    "    model.eval()\n",
    "    predicted_labels = []\n",
    "    with torch.no_grad():\n",
    "        for imgs, _ in dataloader:\n",
    "            output = model(imgs.to(device))\n",
    "            preds = output.argmax(dim=1).cpu().detach().tolist()\n",
    "            predicted_labels.extend(preds)\n",
    "    return predicted_labels"
   ]
  },
  {
   "cell_type": "markdown",
   "metadata": {
    "papermill": {
     "duration": 0.007754,
     "end_time": "2022-12-04T05:48:09.145577",
     "exception": false,
     "start_time": "2022-12-04T05:48:09.137823",
     "status": "completed"
    },
    "tags": []
   },
   "source": [
    "## Train the model"
   ]
  },
  {
   "cell_type": "markdown",
   "metadata": {
    "papermill": {
     "duration": 0.00794,
     "end_time": "2022-12-04T05:48:09.161494",
     "exception": false,
     "start_time": "2022-12-04T05:48:09.153554",
     "status": "completed"
    },
    "tags": []
   },
   "source": [
    "Train all the classifier models. Before doing so, the classes for each category is unbalanced, so we need to calcualte the class weights."
   ]
  },
  {
   "cell_type": "code",
   "execution_count": null,
   "metadata": {
    "execution": {
     "iopub.execute_input": "2022-12-04T05:48:10.048640Z",
     "iopub.status.busy": "2022-12-04T05:48:10.047134Z",
     "iopub.status.idle": "2022-12-04T06:41:11.598307Z",
     "shell.execute_reply": "2022-12-04T06:41:11.597224Z"
    },
    "papermill": {
     "duration": 3181.572562,
     "end_time": "2022-12-04T06:41:11.610518",
     "exception": false,
     "start_time": "2022-12-04T05:48:10.037956",
     "status": "completed"
    },
    "tags": []
   },
   "outputs": [],
   "source": [
    "#skintone classification\n",
    "skintone_classifier = ClassifierModel(num_classes=10).to(device)\n",
    "class_weights = class_weight.compute_class_weight(class_weight='balanced', classes=np.array(range(len(skin_tone_labels))), y=train_df_labeled['skin_tone'].values)\n",
    "class_weights = torch.tensor(class_weights,dtype=torch.float).to(device)\n",
    "loss_fn   = nn.CrossEntropyLoss(weight=class_weights)\n",
    "optimizer = torch.optim.SGD(skintone_classifier.parameters(), lr=0.01, momentum=0.9, weight_decay=1e-5)\n",
    "train(train_loader, skintone_classifier, loss_fn, optimizer, class_index=0, num_epochs=30)\n",
    "#save the trained model\n",
    "skintone_classifier = skintone_classifier.cpu()\n",
    "torch.save(skintone_classifier,\"./saved_models/skintone_classifier.pt\")"
   ]
  },
  {
   "cell_type": "code",
   "execution_count": null,
   "metadata": {
    "execution": {
     "iopub.execute_input": "2022-12-04T06:41:11.631350Z",
     "iopub.status.busy": "2022-12-04T06:41:11.630979Z",
     "iopub.status.idle": "2022-12-04T06:41:11.688062Z",
     "shell.execute_reply": "2022-12-04T06:41:11.687050Z"
    },
    "papermill": {
     "duration": 0.069332,
     "end_time": "2022-12-04T06:41:11.690581",
     "exception": false,
     "start_time": "2022-12-04T06:41:11.621249",
     "status": "completed"
    },
    "tags": []
   },
   "outputs": [],
   "source": [
    "#gender classification\n",
    "gender_classifier = ClassifierModel(num_classes=2).to(device)\n",
    "class_weights = class_weight.compute_class_weight(class_weight='balanced', classes=np.array(range(len(gender_labels))), y=train_df_labeled['gender'].values)\n",
    "class_weights = torch.tensor(class_weights,dtype=torch.float).to(device)\n",
    "loss_fn   = nn.CrossEntropyLoss(weight=class_weights)\n",
    "optimizer = torch.optim.SGD(gender_classifier.parameters(), lr=0.01, momentum=0.9, weight_decay=1e-5)\n",
    "train(train_loader, gender_classifier, loss_fn, optimizer, class_index=1, num_epochs=30)\n",
    "gender_classifier = gender_classifier.cpu()\n",
    "torch.save(gender_classifier,\"./saved_models/gender_classifier.pt\")"
   ]
  },
  {
   "cell_type": "code",
   "execution_count": null,
   "metadata": {
    "execution": {
     "iopub.execute_input": "2022-12-04T06:41:11.711251Z",
     "iopub.status.busy": "2022-12-04T06:41:11.710904Z",
     "iopub.status.idle": "2022-12-04T06:41:11.721803Z",
     "shell.execute_reply": "2022-12-04T06:41:11.720498Z"
    },
    "papermill": {
     "duration": 0.02476,
     "end_time": "2022-12-04T06:41:11.724384",
     "exception": false,
     "start_time": "2022-12-04T06:41:11.699624",
     "status": "completed"
    },
    "tags": []
   },
   "outputs": [],
   "source": [
    "#age classification\n",
    "age_classifier = ClassifierModel(num_classes=4).to(device)\n",
    "class_weights = class_weight.compute_class_weight(class_weight='balanced', classes=np.array(range(len(age_labels))), y=train_df_labeled['age'].values)\n",
    "class_weights = torch.tensor(class_weights,dtype=torch.float).to(device)\n",
    "loss_fn   = nn.CrossEntropyLoss(weight=class_weights) #CrossEntropyLoss with class_weights\n",
    "optimizer = torch.optim.SGD(age_classifier.parameters(), lr=0.01, momentum=0.9, weight_decay=1e-5)\n",
    "train(train_loader, age_classifier, loss_fn, optimizer, class_index=2, num_epochs=30)\n",
    "age_classifier = age_classifier.cpu()\n",
    "torch.save(age_classifier,\"./saved_models/age_classifier.pt\")"
   ]
  },
  {
   "cell_type": "markdown",
   "metadata": {
    "papermill": {
     "duration": 0.009079,
     "end_time": "2022-12-04T06:42:26.166639",
     "exception": false,
     "start_time": "2022-12-04T06:42:26.157560",
     "status": "completed"
    },
    "tags": []
   },
   "source": [
    "---"
   ]
  }
 ],
 "metadata": {
  "kernelspec": {
   "display_name": "Python 3 (ipykernel)",
   "language": "python",
   "name": "python3"
  },
  "language_info": {
   "codemirror_mode": {
    "name": "ipython",
    "version": 3
   },
   "file_extension": ".py",
   "mimetype": "text/x-python",
   "name": "python",
   "nbconvert_exporter": "python",
   "pygments_lexer": "ipython3",
   "version": "3.9.13"
  }
 },
 "nbformat": 4,
 "nbformat_minor": 4
}
