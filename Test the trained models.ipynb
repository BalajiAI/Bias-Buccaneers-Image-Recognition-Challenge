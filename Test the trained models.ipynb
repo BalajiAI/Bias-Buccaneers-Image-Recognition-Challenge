{
 "cells": [
  {
   "cell_type": "markdown",
   "metadata": {
    "papermill": {
     "duration": 0.009224,
     "end_time": "2022-12-04T05:47:59.813894",
     "exception": false,
     "start_time": "2022-12-04T05:47:59.804670",
     "status": "completed"
    },
    "tags": []
   },
   "source": [
    "# Predictions using Trained models"
   ]
  },
  {
   "cell_type": "code",
   "execution_count": null,
   "metadata": {
    "execution": {
     "iopub.execute_input": "2022-12-04T07:22:45.854738Z",
     "iopub.status.busy": "2022-12-04T07:22:45.854265Z",
     "iopub.status.idle": "2022-12-04T07:22:48.270661Z",
     "shell.execute_reply": "2022-12-04T07:22:48.269414Z",
     "shell.execute_reply.started": "2022-12-04T07:22:45.854648Z"
    },
    "papermill": {
     "duration": 2.264064,
     "end_time": "2022-12-04T05:48:02.086793",
     "exception": false,
     "start_time": "2022-12-04T05:47:59.822729",
     "status": "completed"
    },
    "tags": []
   },
   "outputs": [],
   "source": [
    "#import required libraries\n",
    "import os\n",
    "import numpy as np\n",
    "import pandas as pd\n",
    "import matplotlib.pyplot as plt\n",
    "import PIL.Image as Image\n",
    "from sklearn.utils import class_weight\n",
    "\n",
    "import torch\n",
    "import torch.nn as nn\n",
    "from torch.utils.data import Dataset, DataLoader\n",
    "import torchvision\n",
    "from torchvision import transforms"
   ]
  },
  {
   "cell_type": "code",
   "execution_count": null,
   "metadata": {
    "execution": {
     "iopub.execute_input": "2022-12-04T05:48:02.104335Z",
     "iopub.status.busy": "2022-12-04T05:48:02.103862Z",
     "iopub.status.idle": "2022-12-04T05:48:02.219959Z",
     "shell.execute_reply": "2022-12-04T05:48:02.218985Z"
    },
    "papermill": {
     "duration": 0.127815,
     "end_time": "2022-12-04T05:48:02.222812",
     "exception": false,
     "start_time": "2022-12-04T05:48:02.094997",
     "status": "completed"
    },
    "tags": []
   },
   "outputs": [],
   "source": [
    "device = torch.device('cuda' if torch.cuda.is_available() else 'cpu')\n",
    "print(device)"
   ]
  },
  {
   "cell_type": "markdown",
   "metadata": {
    "papermill": {
     "duration": 0.007815,
     "end_time": "2022-12-04T05:48:02.239657",
     "exception": false,
     "start_time": "2022-12-04T05:48:02.231842",
     "status": "completed"
    },
    "tags": []
   },
   "source": [
    "## Prepare the testing data"
   ]
  },
  {
   "cell_type": "markdown",
   "metadata": {},
   "source": [
    "In the following cell, load the csv file which contains path for images and its labels."
   ]
  },
  {
   "cell_type": "code",
   "execution_count": null,
   "metadata": {
    "execution": {
     "iopub.execute_input": "2022-12-04T05:48:02.273724Z",
     "iopub.status.busy": "2022-12-04T05:48:02.272692Z",
     "iopub.status.idle": "2022-12-04T05:48:02.314733Z",
     "shell.execute_reply": "2022-12-04T05:48:02.313878Z"
    },
    "papermill": {
     "duration": 0.053392,
     "end_time": "2022-12-04T05:48:02.316972",
     "exception": false,
     "start_time": "2022-12-04T05:48:02.263580",
     "status": "completed"
    },
    "tags": []
   },
   "outputs": [],
   "source": [
    "dataset_path = \"dataset\"\n",
    "test_df = pd.read_csv(f\"./{dataset_path}/train/labels.csv\")"
   ]
  },
  {
   "cell_type": "code",
   "execution_count": null,
   "metadata": {
    "execution": {
     "iopub.execute_input": "2022-12-04T05:48:02.333350Z",
     "iopub.status.busy": "2022-12-04T05:48:02.333024Z",
     "iopub.status.idle": "2022-12-04T05:48:02.338159Z",
     "shell.execute_reply": "2022-12-04T05:48:02.337193Z"
    },
    "papermill": {
     "duration": 0.01565,
     "end_time": "2022-12-04T05:48:02.340368",
     "exception": false,
     "start_time": "2022-12-04T05:48:02.324718",
     "status": "completed"
    },
    "tags": []
   },
   "outputs": [],
   "source": [
    "categories = test_df.columns[1:].tolist()\n",
    "print(categories)"
   ]
  },
  {
   "cell_type": "code",
   "execution_count": null,
   "metadata": {
    "execution": {
     "iopub.execute_input": "2022-12-04T05:48:02.443479Z",
     "iopub.status.busy": "2022-12-04T05:48:02.442609Z",
     "iopub.status.idle": "2022-12-04T05:48:02.447750Z",
     "shell.execute_reply": "2022-12-04T05:48:02.446859Z"
    },
    "papermill": {
     "duration": 0.015756,
     "end_time": "2022-12-04T05:48:02.449706",
     "exception": false,
     "start_time": "2022-12-04T05:48:02.433950",
     "status": "completed"
    },
    "tags": []
   },
   "outputs": [],
   "source": [
    "skin_tone_labels = [f\"monk_{i}\" for i in range(1,11)]\n",
    "gender_labels = [\"male\", \"female\"]\n",
    "age_labels = [\"0_17\", \"18_30\", \"31_60\", \"61_100\"]"
   ]
  },
  {
   "cell_type": "code",
   "execution_count": null,
   "metadata": {
    "execution": {
     "iopub.execute_input": "2022-12-04T05:48:02.506352Z",
     "iopub.status.busy": "2022-12-04T05:48:02.505583Z",
     "iopub.status.idle": "2022-12-04T05:48:02.517643Z",
     "shell.execute_reply": "2022-12-04T05:48:02.516724Z"
    },
    "papermill": {
     "duration": 0.022642,
     "end_time": "2022-12-04T05:48:02.519593",
     "exception": false,
     "start_time": "2022-12-04T05:48:02.496951",
     "status": "completed"
    },
    "tags": []
   },
   "outputs": [],
   "source": [
    "#encode test samples\n",
    "test_df['skin_tone'].replace(skin_tone_labels, list(range(len(skin_tone_labels))), inplace=True)\n",
    "test_df['gender'].replace(gender_labels, list(range(len(gender_labels))), inplace=True)\n",
    "test_df['age'].replace(age_labels, list(range(len(age_labels))), inplace=True)"
   ]
  },
  {
   "cell_type": "markdown",
   "metadata": {
    "papermill": {
     "duration": 0.0084,
     "end_time": "2022-12-04T05:48:02.563189",
     "exception": false,
     "start_time": "2022-12-04T05:48:02.554789",
     "status": "completed"
    },
    "tags": []
   },
   "source": [
    "### Building the DataLoader"
   ]
  },
  {
   "cell_type": "code",
   "execution_count": null,
   "metadata": {
    "execution": {
     "iopub.execute_input": "2022-12-04T05:48:02.580254Z",
     "iopub.status.busy": "2022-12-04T05:48:02.579518Z",
     "iopub.status.idle": "2022-12-04T05:48:02.586784Z",
     "shell.execute_reply": "2022-12-04T05:48:02.585978Z"
    },
    "papermill": {
     "duration": 0.018114,
     "end_time": "2022-12-04T05:48:02.588771",
     "exception": false,
     "start_time": "2022-12-04T05:48:02.570657",
     "status": "completed"
    },
    "tags": []
   },
   "outputs": [],
   "source": [
    "class ImageDataset(Dataset):\n",
    "    def __init__(self, df, data_path, image_transform=None):\n",
    "        self.df = df\n",
    "        self.data_path = data_path\n",
    "        self.image_transform = image_transform\n",
    "\n",
    "    def __len__(self):\n",
    "        return len(self.df)\n",
    "    \n",
    "    def __getitem__(self, index):\n",
    "        img = Image.open(f\"{self.data_path}{self.df['name'][index]}\")\n",
    "        if self.image_transform:\n",
    "            img = self.image_transform(img)\n",
    "        return img"
   ]
  },
  {
   "cell_type": "code",
   "execution_count": null,
   "metadata": {},
   "outputs": [],
   "source": [
    "image_transform = transforms.Compose([\n",
    "                                  transforms.ToTensor(),\n",
    "                                  transforms.Normalize((0.485, 0.456, 0.406), (0.229, 0.224, 0.225)),\n",
    "                                         ])\n",
    "#prepare the dataloader for test data\n",
    "test_data = ImageDataset(test_df, f\"./{dataset_path}/test/\", image_transform)\n",
    "test_loader = DataLoader(test_data, batch_size=256, shuffle=False)"
   ]
  },
  {
   "cell_type": "markdown",
   "metadata": {
    "papermill": {
     "duration": 0.007647,
     "end_time": "2022-12-04T05:48:02.653677",
     "exception": false,
     "start_time": "2022-12-04T05:48:02.646030",
     "status": "completed"
    },
    "tags": []
   },
   "source": [
    "## Build the model"
   ]
  },
  {
   "cell_type": "code",
   "execution_count": null,
   "metadata": {
    "execution": {
     "iopub.execute_input": "2022-12-04T05:48:02.670716Z",
     "iopub.status.busy": "2022-12-04T05:48:02.669932Z",
     "iopub.status.idle": "2022-12-04T05:48:02.676309Z",
     "shell.execute_reply": "2022-12-04T05:48:02.675460Z"
    },
    "papermill": {
     "duration": 0.01699,
     "end_time": "2022-12-04T05:48:02.678477",
     "exception": false,
     "start_time": "2022-12-04T05:48:02.661487",
     "status": "completed"
    },
    "tags": []
   },
   "outputs": [],
   "source": [
    "class ClassifierModel(nn.Module):\n",
    "    def __init__(self, num_classes):\n",
    "        super().__init__()\n",
    "        self.backbone = torchvision.models.resnet18(pretrained=True)\n",
    "        self.classifier = nn.Sequential(nn.ReLU(), nn.Linear(1000, 512), nn.ReLU(), nn.Linear(512, num_classes))\n",
    "    def forward(self, x):\n",
    "        x = self.backbone(x)\n",
    "        x = self.classifier(x)\n",
    "        return x"
   ]
  },
  {
   "cell_type": "markdown",
   "metadata": {
    "papermill": {
     "duration": 0.008111,
     "end_time": "2022-12-04T05:48:09.079762",
     "exception": false,
     "start_time": "2022-12-04T05:48:09.071651",
     "status": "completed"
    },
    "tags": []
   },
   "source": [
    "## Helper functions"
   ]
  },
  {
   "cell_type": "code",
   "execution_count": null,
   "metadata": {
    "execution": {
     "iopub.execute_input": "2022-12-04T05:48:09.122392Z",
     "iopub.status.busy": "2022-12-04T05:48:09.122113Z",
     "iopub.status.idle": "2022-12-04T05:48:09.127627Z",
     "shell.execute_reply": "2022-12-04T05:48:09.126688Z"
    },
    "papermill": {
     "duration": 0.016392,
     "end_time": "2022-12-04T05:48:09.129656",
     "exception": false,
     "start_time": "2022-12-04T05:48:09.113264",
     "status": "completed"
    },
    "tags": []
   },
   "outputs": [],
   "source": [
    "def make_predictions(dataloader, model):\n",
    "    model.eval()\n",
    "    predicted_labels = []\n",
    "    with torch.no_grad():\n",
    "        for imgs, _ in dataloader:\n",
    "            output = model(imgs.to(device))\n",
    "            preds = output.argmax(dim=1).cpu().detach().tolist()\n",
    "            predicted_labels.extend(preds)\n",
    "    return predicted_labels"
   ]
  },
  {
   "cell_type": "markdown",
   "metadata": {
    "papermill": {
     "duration": 0.009153,
     "end_time": "2022-12-04T06:41:11.774376",
     "exception": false,
     "start_time": "2022-12-04T06:41:11.765223",
     "status": "completed"
    },
    "tags": []
   },
   "source": [
    "## Make Predictions on Test data"
   ]
  },
  {
   "cell_type": "code",
   "execution_count": null,
   "metadata": {},
   "outputs": [],
   "source": [
    "model_dir = \"saved_models\""
   ]
  },
  {
   "cell_type": "code",
   "execution_count": null,
   "metadata": {},
   "outputs": [],
   "source": [
    "#skintone_predictions\n",
    "skintone_classifier = torch.load(f\"./{model_dir}/skintone_classifier.pt\").to(device)\n",
    "skintone_predictions = make_predictions(test_loader, skintone_classifier)\n",
    "del skintone_classifier"
   ]
  },
  {
   "cell_type": "code",
   "execution_count": null,
   "metadata": {
    "execution": {
     "iopub.execute_input": "2022-12-04T06:41:11.848612Z",
     "iopub.status.busy": "2022-12-04T06:41:11.848326Z",
     "iopub.status.idle": "2022-12-04T06:42:25.910690Z",
     "shell.execute_reply": "2022-12-04T06:42:25.909558Z"
    },
    "papermill": {
     "duration": 74.075497,
     "end_time": "2022-12-04T06:42:25.913727",
     "exception": false,
     "start_time": "2022-12-04T06:41:11.838230",
     "status": "completed"
    },
    "tags": []
   },
   "outputs": [],
   "source": [
    "#gender_predictions\n",
    "gender_classifier = torch.load(f\"./{model_dir}/gender_classifier.pt\").to(device)\n",
    "gender_predictions = make_predictions(test_loader, gender_classifier)\n",
    "del gender_classifier"
   ]
  },
  {
   "cell_type": "code",
   "execution_count": null,
   "metadata": {},
   "outputs": [],
   "source": [
    "#age_predictions\n",
    "age_classifier = torch.load(f\"./{model_dir}/age_classifier.pt\").to(device)\n",
    "age_predictions = make_predictions(test_loader, age_classifier)\n",
    "del age_classifier"
   ]
  },
  {
   "cell_type": "code",
   "execution_count": null,
   "metadata": {
    "execution": {
     "iopub.execute_input": "2022-12-04T06:42:25.935399Z",
     "iopub.status.busy": "2022-12-04T06:42:25.935032Z",
     "iopub.status.idle": "2022-12-04T06:42:25.939687Z",
     "shell.execute_reply": "2022-12-04T06:42:25.938622Z"
    },
    "papermill": {
     "duration": 0.017796,
     "end_time": "2022-12-04T06:42:25.941889",
     "exception": false,
     "start_time": "2022-12-04T06:42:25.924093",
     "status": "completed"
    },
    "tags": []
   },
   "outputs": [],
   "source": [
    "predictions = [skintone_predictions, gender_predictions, age_predictions]"
   ]
  },
  {
   "cell_type": "markdown",
   "metadata": {
    "papermill": {
     "duration": 0.009283,
     "end_time": "2022-12-04T06:42:25.960799",
     "exception": false,
     "start_time": "2022-12-04T06:42:25.951516",
     "status": "completed"
    },
    "tags": []
   },
   "source": [
    "## Prepare Submission"
   ]
  },
  {
   "cell_type": "code",
   "execution_count": null,
   "metadata": {
    "execution": {
     "iopub.execute_input": "2022-12-04T06:42:25.980838Z",
     "iopub.status.busy": "2022-12-04T06:42:25.980519Z",
     "iopub.status.idle": "2022-12-04T06:42:26.037035Z",
     "shell.execute_reply": "2022-12-04T06:42:26.036000Z"
    },
    "papermill": {
     "duration": 0.069277,
     "end_time": "2022-12-04T06:42:26.039484",
     "exception": false,
     "start_time": "2022-12-04T06:42:25.970207",
     "status": "completed"
    },
    "tags": []
   },
   "outputs": [],
   "source": [
    "from sklearn.metrics import accuracy_score, confusion_matrix"
   ]
  },
  {
   "cell_type": "code",
   "execution_count": null,
   "metadata": {
    "execution": {
     "iopub.execute_input": "2022-12-04T06:42:26.062251Z",
     "iopub.status.busy": "2022-12-04T06:42:26.060720Z",
     "iopub.status.idle": "2022-12-04T06:42:26.084822Z",
     "shell.execute_reply": "2022-12-04T06:42:26.083625Z"
    },
    "papermill": {
     "duration": 0.037302,
     "end_time": "2022-12-04T06:42:26.087425",
     "exception": false,
     "start_time": "2022-12-04T06:42:26.050123",
     "status": "completed"
    },
    "tags": []
   },
   "outputs": [],
   "source": [
    "# calculate accuracy\n",
    "acc = {}\n",
    "for i in range(3):\n",
    "    icat = categories[i]\n",
    "    iacc = accuracy_score(test_df[icat], predictions[i])\n",
    "    acc[icat] = iacc\n",
    "\n",
    "# calculate disparity\n",
    "def disparity_score(ytrue, ypred):\n",
    "    cm = confusion_matrix(ytrue,ypred)\n",
    "    cm = cm.astype('float') / cm.sum(axis=1)[:, np.newaxis]\n",
    "    all_acc = list(cm.diagonal())\n",
    "    return max(all_acc) - min(all_acc)\n",
    "\n",
    "disp = {}\n",
    "for i in range(3):\n",
    "    icat = categories[i]\n",
    "    idisp = disparity_score(test_df[icat], predictions[i])\n",
    "    disp[icat] = idisp\n",
    "disp\n",
    "\n",
    "results = {'accuracy': acc, 'disparity': disp}\n",
    "results"
   ]
  },
  {
   "cell_type": "code",
   "execution_count": null,
   "metadata": {
    "execution": {
     "iopub.execute_input": "2022-12-04T06:42:26.108562Z",
     "iopub.status.busy": "2022-12-04T06:42:26.108243Z",
     "iopub.status.idle": "2022-12-04T06:42:26.116722Z",
     "shell.execute_reply": "2022-12-04T06:42:26.115729Z"
    },
    "papermill": {
     "duration": 0.020827,
     "end_time": "2022-12-04T06:42:26.118866",
     "exception": false,
     "start_time": "2022-12-04T06:42:26.098039",
     "status": "completed"
    },
    "tags": []
   },
   "outputs": [],
   "source": [
    "def getScore(results):\n",
    "    acc = results['accuracy']\n",
    "    disp = results['disparity']\n",
    "    ad = 2*acc['gender']*(1-disp['gender']) + 4*acc['age']*(1-disp['age']**2) + 10*acc['skin_tone']*(1-disp['skin_tone']**5)\n",
    "    return ad\n",
    "\n",
    "title = 'Test Submission'\n",
    "    \n",
    "submission = {\n",
    "    'submission_name': title,\n",
    "    'score': getScore(results),\n",
    "    'metrics': results\n",
    "}\n",
    "submission"
   ]
  },
  {
   "cell_type": "code",
   "execution_count": null,
   "metadata": {
    "execution": {
     "iopub.execute_input": "2022-12-04T06:42:26.141069Z",
     "iopub.status.busy": "2022-12-04T06:42:26.139487Z",
     "iopub.status.idle": "2022-12-04T06:42:26.145401Z",
     "shell.execute_reply": "2022-12-04T06:42:26.144477Z"
    },
    "papermill": {
     "duration": 0.018878,
     "end_time": "2022-12-04T06:42:26.147621",
     "exception": false,
     "start_time": "2022-12-04T06:42:26.128743",
     "status": "completed"
    },
    "tags": []
   },
   "outputs": [],
   "source": [
    "import json\n",
    "with open(\"balaji_submission.json\", \"w\") as f:\n",
    "    json.dump(submission, f, indent=4)"
   ]
  },
  {
   "cell_type": "markdown",
   "metadata": {
    "papermill": {
     "duration": 0.009079,
     "end_time": "2022-12-04T06:42:26.166639",
     "exception": false,
     "start_time": "2022-12-04T06:42:26.157560",
     "status": "completed"
    },
    "tags": []
   },
   "source": [
    "---"
   ]
  }
 ],
 "metadata": {
  "kernelspec": {
   "display_name": "Python 3 (ipykernel)",
   "language": "python",
   "name": "python3"
  },
  "language_info": {
   "codemirror_mode": {
    "name": "ipython",
    "version": 3
   },
   "file_extension": ".py",
   "mimetype": "text/x-python",
   "name": "python",
   "nbconvert_exporter": "python",
   "pygments_lexer": "ipython3",
   "version": "3.9.13"
  }
 },
 "nbformat": 4,
 "nbformat_minor": 4
}
